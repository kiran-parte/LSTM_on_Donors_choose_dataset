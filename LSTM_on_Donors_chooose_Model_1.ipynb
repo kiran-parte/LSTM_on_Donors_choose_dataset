{
 "cells": [
  {
   "cell_type": "markdown",
   "metadata": {},
   "source": [
    "# LSTM on Donors Choose dataset -  Model-1"
   ]
  },
  {
   "cell_type": "markdown",
   "metadata": {},
   "source": [
    "<img src='https://i.imgur.com/w395Yk9.png'>\n",
    "ref: https://i.imgur.com/w395Yk9.png"
   ]
  },
  {
   "cell_type": "code",
   "execution_count": 1,
   "metadata": {
    "colab": {},
    "colab_type": "code",
    "id": "5ZA-qj655PaL"
   },
   "outputs": [],
   "source": [
    "from google.colab import drive\n",
    "drive.flush_and_unmount()"
   ]
  },
  {
   "cell_type": "code",
   "execution_count": 2,
   "metadata": {
    "colab": {},
    "colab_type": "code",
    "id": "wS_RKBI54v-q"
   },
   "outputs": [],
   "source": [
    "from google.colab import drive\n",
    "drive.mount('/content/drive', force_remount=True)"
   ]
  },
  {
   "cell_type": "code",
   "execution_count": 3,
   "metadata": {
    "colab": {
     "base_uri": "https://localhost:8080/",
     "height": 972
    },
    "colab_type": "code",
    "id": "bQCgSdBk48rb",
    "outputId": "a14cb1fa-dc5c-4a6e-82b8-bdbfc4fef883"
   },
   "outputs": [
    {
     "name": "stdout",
     "output_type": "stream",
     "text": [
      "TensorFlow 1.x selected.\n"
     ]
    },
    {
     "name": "stderr",
     "output_type": "stream",
     "text": [
      "/usr/local/lib/python3.6/dist-packages/statsmodels/tools/_testing.py:19: FutureWarning: pandas.util.testing is deprecated. Use the functions in the public API at pandas.testing instead.\n",
      "  import pandas.util.testing as tm\n",
      "Using TensorFlow backend.\n"
     ]
    },
    {
     "name": "stdout",
     "output_type": "stream",
     "text": [
      "Requirement already up-to-date: tensorboardcolab in /usr/local/lib/python3.6/dist-packages (0.0.22)\n",
      "Collecting tensorboard\n",
      "\u001b[?25l  Downloading https://files.pythonhosted.org/packages/e9/1b/6a420d7e6ba431cf3d51b2a5bfa06a958c4141e3189385963dc7f6fbffb6/tensorboard-2.3.0-py3-none-any.whl (6.8MB)\n",
      "\u001b[K     |████████████████████████████████| 6.8MB 2.5MB/s \n",
      "\u001b[?25hRequirement already satisfied, skipping upgrade: google-auth<2,>=1.6.3 in /usr/local/lib/python3.6/dist-packages (from tensorboard) (1.17.2)\n",
      "Requirement already satisfied, skipping upgrade: numpy>=1.12.0 in /usr/local/lib/python3.6/dist-packages (from tensorboard) (1.18.5)\n",
      "Requirement already satisfied, skipping upgrade: setuptools>=41.0.0 in /usr/local/lib/python3.6/dist-packages (from tensorboard) (49.1.0)\n",
      "Requirement already satisfied, skipping upgrade: requests<3,>=2.21.0 in /usr/local/lib/python3.6/dist-packages (from tensorboard) (2.23.0)\n",
      "Requirement already satisfied, skipping upgrade: grpcio>=1.24.3 in /usr/local/lib/python3.6/dist-packages (from tensorboard) (1.30.0)\n",
      "Requirement already satisfied, skipping upgrade: absl-py>=0.4 in /usr/local/lib/python3.6/dist-packages (from tensorboard) (0.9.0)\n",
      "Requirement already satisfied, skipping upgrade: markdown>=2.6.8 in /usr/local/lib/python3.6/dist-packages (from tensorboard) (3.2.2)\n",
      "Requirement already satisfied, skipping upgrade: protobuf>=3.6.0 in /usr/local/lib/python3.6/dist-packages (from tensorboard) (3.12.2)\n",
      "Requirement already satisfied, skipping upgrade: tensorboard-plugin-wit>=1.6.0 in /usr/local/lib/python3.6/dist-packages (from tensorboard) (1.7.0)\n",
      "Requirement already satisfied, skipping upgrade: werkzeug>=0.11.15 in /usr/local/lib/python3.6/dist-packages (from tensorboard) (1.0.1)\n",
      "Requirement already satisfied, skipping upgrade: wheel>=0.26; python_version >= \"3\" in /usr/local/lib/python3.6/dist-packages (from tensorboard) (0.34.2)\n",
      "Requirement already satisfied, skipping upgrade: six>=1.10.0 in /usr/local/lib/python3.6/dist-packages (from tensorboard) (1.12.0)\n",
      "Requirement already satisfied, skipping upgrade: google-auth-oauthlib<0.5,>=0.4.1 in /usr/local/lib/python3.6/dist-packages (from tensorboard) (0.4.1)\n",
      "Requirement already satisfied, skipping upgrade: cachetools<5.0,>=2.0.0 in /usr/local/lib/python3.6/dist-packages (from google-auth<2,>=1.6.3->tensorboard) (4.1.1)\n",
      "Requirement already satisfied, skipping upgrade: pyasn1-modules>=0.2.1 in /usr/local/lib/python3.6/dist-packages (from google-auth<2,>=1.6.3->tensorboard) (0.2.8)\n",
      "Requirement already satisfied, skipping upgrade: rsa<5,>=3.1.4; python_version >= \"3\" in /usr/local/lib/python3.6/dist-packages (from google-auth<2,>=1.6.3->tensorboard) (4.6)\n",
      "Requirement already satisfied, skipping upgrade: chardet<4,>=3.0.2 in /usr/local/lib/python3.6/dist-packages (from requests<3,>=2.21.0->tensorboard) (3.0.4)\n",
      "Requirement already satisfied, skipping upgrade: urllib3!=1.25.0,!=1.25.1,<1.26,>=1.21.1 in /usr/local/lib/python3.6/dist-packages (from requests<3,>=2.21.0->tensorboard) (1.24.3)\n",
      "Requirement already satisfied, skipping upgrade: certifi>=2017.4.17 in /usr/local/lib/python3.6/dist-packages (from requests<3,>=2.21.0->tensorboard) (2020.6.20)\n",
      "Requirement already satisfied, skipping upgrade: idna<3,>=2.5 in /usr/local/lib/python3.6/dist-packages (from requests<3,>=2.21.0->tensorboard) (2.10)\n",
      "Requirement already satisfied, skipping upgrade: importlib-metadata; python_version < \"3.8\" in /usr/local/lib/python3.6/dist-packages (from markdown>=2.6.8->tensorboard) (1.7.0)\n",
      "Requirement already satisfied, skipping upgrade: requests-oauthlib>=0.7.0 in /usr/local/lib/python3.6/dist-packages (from google-auth-oauthlib<0.5,>=0.4.1->tensorboard) (1.3.0)\n",
      "Requirement already satisfied, skipping upgrade: pyasn1<0.5.0,>=0.4.6 in /usr/local/lib/python3.6/dist-packages (from pyasn1-modules>=0.2.1->google-auth<2,>=1.6.3->tensorboard) (0.4.8)\n",
      "Requirement already satisfied, skipping upgrade: zipp>=0.5 in /usr/local/lib/python3.6/dist-packages (from importlib-metadata; python_version < \"3.8\"->markdown>=2.6.8->tensorboard) (3.1.0)\n",
      "Requirement already satisfied, skipping upgrade: oauthlib>=3.0.0 in /usr/local/lib/python3.6/dist-packages (from requests-oauthlib>=0.7.0->google-auth-oauthlib<0.5,>=0.4.1->tensorboard) (3.1.0)\n",
      "\u001b[31mERROR: tensorflow 1.15.2 has requirement gast==0.2.2, but you'll have gast 0.3.3 which is incompatible.\u001b[0m\n",
      "\u001b[31mERROR: tensorflow 1.15.2 has requirement tensorboard<1.16.0,>=1.15.0, but you'll have tensorboard 2.3.0 which is incompatible.\u001b[0m\n",
      "Installing collected packages: tensorboard\n",
      "  Found existing installation: tensorboard 1.15.0\n",
      "    Uninstalling tensorboard-1.15.0:\n",
      "      Successfully uninstalled tensorboard-1.15.0\n",
      "Successfully installed tensorboard-2.3.0\n"
     ]
    },
    {
     "data": {
      "application/vnd.colab-display-data+json": {
       "pip_warning": {
        "packages": [
         "tensorboard"
        ]
       }
      }
     },
     "metadata": {
      "tags": []
     },
     "output_type": "display_data"
    },
    {
     "name": "stdout",
     "output_type": "stream",
     "text": [
      "Requirement already satisfied: keras-tqdm in /usr/local/lib/python3.6/dist-packages (2.0.1)\n",
      "Requirement already satisfied: tqdm in /usr/local/lib/python3.6/dist-packages (from keras-tqdm) (4.41.1)\n",
      "Requirement already satisfied: Keras in /usr/local/lib/python3.6/dist-packages (from keras-tqdm) (2.3.1)\n",
      "Requirement already satisfied: pyyaml in /usr/local/lib/python3.6/dist-packages (from Keras->keras-tqdm) (3.13)\n",
      "Requirement already satisfied: keras-preprocessing>=1.0.5 in /usr/local/lib/python3.6/dist-packages (from Keras->keras-tqdm) (1.1.2)\n",
      "Requirement already satisfied: six>=1.9.0 in /usr/local/lib/python3.6/dist-packages (from Keras->keras-tqdm) (1.12.0)\n",
      "Requirement already satisfied: scipy>=0.14 in /usr/local/lib/python3.6/dist-packages (from Keras->keras-tqdm) (1.4.1)\n",
      "Requirement already satisfied: keras-applications>=1.0.6 in /usr/local/lib/python3.6/dist-packages (from Keras->keras-tqdm) (1.0.8)\n",
      "Requirement already satisfied: h5py in /usr/local/lib/python3.6/dist-packages (from Keras->keras-tqdm) (2.10.0)\n",
      "Requirement already satisfied: numpy>=1.9.1 in /usr/local/lib/python3.6/dist-packages (from Keras->keras-tqdm) (1.18.5)\n"
     ]
    }
   ],
   "source": [
    "%tensorflow_version 1.x\n",
    "import numpy as np\n",
    "import pandas as pd\n",
    "import matplotlib.pyplot as plt\n",
    "import seaborn as sns\n",
    "import keras\n",
    "import tensorflow as tf\n",
    "!pip install -U tensorboardcolab\n",
    "!pip install -U tensorboard\n",
    "!pip install keras-tqdm\n",
    "import datetime\n",
    "from tensorboardcolab import *\n",
    "from scipy.sparse import hstack\n",
    "from sklearn.utils import compute_class_weight\n",
    "from tensorflow.keras.layers import Input, Embedding, LSTM, Dropout, BatchNormalization\n",
    "from tensorflow.keras.layers import Dense, concatenate, Flatten, Conv1D\n",
    "from tensorflow.keras.callbacks import ModelCheckpoint, EarlyStopping, TensorBoard, ReduceLROnPlateau\n",
    "from tensorflow.keras.preprocessing.text import Tokenizer\n",
    "from tensorflow.keras.preprocessing.sequence import pad_sequences\n",
    "from tensorflow.keras.models import Model, load_model\n",
    "from tensorflow.keras.optimizers import Adam, SGD\n",
    "from tensorflow.keras import regularizers\n",
    "from tensorflow.keras.utils import to_categorical, plot_model\n",
    "from sklearn.feature_extraction.text import TfidfVectorizer, CountVectorizer\n",
    "from sklearn.model_selection import train_test_split\n",
    "from sklearn.preprocessing import StandardScaler\n",
    "from sklearn.metrics import roc_auc_score\n",
    "from keras_tqdm import TQDMCallback\n",
    "from tensorboardcolab import *\n",
    "from tqdm import tqdm\n",
    "import pickle\n",
    "import warnings\n",
    "warnings.filterwarnings(\"ignore\")\n",
    "%matplotlib inline"
   ]
  },
  {
   "cell_type": "markdown",
   "metadata": {},
   "source": [
    "## Reading Data"
   ]
  },
  {
   "cell_type": "code",
   "execution_count": 4,
   "metadata": {
    "colab": {
     "base_uri": "https://localhost:8080/",
     "height": 264
    },
    "colab_type": "code",
    "id": "QqJLsYFG48oe",
    "outputId": "1acd0ff5-8749-4da2-93fb-406ea7e39f8b"
   },
   "outputs": [
    {
     "data": {
      "text/html": [
       "<div>\n",
       "<style scoped>\n",
       "    .dataframe tbody tr th:only-of-type {\n",
       "        vertical-align: middle;\n",
       "    }\n",
       "\n",
       "    .dataframe tbody tr th {\n",
       "        vertical-align: top;\n",
       "    }\n",
       "\n",
       "    .dataframe thead th {\n",
       "        text-align: right;\n",
       "    }\n",
       "</style>\n",
       "<table border=\"1\" class=\"dataframe\">\n",
       "  <thead>\n",
       "    <tr style=\"text-align: right;\">\n",
       "      <th></th>\n",
       "      <th>teacher_prefix</th>\n",
       "      <th>school_state</th>\n",
       "      <th>project_grade_category</th>\n",
       "      <th>project_subject_categories</th>\n",
       "      <th>project_subject_subcategories</th>\n",
       "      <th>teacher_number_of_previously_posted_projects</th>\n",
       "      <th>project_is_approved</th>\n",
       "      <th>price</th>\n",
       "      <th>quantity</th>\n",
       "      <th>digits_in_project_summary</th>\n",
       "      <th>processed_titles</th>\n",
       "      <th>processed_essays</th>\n",
       "      <th>processed_summary</th>\n",
       "    </tr>\n",
       "  </thead>\n",
       "  <tbody>\n",
       "    <tr>\n",
       "      <th>0</th>\n",
       "      <td>mrs</td>\n",
       "      <td>in</td>\n",
       "      <td>grades_prek_2</td>\n",
       "      <td>literacy_language</td>\n",
       "      <td>esl_literacy</td>\n",
       "      <td>0</td>\n",
       "      <td>0</td>\n",
       "      <td>154.60</td>\n",
       "      <td>23</td>\n",
       "      <td>0</td>\n",
       "      <td>educational support english learners home</td>\n",
       "      <td>students english learners working english seco...</td>\n",
       "      <td>students need opportunities practice beginning...</td>\n",
       "    </tr>\n",
       "    <tr>\n",
       "      <th>1</th>\n",
       "      <td>mr</td>\n",
       "      <td>fl</td>\n",
       "      <td>grades_6_8</td>\n",
       "      <td>history_civics_health_sports</td>\n",
       "      <td>civics_government_teamsports</td>\n",
       "      <td>7</td>\n",
       "      <td>1</td>\n",
       "      <td>299.00</td>\n",
       "      <td>1</td>\n",
       "      <td>0</td>\n",
       "      <td>wanted projector hungry learners</td>\n",
       "      <td>students arrive school eager learn polite gene...</td>\n",
       "      <td>students need projector help viewing education...</td>\n",
       "    </tr>\n",
       "    <tr>\n",
       "      <th>2</th>\n",
       "      <td>ms</td>\n",
       "      <td>az</td>\n",
       "      <td>grades_6_8</td>\n",
       "      <td>health_sports</td>\n",
       "      <td>health_wellness_teamsports</td>\n",
       "      <td>1</td>\n",
       "      <td>0</td>\n",
       "      <td>516.85</td>\n",
       "      <td>22</td>\n",
       "      <td>0</td>\n",
       "      <td>soccer equipment awesome middle school students</td>\n",
       "      <td>true champions not always ones win guts mia ha...</td>\n",
       "      <td>students need shine guards athletic socks socc...</td>\n",
       "    </tr>\n",
       "  </tbody>\n",
       "</table>\n",
       "</div>"
      ],
      "text/plain": [
       "  teacher_prefix  ...                                  processed_summary\n",
       "0            mrs  ...  students need opportunities practice beginning...\n",
       "1             mr  ...  students need projector help viewing education...\n",
       "2             ms  ...  students need shine guards athletic socks socc...\n",
       "\n",
       "[3 rows x 13 columns]"
      ]
     },
     "execution_count": 4,
     "metadata": {
      "tags": []
     },
     "output_type": "execute_result"
    }
   ],
   "source": [
    "data = pd.read_csv('/content/drive/My Drive/LSTM/processed_data.csv')\n",
    "data = data.drop(['Unnamed: 0'], axis=1)\n",
    "data.head(3)"
   ]
  },
  {
   "cell_type": "code",
   "execution_count": 5,
   "metadata": {
    "colab": {
     "base_uri": "https://localhost:8080/",
     "height": 417
    },
    "colab_type": "code",
    "id": "Leh0TQly48jf",
    "outputId": "c69bb66d-4478-4a0f-cb4d-b3f32b130be9"
   },
   "outputs": [
    {
     "data": {
      "text/html": [
       "<div>\n",
       "<style scoped>\n",
       "    .dataframe tbody tr th:only-of-type {\n",
       "        vertical-align: middle;\n",
       "    }\n",
       "\n",
       "    .dataframe tbody tr th {\n",
       "        vertical-align: top;\n",
       "    }\n",
       "\n",
       "    .dataframe thead th {\n",
       "        text-align: right;\n",
       "    }\n",
       "</style>\n",
       "<table border=\"1\" class=\"dataframe\">\n",
       "  <thead>\n",
       "    <tr style=\"text-align: right;\">\n",
       "      <th></th>\n",
       "      <th>teacher_prefix</th>\n",
       "      <th>school_state</th>\n",
       "      <th>project_grade_category</th>\n",
       "      <th>project_subject_categories</th>\n",
       "      <th>project_subject_subcategories</th>\n",
       "      <th>teacher_number_of_previously_posted_projects</th>\n",
       "      <th>project_is_approved</th>\n",
       "      <th>price</th>\n",
       "      <th>quantity</th>\n",
       "      <th>digits_in_project_summary</th>\n",
       "      <th>total_text</th>\n",
       "    </tr>\n",
       "  </thead>\n",
       "  <tbody>\n",
       "    <tr>\n",
       "      <th>0</th>\n",
       "      <td>mrs</td>\n",
       "      <td>in</td>\n",
       "      <td>grades_prek_2</td>\n",
       "      <td>literacy_language</td>\n",
       "      <td>esl_literacy</td>\n",
       "      <td>0</td>\n",
       "      <td>0</td>\n",
       "      <td>154.60</td>\n",
       "      <td>23</td>\n",
       "      <td>0</td>\n",
       "      <td>students english learners working english seco...</td>\n",
       "    </tr>\n",
       "    <tr>\n",
       "      <th>1</th>\n",
       "      <td>mr</td>\n",
       "      <td>fl</td>\n",
       "      <td>grades_6_8</td>\n",
       "      <td>history_civics_health_sports</td>\n",
       "      <td>civics_government_teamsports</td>\n",
       "      <td>7</td>\n",
       "      <td>1</td>\n",
       "      <td>299.00</td>\n",
       "      <td>1</td>\n",
       "      <td>0</td>\n",
       "      <td>students arrive school eager learn polite gene...</td>\n",
       "    </tr>\n",
       "    <tr>\n",
       "      <th>2</th>\n",
       "      <td>ms</td>\n",
       "      <td>az</td>\n",
       "      <td>grades_6_8</td>\n",
       "      <td>health_sports</td>\n",
       "      <td>health_wellness_teamsports</td>\n",
       "      <td>1</td>\n",
       "      <td>0</td>\n",
       "      <td>516.85</td>\n",
       "      <td>22</td>\n",
       "      <td>0</td>\n",
       "      <td>true champions not always ones win guts mia ha...</td>\n",
       "    </tr>\n",
       "  </tbody>\n",
       "</table>\n",
       "</div>"
      ],
      "text/plain": [
       "  teacher_prefix  ...                                         total_text\n",
       "0            mrs  ...  students english learners working english seco...\n",
       "1             mr  ...  students arrive school eager learn polite gene...\n",
       "2             ms  ...  true champions not always ones win guts mia ha...\n",
       "\n",
       "[3 rows x 11 columns]"
      ]
     },
     "execution_count": 5,
     "metadata": {
      "tags": []
     },
     "output_type": "execute_result"
    }
   ],
   "source": [
    "data['total_text'] = data['processed_essays'].map(str) +\\\n",
    "                    ' ' + data['processed_titles'].map(str) +\\\n",
    "                    ' ' + data['processed_summary'].map(str)\n",
    "\n",
    "data = data.drop(['processed_essays','processed_titles','processed_summary'], axis=1)\n",
    "data.head(3)"
   ]
  },
  {
   "cell_type": "code",
   "execution_count": 6,
   "metadata": {
    "colab": {},
    "colab_type": "code",
    "id": "twg7c_HP48gZ"
   },
   "outputs": [],
   "source": [
    "X = data.drop(['project_is_approved'], axis=1)\n",
    "Y = data['project_is_approved']"
   ]
  },
  {
   "cell_type": "code",
   "execution_count": 7,
   "metadata": {
    "colab": {},
    "colab_type": "code",
    "id": "DuYgKqiL48dw"
   },
   "outputs": [],
   "source": [
    "x_train, x_test, y_train, y_test = train_test_split(X, Y, stratify=Y, test_size=0.3, random_state=0)\n",
    "x_train, x_val, y_train, y_val = train_test_split(x_train, y_train, stratify=y_train, test_size=0.2, random_state=0)"
   ]
  },
  {
   "cell_type": "code",
   "execution_count": 8,
   "metadata": {
    "colab": {
     "base_uri": "https://localhost:8080/",
     "height": 68
    },
    "colab_type": "code",
    "id": "u1wJLpbW48av",
    "outputId": "384a5668-03ad-4928-803a-0523ce14bfd5"
   },
   "outputs": [
    {
     "name": "stdout",
     "output_type": "stream",
     "text": [
      "Train Data Set (61178, 10) (61178,)\n",
      "Test Data Set (32775, 10) (32775,)\n",
      "Validation Data Set (15295, 10) (15295,)\n"
     ]
    }
   ],
   "source": [
    "print('Train Data Set', x_train.shape, y_train.shape)\n",
    "print('Test Data Set', x_test.shape, y_test.shape)\n",
    "print('Validation Data Set', x_val.shape, y_val.shape)"
   ]
  },
  {
   "cell_type": "code",
   "execution_count": 9,
   "metadata": {
    "colab": {},
    "colab_type": "code",
    "id": "mg6t4IMw48Xs"
   },
   "outputs": [],
   "source": [
    "y_train = to_categorical(y_train)\n",
    "y_test = to_categorical(y_test)\n",
    "y_val = to_categorical(y_val)\n",
    "\n",
    "#computing class weights\n",
    "class_weights = compute_class_weight(\"balanced\", classes= np.unique(Y),y=Y)"
   ]
  },
  {
   "cell_type": "markdown",
   "metadata": {
    "colab": {},
    "colab_type": "code",
    "id": "oUWo-b9O48VB"
   },
   "source": [
    "## Encoding Text Data"
   ]
  },
  {
   "cell_type": "code",
   "execution_count": 11,
   "metadata": {
    "colab": {},
    "colab_type": "code",
    "id": "kLwbPuOt48SH"
   },
   "outputs": [],
   "source": [
    "def encoding_padding(input_text, max_length):\n",
    "    encoded_data = tokenizer.texts_to_sequences(input_text)\n",
    "    padded_data = pad_sequences(encoded_data, maxlen=max_length, padding='post')\n",
    "    return padded_data"
   ]
  },
  {
   "cell_type": "code",
   "execution_count": 12,
   "metadata": {
    "colab": {
     "base_uri": "https://localhost:8080/",
     "height": 68
    },
    "colab_type": "code",
    "id": "lO8VIRay48J4",
    "outputId": "f96c4673-7ab8-4c3c-dfc9-3b4cf550907a"
   },
   "outputs": [
    {
     "name": "stdout",
     "output_type": "stream",
     "text": [
      "(61178, 334)\n",
      "(32775, 334)\n",
      "(15295, 334)\n"
     ]
    }
   ],
   "source": [
    "train_text = x_train[\"total_text\"].values.tolist()\n",
    "test_text = x_test['total_text'].values.tolist()\n",
    "val_text = x_val['total_text'].values.tolist()\n",
    "\n",
    "tokenizer = Tokenizer()\n",
    "tokenizer.fit_on_texts(train_text)\n",
    "vocab_size = len(tokenizer.word_index) + 1\n",
    "\n",
    "max_length = len(max(data[\"total_text\"], key=len).split(' '))\n",
    "train_text_encode = encoding_padding(train_text,  max_length=max_length)\n",
    "test_text_encode = encoding_padding(test_text, max_length=max_length)\n",
    "val_text_encode = encoding_padding(val_text, max_length=max_length)\n",
    "\n",
    "print(train_text_encode.shape)\n",
    "print(test_text_encode.shape)\n",
    "print(val_text_encode.shape)"
   ]
  },
  {
   "cell_type": "code",
   "execution_count": 13,
   "metadata": {
    "colab": {},
    "colab_type": "code",
    "id": "gYT2jvXU48Hu"
   },
   "outputs": [],
   "source": [
    "glove_vector = open(\"/content/drive/My Drive/LSTM/glove_vectors\",\"rb\")\n",
    "glove_words = pickle.load(glove_vector)"
   ]
  },
  {
   "cell_type": "code",
   "execution_count": 14,
   "metadata": {
    "colab": {},
    "colab_type": "code",
    "id": "WpWcNySG48Fc"
   },
   "outputs": [],
   "source": [
    "embedding_matrix = np.zeros((vocab_size, 300))\n",
    "for word, i in tokenizer.word_index.items():\n",
    "    embedding_vector = glove_words.get(word)\n",
    "    if embedding_vector is not None:\n",
    "        embedding_matrix[i] = embedding_vector"
   ]
  },
  {
   "cell_type": "code",
   "execution_count": 15,
   "metadata": {
    "colab": {
     "base_uri": "https://localhost:8080/",
     "height": 1000
    },
    "colab_type": "code",
    "id": "l8xMjRPx48C2",
    "outputId": "df5e7c47-d8d7-477d-e633-fbe1ffca715c"
   },
   "outputs": [
    {
     "name": "stdout",
     "output_type": "stream",
     "text": [
      "(48594, 300)\n"
     ]
    },
    {
     "data": {
      "text/plain": [
       "array([ 1.4377e-01, -6.5133e-02, -2.1781e-01, -2.4808e-01, -1.2179e-01,\n",
       "        3.1336e-01, -4.3278e+00, -2.1137e-01, -3.0138e-01, -2.8123e-01,\n",
       "        1.5955e-01,  2.7166e-01, -6.3414e-02,  3.6912e-01, -1.8217e-01,\n",
       "        9.0182e-02, -1.6787e-01, -5.5550e-01, -1.0691e-01, -1.6809e-01,\n",
       "       -1.0562e-02,  2.5915e-01, -2.4908e-01, -1.6915e-01, -2.0709e-02,\n",
       "       -1.9387e-01,  1.5245e-01, -4.3073e-01,  8.6042e-03,  1.0608e-01,\n",
       "       -5.4051e-01, -1.2944e-01,  1.8277e-01,  2.3057e-02, -4.1211e-01,\n",
       "       -2.1498e-01, -2.1206e-01, -2.6008e-01,  7.7856e-02, -1.5617e-01,\n",
       "       -2.7840e-01,  1.7056e-01,  2.4112e-01, -9.0337e-02, -4.3709e-01,\n",
       "        3.9414e-01, -1.0985e-03, -2.0857e-01, -6.2051e-02, -8.2285e-03,\n",
       "       -1.6007e-01, -3.5323e-01,  4.5470e-01, -1.5167e-01,  1.5110e-01,\n",
       "        6.7285e-02,  2.9957e-01, -1.2820e-01, -2.0130e-01,  4.4172e-01,\n",
       "        8.4994e-02, -8.0869e-02, -1.2427e-01,  1.4703e-01, -2.4874e-01,\n",
       "       -1.6326e-01,  9.8573e-03,  2.3159e-01,  1.4156e-01, -1.2675e-01,\n",
       "       -3.7943e-01,  2.0688e-01,  3.0604e-01, -4.5368e-02,  3.1653e-02,\n",
       "       -4.0744e-01,  3.3272e-02,  4.4265e-01,  7.0223e-02,  2.2182e-01,\n",
       "        3.2650e-01, -6.9482e-01, -5.5469e-02, -1.3028e-02, -2.1524e-01,\n",
       "        4.8597e-02,  1.7750e-01, -9.3569e-02,  1.3765e-01, -4.7765e-02,\n",
       "        3.7401e-01, -1.0280e-01, -2.4399e-01,  2.7451e-02, -2.5921e-02,\n",
       "       -4.5345e-01, -2.8176e+00, -1.1153e-01,  2.1452e-01, -3.8888e-01,\n",
       "        1.7853e-01,  1.4937e-01,  1.6404e-01, -2.3368e-01, -1.1948e-01,\n",
       "        2.9130e-01, -2.4858e-01, -1.2102e+00,  3.5314e-03, -3.0826e-01,\n",
       "        9.4326e-02,  2.5245e-01,  5.7532e-02,  1.8199e-01, -1.1054e-01,\n",
       "       -3.7964e-01,  9.7270e-02,  2.5358e-02,  1.7979e-01,  2.0306e-01,\n",
       "        2.8380e-01,  3.0155e-02, -1.0352e-01, -2.2078e-01, -2.2439e-01,\n",
       "        5.7614e-02,  1.0560e-01, -8.0148e-02,  3.1641e-02, -9.6148e-02,\n",
       "       -5.2713e-01, -1.0393e-01, -9.2343e-02,  2.6845e-01, -6.0706e-03,\n",
       "       -2.3941e-02,  7.3174e-02,  1.9879e-01,  2.0878e-01,  5.1708e-01,\n",
       "        4.2686e-02,  3.1528e-01,  1.7684e-01, -3.4072e-01,  2.8634e-02,\n",
       "       -4.2919e-01,  1.6618e-01, -2.5866e-01,  2.9273e-01, -1.9169e-01,\n",
       "        1.8456e-01,  4.1324e-02, -1.1287e-01, -7.2187e-02,  2.9547e-01,\n",
       "        1.5062e-02,  3.6863e-01, -1.2324e-01, -3.7646e-01,  2.1230e-01,\n",
       "       -4.8653e-01, -1.2948e-01, -4.3044e-02, -2.6515e-01, -9.5165e-02,\n",
       "        4.0430e-01, -3.7367e-01, -3.8519e-01,  5.6704e-01, -1.6512e-01,\n",
       "       -1.3204e-01,  1.7362e-01, -3.1029e-01,  1.4470e-01, -2.4645e-01,\n",
       "        5.1336e-01,  1.9568e-01, -6.1980e-02,  6.9062e-02, -1.9490e-01,\n",
       "        1.4803e-01,  1.6505e-01,  6.9851e-02, -1.3747e-01, -2.2200e-01,\n",
       "       -2.6618e-01, -1.1149e-01, -2.5511e-02,  2.6466e-01, -1.4162e-01,\n",
       "        8.2184e-02, -8.9478e-02, -2.2855e-01, -4.3531e-01, -9.6088e-02,\n",
       "        9.2781e-02, -2.6402e-01, -3.0127e-01, -3.1069e-01, -3.8897e-01,\n",
       "        5.6159e-02,  2.7171e-01,  6.7308e-02,  1.0175e-01,  5.8810e-02,\n",
       "        1.8564e-01, -2.8909e-02, -4.8856e-01,  2.5780e-01,  3.7361e-01,\n",
       "       -1.8153e-01,  5.4865e-02,  2.2561e-01, -1.9603e-01,  1.5613e-01,\n",
       "       -1.3788e-01, -2.6072e-01,  1.2324e-01,  4.6572e-01,  4.7588e-01,\n",
       "        1.6405e-02, -3.1799e-01,  2.2269e-01,  1.1429e-01, -2.3420e+00,\n",
       "        5.8351e-03,  4.9080e-01,  2.6391e-01, -8.1884e-02, -4.6586e-01,\n",
       "       -4.4352e-02, -1.3515e-02, -3.9974e-02,  1.6290e-01, -1.4288e-01,\n",
       "       -2.1226e-01, -2.0458e-01, -3.3588e-03, -2.0735e-01, -1.4858e-03,\n",
       "        1.0026e-02,  2.4280e-01, -1.0073e-01, -2.4147e-01, -1.6470e-01,\n",
       "       -8.9780e-02, -5.1440e-01,  9.7078e-02, -3.6397e-02,  7.6082e-02,\n",
       "        2.6093e-01,  2.0119e-01,  3.3484e-02,  1.5762e-01, -8.7250e-02,\n",
       "       -7.8692e-02,  1.3709e-02, -5.8213e-01,  4.7853e-02, -6.7412e-02,\n",
       "        8.4312e-02,  2.2717e-01, -7.1591e-02,  8.6835e-02,  3.0191e-01,\n",
       "       -8.1407e-02, -8.8999e-02,  2.3282e-01,  5.5607e-02,  1.6728e-01,\n",
       "       -8.8697e-02,  2.7313e-01,  1.1961e-01, -1.1778e-01,  6.8697e-02,\n",
       "       -8.7354e-02,  2.1610e-01,  3.2793e-01,  2.5127e-03,  1.3739e-01,\n",
       "        6.0549e-01,  4.2309e-01, -1.4118e-01,  1.8824e-01,  3.2279e-02,\n",
       "        2.8487e-01, -1.5870e-01, -1.3554e-01,  2.6818e-02,  5.5734e-01,\n",
       "        3.0074e-01, -4.5404e-01, -3.5287e-02, -4.5221e-01,  1.5901e-01,\n",
       "       -3.1261e-01, -2.3326e-01,  3.9987e-02,  3.4641e-01,  1.3764e-01])"
      ]
     },
     "execution_count": 15,
     "metadata": {
      "tags": []
     },
     "output_type": "execute_result"
    }
   ],
   "source": [
    "print(embedding_matrix.shape)\n",
    "embedding_matrix[10]"
   ]
  },
  {
   "cell_type": "code",
   "execution_count": 16,
   "metadata": {
    "colab": {
     "base_uri": "https://localhost:8080/",
     "height": 139
    },
    "colab_type": "code",
    "id": "ZgxSGDV647_F",
    "outputId": "4e948574-8a44-4868-b91c-6e9857d87af3"
   },
   "outputs": [
    {
     "name": "stdout",
     "output_type": "stream",
     "text": [
      "WARNING:tensorflow:From /tensorflow-1.15.2/python3.6/tensorflow_core/python/keras/initializers.py:119: calling RandomUniform.__init__ (from tensorflow.python.ops.init_ops) with dtype is deprecated and will be removed in a future version.\n",
      "Instructions for updating:\n",
      "Call initializer instance with the dtype argument instead of passing it to the constructor\n",
      "WARNING:tensorflow:From /tensorflow-1.15.2/python3.6/tensorflow_core/python/ops/resource_variable_ops.py:1630: calling BaseResourceVariable.__init__ (from tensorflow.python.ops.resource_variable_ops) with constraint is deprecated and will be removed in a future version.\n",
      "Instructions for updating:\n",
      "If using Keras pass *_constraint arguments to layers.\n"
     ]
    }
   ],
   "source": [
    "input_text = Input(shape=(train_text_encode.shape[1],), name='input_text')\n",
    "\n",
    "x1 =Embedding(input_dim=vocab_size, output_dim=embedding_matrix.shape[1], weights=[embedding_matrix], input_length=train_text_encode.shape[1], trainable=False, name='embed_text')(input_text)\n",
    "x1 = LSTM(128,kernel_regularizer=regularizers.l2(0.001),return_sequences=True)(x1)\n",
    "\n",
    "layer_1 = Flatten()(x1)"
   ]
  },
  {
   "cell_type": "markdown",
   "metadata": {
    "colab": {},
    "colab_type": "code",
    "id": "aVm4ebpQ478P"
   },
   "source": [
    "## Encoding Categorical features"
   ]
  },
  {
   "cell_type": "code",
   "execution_count": 17,
   "metadata": {
    "colab": {
     "base_uri": "https://localhost:8080/",
     "height": 102
    },
    "colab_type": "code",
    "id": "XPMzMHl4470t",
    "outputId": "055864b0-c444-4755-99f9-350854138388"
   },
   "outputs": [
    {
     "name": "stdout",
     "output_type": "stream",
     "text": [
      "Unique Categories: 5 Embedding Size: 4\n",
      "--------------------------------------------------\n",
      "(61178, 1)\n",
      "(32775, 1)\n",
      "(15295, 1)\n"
     ]
    }
   ],
   "source": [
    "tokenizer = Tokenizer()\n",
    "tokenizer.fit_on_texts(x_train[\"teacher_prefix\"].values.tolist())\n",
    "\n",
    "no_unique_prefix  = x_train[\"teacher_prefix\"].nunique()\n",
    "embed_prefix_size = int(min(np.ceil((no_unique_prefix)/2+1), 50 ))\n",
    "print('Unique Categories:', no_unique_prefix,'Embedding Size:', embed_prefix_size)\n",
    "\n",
    "print('-'*50)\n",
    "\n",
    "input_prefix = Input(shape=(1,),name=\"teacher_prefix\")\n",
    "x2 = Embedding(input_dim=no_unique_prefix+1, output_dim=embed_prefix_size+1, name=\"embed_prefix\", trainable=True)(input_prefix)\n",
    "layer_2 = Flatten()(x2)\n",
    "\n",
    "train_prefix_encode = encoding_padding(x_train[\"teacher_prefix\"], max_length=1)\n",
    "test_prefix_encode = encoding_padding(x_test[\"teacher_prefix\"], max_length=1)\n",
    "val_prefix_encode = encoding_padding(x_val[\"teacher_prefix\"], max_length=1)\n",
    "\n",
    "print(train_prefix_encode.shape)\n",
    "print(test_prefix_encode.shape)\n",
    "print(val_prefix_encode.shape)"
   ]
  },
  {
   "cell_type": "code",
   "execution_count": 18,
   "metadata": {
    "colab": {
     "base_uri": "https://localhost:8080/",
     "height": 102
    },
    "colab_type": "code",
    "id": "AQJuo9pC47tM",
    "outputId": "9be78339-cdd5-4e93-9101-a15bb3852dd7"
   },
   "outputs": [
    {
     "name": "stdout",
     "output_type": "stream",
     "text": [
      "Unique Categories: 51 Embedding Size: 27\n",
      "--------------------------------------------------\n",
      "(61178, 1)\n",
      "(32775, 1)\n",
      "(15295, 1)\n"
     ]
    }
   ],
   "source": [
    "tokenizer = Tokenizer()\n",
    "tokenizer.fit_on_texts(x_train[\"school_state\"].values.tolist())\n",
    "\n",
    "no_unique_state  = x_train[\"school_state\"].nunique()\n",
    "embed_state_size = int(min(np.ceil((no_unique_state)/2+1), 50 ))\n",
    "print('Unique Categories:', no_unique_state,'Embedding Size:', embed_state_size)\n",
    "\n",
    "print('-'*50)\n",
    "\n",
    "input_state = Input(shape=(1,),name=\"school_state\")\n",
    "x3 = Embedding(input_dim=no_unique_state+1, output_dim=embed_state_size+1, name=\"embed_state\", trainable=True)(input_state)\n",
    "layer_3 = Flatten()(x3)\n",
    "\n",
    "train_state_encode = encoding_padding(x_train[\"school_state\"], max_length=1)\n",
    "test_state_encode = encoding_padding(x_test[\"school_state\"], max_length=1)\n",
    "val_state_encode = encoding_padding(x_val[\"school_state\"], max_length=1)\n",
    "\n",
    "print(train_state_encode.shape)\n",
    "print(test_state_encode.shape)\n",
    "print(val_state_encode.shape)"
   ]
  },
  {
   "cell_type": "code",
   "execution_count": 19,
   "metadata": {
    "colab": {
     "base_uri": "https://localhost:8080/",
     "height": 102
    },
    "colab_type": "code",
    "id": "iLETIgT447m5",
    "outputId": "52688c89-b6d0-4396-fc4b-76dd30d9f401"
   },
   "outputs": [
    {
     "name": "stdout",
     "output_type": "stream",
     "text": [
      "Unique Categories: 4 Embedding Size: 3\n",
      "--------------------------------------------------\n",
      "(61178, 1)\n",
      "(32775, 1)\n",
      "(15295, 1)\n"
     ]
    }
   ],
   "source": [
    "tokenizer = Tokenizer()\n",
    "tokenizer.fit_on_texts(x_train[\"project_grade_category\"].values.tolist())\n",
    "\n",
    "no_unique_grade  = x_train[\"project_grade_category\"].nunique()\n",
    "embed_grade_size = int(min(np.ceil((no_unique_grade)/2+1), 50 ))\n",
    "print('Unique Categories:', no_unique_grade,'Embedding Size:', embed_grade_size)\n",
    "\n",
    "print('-'*50)\n",
    "\n",
    "input_grade = Input(shape=(1,),name=\"grade\")\n",
    "x4 = Embedding(input_dim=no_unique_grade+1, output_dim=embed_grade_size+1, name=\"embed_grade\", trainable=True)(input_grade)\n",
    "layer_4 = Flatten()(x4)\n",
    "\n",
    "train_grade_encode = encoding_padding(x_train[\"project_grade_category\"], max_length=1)\n",
    "test_grade_encode = encoding_padding(x_test[\"project_grade_category\"], max_length=1)\n",
    "val_grade_encode = encoding_padding(x_val[\"project_grade_category\"], max_length=1)\n",
    "\n",
    "print(train_grade_encode.shape)\n",
    "print(test_grade_encode.shape)\n",
    "print(val_grade_encode.shape)"
   ]
  },
  {
   "cell_type": "code",
   "execution_count": 20,
   "metadata": {
    "colab": {
     "base_uri": "https://localhost:8080/",
     "height": 102
    },
    "colab_type": "code",
    "id": "m5GWdIwI47bn",
    "outputId": "d2b7e54e-98dc-4e3a-ef15-ce902d20256d"
   },
   "outputs": [
    {
     "name": "stdout",
     "output_type": "stream",
     "text": [
      "Unique Categories: 51 Embedding Size: 27\n",
      "--------------------------------------------------\n",
      "(61178, 1)\n",
      "(32775, 1)\n",
      "(15295, 1)\n"
     ]
    }
   ],
   "source": [
    "tokenizer = Tokenizer()\n",
    "tokenizer.fit_on_texts(x_train[\"project_subject_categories\"].values.tolist())\n",
    "\n",
    "no_unique_cat  = x_train[\"project_subject_categories\"].nunique()\n",
    "embed_cat_size = int(min(np.ceil((no_unique_cat)/2+1), 50 ))\n",
    "print('Unique Categories:', no_unique_cat ,'Embedding Size:', embed_cat_size)\n",
    "\n",
    "print('-'*50)\n",
    "\n",
    "input_cat= Input(shape=(1,),name=\"subject_categories\")\n",
    "x5 = Embedding(input_dim=no_unique_cat+1, output_dim=embed_cat_size+1, name=\"embed_cat\", trainable=True)(input_cat)\n",
    "layer_5 = Flatten()(x5)\n",
    "\n",
    "train_cat_encode = encoding_padding(x_train[\"project_subject_categories\"], max_length=1)\n",
    "test_cat_encode = encoding_padding(x_test[\"project_subject_categories\"], max_length=1)\n",
    "val_cat_encode = encoding_padding(x_val[\"project_subject_categories\"], max_length=1)\n",
    "\n",
    "print(train_cat_encode.shape)\n",
    "print(test_cat_encode.shape)\n",
    "print(val_cat_encode.shape)"
   ]
  },
  {
   "cell_type": "code",
   "execution_count": 21,
   "metadata": {
    "colab": {
     "base_uri": "https://localhost:8080/",
     "height": 102
    },
    "colab_type": "code",
    "id": "6CU_6plp47R_",
    "outputId": "1f9654d7-1e1d-45fa-aa1e-92860fb9a65d"
   },
   "outputs": [
    {
     "name": "stdout",
     "output_type": "stream",
     "text": [
      "Unique Categories: 390 Embedding Size: 50\n",
      "--------------------------------------------------\n",
      "(61178, 1)\n",
      "(32775, 1)\n",
      "(15295, 1)\n"
     ]
    }
   ],
   "source": [
    "tokenizer = Tokenizer()\n",
    "tokenizer.fit_on_texts(x_train[\"project_subject_subcategories\"].values.tolist())\n",
    "\n",
    "no_unique_subcat  = x_train[\"project_subject_subcategories\"].nunique()\n",
    "embed_subcat_size = int(min(np.ceil((no_unique_subcat)/2+1), 50 ))\n",
    "print('Unique Categories:', no_unique_subcat ,'Embedding Size:', embed_subcat_size)\n",
    "\n",
    "print('-'*50)\n",
    "\n",
    "input_subcat= Input(shape=(1,),name=\"subject_subcategories\")\n",
    "x6 = Embedding(input_dim=no_unique_subcat+1, output_dim=embed_subcat_size, name=\"embed_subcat\", trainable=True)(input_subcat)\n",
    "layer_6 = Flatten()(x6)\n",
    "\n",
    "train_subcat_encode = encoding_padding(x_train[\"project_subject_subcategories\"], max_length=1)\n",
    "test_subcat_encode = encoding_padding(x_test[\"project_subject_subcategories\"], max_length=1)\n",
    "val_subcat_encode = encoding_padding(x_val[\"project_subject_subcategories\"], max_length=1)\n",
    "\n",
    "print(train_subcat_encode.shape)\n",
    "print(test_subcat_encode.shape)\n",
    "print(val_subcat_encode.shape)"
   ]
  },
  {
   "cell_type": "markdown",
   "metadata": {
    "colab": {},
    "colab_type": "code",
    "id": "18UMorfm47M0"
   },
   "source": [
    "## Scaling Numerical features"
   ]
  },
  {
   "cell_type": "code",
   "execution_count": 22,
   "metadata": {
    "colab": {
     "base_uri": "https://localhost:8080/",
     "height": 68
    },
    "colab_type": "code",
    "id": "t8CKOUbl47JV",
    "outputId": "f31a741a-3fb3-4997-a02b-fad12d2c39ea"
   },
   "outputs": [
    {
     "name": "stdout",
     "output_type": "stream",
     "text": [
      "(61178, 4)\n",
      "(32775, 4)\n",
      "(15295, 4)\n"
     ]
    }
   ],
   "source": [
    "train_remaining_input = np.concatenate((x_train['price'].values.reshape(-1,1),\n",
    "                                  x_train['quantity'].values.reshape(-1,1),\n",
    "                                  x_train['teacher_number_of_previously_posted_projects'].values.reshape(-1,1),\n",
    "                                  x_train['digits_in_project_summary'].values.reshape(-1,1)), axis=1)\n",
    "\n",
    "test_remaining_input = np.concatenate((x_test['price'].values.reshape(-1,1),\n",
    "                                  x_test['quantity'].values.reshape(-1,1),\n",
    "                                  x_test['teacher_number_of_previously_posted_projects'].values.reshape(-1,1),\n",
    "                                  x_test['digits_in_project_summary'].values.reshape(-1,1)), axis=1)\n",
    "\n",
    "val_remaining_input = np.concatenate((x_val['price'].values.reshape(-1,1),\n",
    "                                  x_val['quantity'].values.reshape(-1,1),\n",
    "                                  x_val['teacher_number_of_previously_posted_projects'].values.reshape(-1,1),\n",
    "                                  x_val['digits_in_project_summary'].values.reshape(-1,1)), axis=1)\n",
    "\n",
    "print(train_remaining_input.shape)\n",
    "print(test_remaining_input.shape)\n",
    "print(val_remaining_input.shape)"
   ]
  },
  {
   "cell_type": "code",
   "execution_count": 23,
   "metadata": {
    "colab": {
     "base_uri": "https://localhost:8080/",
     "height": 68
    },
    "colab_type": "code",
    "id": "_DPACTpl47Ab",
    "outputId": "4d73b1e6-2f7d-43ef-c5b1-5c09f0961d6b"
   },
   "outputs": [
    {
     "name": "stdout",
     "output_type": "stream",
     "text": [
      "(61178, 4)\n",
      "(32775, 4)\n",
      "(15295, 4)\n"
     ]
    }
   ],
   "source": [
    "scaler = StandardScaler()\n",
    "\n",
    "train_rem_input = scaler.fit_transform(train_remaining_input)\n",
    "test_rem_input = scaler.transform(test_remaining_input)\n",
    "val_rem_input = scaler.transform(val_remaining_input)\n",
    "\n",
    "num_feats = Input(shape=(4,), name=\"numerical_features\")\n",
    "layer_7 = Dense(100,activation=\"relu\",kernel_initializer=\"he_normal\",kernel_regularizer=regularizers.l2(0.001))(num_feats)\n",
    "\n",
    "print(train_rem_input.shape)\n",
    "print(test_rem_input.shape)\n",
    "print(val_rem_input.shape)"
   ]
  },
  {
   "cell_type": "markdown",
   "metadata": {
    "colab": {},
    "colab_type": "code",
    "id": "-Sclmbsl4695"
   },
   "source": [
    "## LSTM Model"
   ]
  },
  {
   "cell_type": "code",
   "execution_count": 24,
   "metadata": {
    "colab": {},
    "colab_type": "code",
    "id": "Hb1BdTlb4659"
   },
   "outputs": [],
   "source": [
    "x_concat = concatenate([layer_1, layer_2, layer_3, layer_4, layer_5, layer_6, layer_7])\n",
    "\n",
    "x = Dense(128,activation=\"relu\", kernel_initializer=\"he_normal\",kernel_regularizer=regularizers.l2(0.001))(x_concat)\n",
    "x = Dropout(0.4)(x)\n",
    "x = Dense(256,activation=\"relu\",kernel_initializer=\"he_normal\",kernel_regularizer=regularizers.l2(0.001))(x)\n",
    "x = Dropout(0.4)(x)\n",
    "x = Dense(64,activation=\"relu\", kernel_initializer=\"he_normal\",kernel_regularizer=regularizers.l2(0.001))(x)\n",
    "x = BatchNormalization()(x)\n",
    "\n",
    "output = Dense(2, activation='softmax', name='Output')(x)"
   ]
  },
  {
   "cell_type": "code",
   "execution_count": 25,
   "metadata": {
    "colab": {},
    "colab_type": "code",
    "id": "NYNx-ktV4606"
   },
   "outputs": [],
   "source": [
    "train_data = [train_text_encode, train_prefix_encode, train_state_encode, train_grade_encode,\n",
    "              train_cat_encode, train_subcat_encode, train_rem_input]\n",
    "\n",
    "test_data = [test_text_encode, test_prefix_encode, test_state_encode, test_grade_encode,\n",
    "             test_cat_encode, test_subcat_encode, test_rem_input]\n",
    "\n",
    "val_data = [val_text_encode, val_prefix_encode, val_state_encode, val_grade_encode,\n",
    "            val_cat_encode, val_subcat_encode, val_rem_input]\n",
    "\n",
    "model_input = [input_text,input_prefix,input_state,input_grade,input_cat,input_subcat,num_feats]\n",
    "\n",
    "model_output = [output]"
   ]
  },
  {
   "cell_type": "code",
   "execution_count": 26,
   "metadata": {
    "colab": {},
    "colab_type": "code",
    "id": "ur4ZDMyK46r6"
   },
   "outputs": [],
   "source": [
    "from keras_tqdm import TQDMNotebookCallback\n",
    "def border_msg(msg):\n",
    "    row = len(msg)\n",
    "    h = ''.join(['+'] + ['-' *row] + ['+'])\n",
    "    result= h + '\\n'\"|\"+msg+\"|\"'\\n' + h\n",
    "    print(result)\n",
    "  \n",
    "class TqdmCallbackFix(TQDMNotebookCallback):\n",
    "    def _implements_train_batch_hooks(self): return True\n",
    "    def _implements_test_batch_hooks(self): return True\n",
    "    def _implements_predict_batch_hooks(self): return True"
   ]
  },
  {
   "cell_type": "code",
   "execution_count": 27,
   "metadata": {
    "colab": {},
    "colab_type": "code",
    "id": "8ok5tB3D46pD"
   },
   "outputs": [],
   "source": [
    "def auc_score(y_true, y_pred):\n",
    "    if len(np.unique(y_true[:,1])) == 1:\n",
    "        return 0.5\n",
    "    else:\n",
    "        return roc_auc_score(y_true, y_pred)\n",
    "\n",
    "def auc(y_true, y_pred):\n",
    "    return tf.py_function(auc_score, (y_true, y_pred), tf.double)"
   ]
  },
  {
   "cell_type": "code",
   "execution_count": 28,
   "metadata": {
    "colab": {
     "base_uri": "https://localhost:8080/",
     "height": 68
    },
    "colab_type": "code",
    "id": "njy_1M3T7ItH",
    "outputId": "fa65efec-e633-447a-f3f0-879f7a0f0909"
   },
   "outputs": [
    {
     "name": "stdout",
     "output_type": "stream",
     "text": [
      "Wait for 8 seconds...\n",
      "TensorBoard link:\n",
      "https://d30604dfb18c.ngrok.io\n"
     ]
    }
   ],
   "source": [
    "tbc=TensorBoardColab()"
   ]
  },
  {
   "cell_type": "code",
   "execution_count": 29,
   "metadata": {
    "colab": {},
    "colab_type": "code",
    "id": "Q_vzyIL97IjD"
   },
   "outputs": [],
   "source": [
    "def final_model(model_input, model_output, train_data, test_data, val_data, opt = 'adam', epoch=20, batch_size=128, lr=0.01):\n",
    "    \n",
    "    def select_optim():\n",
    "        if opt=='adam':\n",
    "            return Adam(learning_rate=lr)\n",
    "        elif opt=='sgd':\n",
    "            return SGD(learning_rate=lr, momentum=0.7)\n",
    "        elif opt=='rmsprop':\n",
    "            return RMSProp(lr=lr)\n",
    "\n",
    "    lr_reduce= ReduceLROnPlateau(monitor='val_auc', mode='max', patience=5, verbose=1, factor=0.1, min_lr=0.00001)\n",
    "\n",
    "    filepath=\"/content/drive/My Drive/LSTM/LSTM_output/model-epochs:{epoch:03d}-auc:{auc:03f}-val_auc:{val_auc:03f}.h5\"\n",
    "\n",
    "    checkpoint = ModelCheckpoint(filepath, monitor=\"val_auc\", mode=\"max\", save_best_only = True, verbose=1)\n",
    "\n",
    "    #earlystop = EarlyStopping(monitor = 'val_auc', mode=\"max\", patience = 5, verbose = 1, restore_best_weights = True)\n",
    "    \n",
    "    #tensorboard = TensorBoard(log_dir='model_graph_1', batch_size=256, write_graph=True, update_freq='epoch')\n",
    "\n",
    "    print(\"-\"*120)\n",
    "    border_msg('BUILDING MODEL')\n",
    "    print(\"-\"*120+'\\n')\n",
    "\n",
    "    model = Model(inputs=model_input, outputs=model_output)\n",
    "\n",
    "    model.compile(optimizer=select_optim(), loss='categorical_crossentropy', metrics=[auc])\n",
    "\n",
    "    print(model.summary())\n",
    "\n",
    "    logdir = os.path.join(\"logs\", datetime.datetime.now().strftime(\"%Y%m%d-%H%M%S\"))\n",
    "    tensorboard_callback = tf.keras.callbacks.TensorBoard(logdir, histogram_freq=1)\n",
    "\n",
    "    print(\"-\"*120)\n",
    "    border_msg('FITTING MODEL')\n",
    "    print(\"-\"*120+'\\n')\n",
    "\n",
    "    train_model = model.fit(train_data,y_train,batch_size=batch_size, epochs=epoch, \n",
    "                            validation_data = (val_data, y_val),\n",
    "                            callbacks=[checkpoint, tensorboard_callback, TensorBoardColabCallback(tbc)], \n",
    "                            class_weight = class_weights)\n",
    "\n",
    "    print(\"-\"*120)\n",
    "    border_msg('EVALUATING MODEL')\n",
    "    print(\"-\"*120+'\\n')\n",
    "\n",
    "    score = model.evaluate(test_data, y_test, verbose=1)\n",
    "    print('Test loss:', score[0])\n",
    "    print('Test AUC_score:', score[1])\n",
    "    \n",
    "\n",
    "    return model, train_model"
   ]
  },
  {
   "cell_type": "code",
   "execution_count": 30,
   "metadata": {
    "colab": {
     "base_uri": "https://localhost:8080/",
     "height": 1000
    },
    "colab_type": "code",
    "id": "uW9mabIl7Icm",
    "outputId": "c297fc99-e123-4c60-a40f-9b106059fcc0"
   },
   "outputs": [
    {
     "name": "stdout",
     "output_type": "stream",
     "text": [
      "------------------------------------------------------------------------------------------------------------------------\n",
      "+--------------+\n",
      "|BUILDING MODEL|\n",
      "+--------------+\n",
      "------------------------------------------------------------------------------------------------------------------------\n",
      "\n",
      "Model: \"model\"\n",
      "__________________________________________________________________________________________________\n",
      "Layer (type)                    Output Shape         Param #     Connected to                     \n",
      "==================================================================================================\n",
      "input_text (InputLayer)         [(None, 334)]        0                                            \n",
      "__________________________________________________________________________________________________\n",
      "embed_text (Embedding)          (None, 334, 300)     14578200    input_text[0][0]                 \n",
      "__________________________________________________________________________________________________\n",
      "teacher_prefix (InputLayer)     [(None, 1)]          0                                            \n",
      "__________________________________________________________________________________________________\n",
      "school_state (InputLayer)       [(None, 1)]          0                                            \n",
      "__________________________________________________________________________________________________\n",
      "grade (InputLayer)              [(None, 1)]          0                                            \n",
      "__________________________________________________________________________________________________\n",
      "subject_categories (InputLayer) [(None, 1)]          0                                            \n",
      "__________________________________________________________________________________________________\n",
      "subject_subcategories (InputLay [(None, 1)]          0                                            \n",
      "__________________________________________________________________________________________________\n",
      "lstm (LSTM)                     (None, 334, 128)     219648      embed_text[0][0]                 \n",
      "__________________________________________________________________________________________________\n",
      "embed_prefix (Embedding)        (None, 1, 5)         30          teacher_prefix[0][0]             \n",
      "__________________________________________________________________________________________________\n",
      "embed_state (Embedding)         (None, 1, 28)        1456        school_state[0][0]               \n",
      "__________________________________________________________________________________________________\n",
      "embed_grade (Embedding)         (None, 1, 4)         20          grade[0][0]                      \n",
      "__________________________________________________________________________________________________\n",
      "embed_cat (Embedding)           (None, 1, 28)        1456        subject_categories[0][0]         \n",
      "__________________________________________________________________________________________________\n",
      "embed_subcat (Embedding)        (None, 1, 50)        19550       subject_subcategories[0][0]      \n",
      "__________________________________________________________________________________________________\n",
      "numerical_features (InputLayer) [(None, 4)]          0                                            \n",
      "__________________________________________________________________________________________________\n",
      "flatten (Flatten)               (None, 42752)        0           lstm[0][0]                       \n",
      "__________________________________________________________________________________________________\n",
      "flatten_1 (Flatten)             (None, 5)            0           embed_prefix[0][0]               \n",
      "__________________________________________________________________________________________________\n",
      "flatten_2 (Flatten)             (None, 28)           0           embed_state[0][0]                \n",
      "__________________________________________________________________________________________________\n",
      "flatten_3 (Flatten)             (None, 4)            0           embed_grade[0][0]                \n",
      "__________________________________________________________________________________________________\n",
      "flatten_4 (Flatten)             (None, 28)           0           embed_cat[0][0]                  \n",
      "__________________________________________________________________________________________________\n",
      "flatten_5 (Flatten)             (None, 50)           0           embed_subcat[0][0]               \n",
      "__________________________________________________________________________________________________\n",
      "dense (Dense)                   (None, 100)          500         numerical_features[0][0]         \n",
      "__________________________________________________________________________________________________\n",
      "concatenate (Concatenate)       (None, 42967)        0           flatten[0][0]                    \n",
      "                                                                 flatten_1[0][0]                  \n",
      "                                                                 flatten_2[0][0]                  \n",
      "                                                                 flatten_3[0][0]                  \n",
      "                                                                 flatten_4[0][0]                  \n",
      "                                                                 flatten_5[0][0]                  \n",
      "                                                                 dense[0][0]                      \n",
      "__________________________________________________________________________________________________\n",
      "dense_1 (Dense)                 (None, 128)          5499904     concatenate[0][0]                \n",
      "__________________________________________________________________________________________________\n",
      "dropout (Dropout)               (None, 128)          0           dense_1[0][0]                    \n",
      "__________________________________________________________________________________________________\n",
      "dense_2 (Dense)                 (None, 256)          33024       dropout[0][0]                    \n",
      "__________________________________________________________________________________________________\n",
      "dropout_1 (Dropout)             (None, 256)          0           dense_2[0][0]                    \n",
      "__________________________________________________________________________________________________\n",
      "dense_3 (Dense)                 (None, 64)           16448       dropout_1[0][0]                  \n",
      "__________________________________________________________________________________________________\n",
      "batch_normalization (BatchNorma (None, 64)           256         dense_3[0][0]                    \n",
      "__________________________________________________________________________________________________\n",
      "Output (Dense)                  (None, 2)            130         batch_normalization[0][0]        \n",
      "==================================================================================================\n",
      "Total params: 20,370,622\n",
      "Trainable params: 5,792,294\n",
      "Non-trainable params: 14,578,328\n",
      "__________________________________________________________________________________________________\n",
      "None\n",
      "------------------------------------------------------------------------------------------------------------------------\n",
      "+-------------+\n",
      "|FITTING MODEL|\n",
      "+-------------+\n",
      "------------------------------------------------------------------------------------------------------------------------\n",
      "\n",
      "WARNING:tensorflow:From /tensorflow-1.15.2/python3.6/tensorflow_core/python/ops/math_grad.py:1424: where (from tensorflow.python.ops.array_ops) is deprecated and will be removed in a future version.\n",
      "Instructions for updating:\n",
      "Use tf.where in 2.0, which has the same broadcast rule as np.where\n",
      "Train on 61178 samples, validate on 15295 samples\n",
      "WARNING:tensorflow:From /usr/local/lib/python3.6/dist-packages/tensorboardcolab/core.py:49: The name tf.summary.FileWriter is deprecated. Please use tf.compat.v1.summary.FileWriter instead.\n",
      "\n",
      "WARNING:tensorflow:From /usr/local/lib/python3.6/dist-packages/keras/callbacks/tensorboard_v1.py:200: The name tf.summary.merge_all is deprecated. Please use tf.compat.v1.summary.merge_all instead.\n",
      "\n",
      "Epoch 1/15\n",
      "60928/61178 [============================>.] - ETA: 0s - loss: 1.5278 - auc: 0.5198\n",
      "Epoch 00001: val_auc improved from -inf to 0.62265, saving model to /content/drive/My Drive/LSTM/LSTM_output/model-epochs:001-auc:0.519909-val_auc:0.622647.h5\n",
      "WARNING:tensorflow:From /usr/local/lib/python3.6/dist-packages/tensorboardcolab/callbacks.py:51: The name tf.Summary is deprecated. Please use tf.compat.v1.Summary instead.\n",
      "\n",
      "61178/61178 [==============================] - 149s 2ms/sample - loss: 1.5257 - auc: 0.5199 - val_loss: 1.0137 - val_auc: 0.6226\n",
      "Epoch 2/15\n",
      "60928/61178 [============================>.] - ETA: 0s - loss: 0.8565 - auc: 0.6770\n",
      "Epoch 00002: val_auc improved from 0.62265 to 0.72951, saving model to /content/drive/My Drive/LSTM/LSTM_output/model-epochs:002-auc:0.677331-val_auc:0.729510.h5\n",
      "61178/61178 [==============================] - 146s 2ms/sample - loss: 0.8562 - auc: 0.6773 - val_loss: 0.7478 - val_auc: 0.7295\n",
      "Epoch 3/15\n",
      "60928/61178 [============================>.] - ETA: 0s - loss: 0.6738 - auc: 0.7256\n",
      "Epoch 00003: val_auc improved from 0.72951 to 0.74255, saving model to /content/drive/My Drive/LSTM/LSTM_output/model-epochs:003-auc:0.725432-val_auc:0.742549.h5\n",
      "61178/61178 [==============================] - 146s 2ms/sample - loss: 0.6736 - auc: 0.7254 - val_loss: 0.6605 - val_auc: 0.7425\n",
      "Epoch 4/15\n",
      "60928/61178 [============================>.] - ETA: 0s - loss: 0.5791 - auc: 0.7424\n",
      "Epoch 00004: val_auc improved from 0.74255 to 0.74870, saving model to /content/drive/My Drive/LSTM/LSTM_output/model-epochs:004-auc:0.742446-val_auc:0.748704.h5\n",
      "61178/61178 [==============================] - 146s 2ms/sample - loss: 0.5792 - auc: 0.7424 - val_loss: 0.5548 - val_auc: 0.7487\n",
      "Epoch 5/15\n",
      "60928/61178 [============================>.] - ETA: 0s - loss: 0.5197 - auc: 0.7519\n",
      "Epoch 00005: val_auc improved from 0.74870 to 0.75374, saving model to /content/drive/My Drive/LSTM/LSTM_output/model-epochs:005-auc:0.751881-val_auc:0.753741.h5\n",
      "61178/61178 [==============================] - 146s 2ms/sample - loss: 0.5197 - auc: 0.7519 - val_loss: 0.5051 - val_auc: 0.7537\n",
      "Epoch 6/15\n",
      "60928/61178 [============================>.] - ETA: 0s - loss: 0.4816 - auc: 0.7578\n",
      "Epoch 00006: val_auc did not improve from 0.75374\n",
      "61178/61178 [==============================] - 145s 2ms/sample - loss: 0.4813 - auc: 0.7578 - val_loss: 0.4833 - val_auc: 0.7523\n",
      "Epoch 7/15\n",
      "60928/61178 [============================>.] - ETA: 0s - loss: 0.4554 - auc: 0.7610\n",
      "Epoch 00007: val_auc improved from 0.75374 to 0.75899, saving model to /content/drive/My Drive/LSTM/LSTM_output/model-epochs:007-auc:0.761036-val_auc:0.758987.h5\n",
      "61178/61178 [==============================] - 146s 2ms/sample - loss: 0.4553 - auc: 0.7610 - val_loss: 0.4489 - val_auc: 0.7590\n",
      "Epoch 8/15\n",
      "60928/61178 [============================>.] - ETA: 0s - loss: 0.4379 - auc: 0.7617\n",
      "Epoch 00008: val_auc did not improve from 0.75899\n",
      "61178/61178 [==============================] - 145s 2ms/sample - loss: 0.4379 - auc: 0.7615 - val_loss: 0.4414 - val_auc: 0.7541\n",
      "Epoch 9/15\n",
      "60928/61178 [============================>.] - ETA: 0s - loss: 0.4255 - auc: 0.7668\n",
      "Epoch 00009: val_auc improved from 0.75899 to 0.76311, saving model to /content/drive/My Drive/LSTM/LSTM_output/model-epochs:009-auc:0.766841-val_auc:0.763109.h5\n",
      "61178/61178 [==============================] - 145s 2ms/sample - loss: 0.4256 - auc: 0.7668 - val_loss: 0.4244 - val_auc: 0.7631\n",
      "Epoch 10/15\n",
      "60928/61178 [============================>.] - ETA: 0s - loss: 0.4149 - auc: 0.7685\n",
      "Epoch 00010: val_auc did not improve from 0.76311\n",
      "61178/61178 [==============================] - 145s 2ms/sample - loss: 0.4149 - auc: 0.7683 - val_loss: 0.4244 - val_auc: 0.7551\n",
      "Epoch 11/15\n",
      "60928/61178 [============================>.] - ETA: 0s - loss: 0.4089 - auc: 0.7699\n",
      "Epoch 00011: val_auc did not improve from 0.76311\n",
      "61178/61178 [==============================] - 145s 2ms/sample - loss: 0.4089 - auc: 0.7702 - val_loss: 0.4131 - val_auc: 0.7598\n",
      "Epoch 12/15\n",
      "60928/61178 [============================>.] - ETA: 0s - loss: 0.4035 - auc: 0.7710\n",
      "Epoch 00012: val_auc did not improve from 0.76311\n",
      "61178/61178 [==============================] - 145s 2ms/sample - loss: 0.4034 - auc: 0.7711 - val_loss: 0.4176 - val_auc: 0.7531\n",
      "Epoch 13/15\n",
      "60928/61178 [============================>.] - ETA: 0s - loss: 0.3994 - auc: 0.7743\n",
      "Epoch 00013: val_auc did not improve from 0.76311\n",
      "61178/61178 [==============================] - 145s 2ms/sample - loss: 0.3994 - auc: 0.7740 - val_loss: 0.4120 - val_auc: 0.7554\n",
      "Epoch 14/15\n",
      "60928/61178 [============================>.] - ETA: 0s - loss: 0.3989 - auc: 0.7730\n",
      "Epoch 00014: val_auc did not improve from 0.76311\n",
      "61178/61178 [==============================] - 146s 2ms/sample - loss: 0.3992 - auc: 0.7730 - val_loss: 0.4068 - val_auc: 0.7581\n",
      "Epoch 15/15\n",
      "60928/61178 [============================>.] - ETA: 0s - loss: 0.3965 - auc: 0.7769\n",
      "Epoch 00015: val_auc did not improve from 0.76311\n",
      "61178/61178 [==============================] - 144s 2ms/sample - loss: 0.3961 - auc: 0.7776 - val_loss: 0.4148 - val_auc: 0.7543\n",
      "------------------------------------------------------------------------------------------------------------------------\n",
      "+----------------+\n",
      "|EVALUATING MODEL|\n",
      "+----------------+\n",
      "------------------------------------------------------------------------------------------------------------------------\n",
      "\n",
      "32775/32775 [==============================] - 154s 5ms/sample - loss: 0.4147 - auc: 0.7477\n",
      "Test loss: 0.41469457504860235\n",
      "Test accuracy: 0.74770457\n"
     ]
    }
   ],
   "source": [
    "model_1, train_model = final_model(model_input, model_output, train_data, test_data, val_data, opt='adam', epoch=15, batch_size=512, lr=0.001)"
   ]
  },
  {
   "cell_type": "code",
   "execution_count": 31,
   "metadata": {
    "colab": {
     "base_uri": "https://localhost:8080/",
     "height": 34
    },
    "colab_type": "code",
    "id": "A5VXEyogiIHx",
    "outputId": "1c2350ed-85eb-4bd4-8ac5-078402f645e5"
   },
   "outputs": [
    {
     "name": "stdout",
     "output_type": "stream",
     "text": [
      "Saved model to disk\n"
     ]
    }
   ],
   "source": [
    "# serialize model to JSON\n",
    "model_json = model_1.to_json()\n",
    "with open(\"drive/My Drive/LSTM/model_1.json\", \"w\") as json_file:\n",
    "  json_file.write(model_json)\n",
    "    \n",
    "# serialize weights to HDF5\n",
    "model_1.save_weights(\"drive/My Drive/LSTM/model_1_weights.h5\")\n",
    "print(\"Saved model to disk\")"
   ]
  },
  {
   "cell_type": "code",
   "execution_count": 32,
   "metadata": {
    "colab": {
     "base_uri": "https://localhost:8080/",
     "height": 390
    },
    "colab_type": "code",
    "id": "gNVFZC008iuE",
    "outputId": "529d949d-4812-412e-aabb-435bb3ebb3e4"
   },
   "outputs": [
    {
     "data": {
      "image/png": "[encoded data removed]",
      "text/plain": [
       "<Figure size 1008x432 with 2 Axes>"
      ]
     },
     "metadata": {
      "needs_background": "light",
      "tags": []
     },
     "output_type": "display_data"
    }
   ],
   "source": [
    "fig = plt.figure(figsize=(14,6))\n",
    "plt.subplot(1, 2, 1)\n",
    "plt.title('AUC plot')\n",
    "plt.plot(train_model.history['auc'], 'r')\n",
    "plt.plot(train_model.history['val_auc'], 'b')\n",
    "plt.legend({'Train AUC': 'r', 'Val AUC':'b'})\n",
    "\n",
    "plt.subplot(1, 2, 2)\n",
    "plt.title('Loss plot')\n",
    "plt.plot(train_model.history['loss'], 'r')\n",
    "plt.plot(train_model.history['val_loss'], 'b')\n",
    "plt.legend({'Train Loss': 'r', 'Val Loss':'b'})\n",
    "plt.show()"
   ]
  },
  {
   "cell_type": "markdown",
   "metadata": {
    "colab": {},
    "colab_type": "code",
    "id": "3RTXa-nt7IYv"
   },
   "source": [
    "## Visualizing Model "
   ]
  },
  {
   "cell_type": "code",
   "execution_count": 35,
   "metadata": {
    "colab": {
     "base_uri": "https://localhost:8080/",
     "height": 437
    },
    "colab_type": "code",
    "id": "K3BdhV0v8g4g",
    "outputId": "38fbb8b1-4c1d-4e91-9d3e-c2e097bc0f88"
   },
   "outputs": [
    {
     "data": {
      "image/png": "[encoded data removed]",
      "text/plain": [
       "<IPython.core.display.Image object>"
      ]
     },
     "execution_count": 35,
     "metadata": {
      "tags": []
     },
     "output_type": "execute_result"
    }
   ],
   "source": [
    "from IPython.display import Image\n",
    "import pydot_ng as pydot\n",
    "\n",
    "plot_model(model_1, show_shapes=True, show_layer_names=True, to_file='/content/drive/My Drive/LSTM/model_1.png')"
   ]
  },
  {
   "cell_type": "markdown",
   "metadata": {
    "colab": {},
    "colab_type": "code",
    "id": "mKTeHsT1Ov-R"
   },
   "source": [
    "## Tensorboard Plots"
   ]
  },
  {
   "cell_type": "markdown",
   "metadata": {},
   "source": [
    "### Tensorboard AUC Plot output\n",
    "![title](auc.png)"
   ]
  },
  {
   "cell_type": "markdown",
   "metadata": {},
   "source": [
    "### Tensorboard AUC PLOT\n",
    "<img src=\"auc.svg\" width=800 height=600 />"
   ]
  },
  {
   "cell_type": "markdown",
   "metadata": {},
   "source": [
    "### Tensorboard LOSS Plot output \n",
    "![title](loss.png)"
   ]
  },
  {
   "cell_type": "markdown",
   "metadata": {},
   "source": [
    "### Tensorboard LOSS PLOT\n",
    "<img src=\"loss.svg\" width=800 height=600 />"
   ]
  },
  {
   "cell_type": "markdown",
   "metadata": {},
   "source": [
    "__We get an AUC score of 74.77 on this LSTM model__"
   ]
  },
  {
   "cell_type": "code",
   "execution_count": null,
   "metadata": {},
   "outputs": [],
   "source": []
  }
 ],
 "metadata": {
  "accelerator": "GPU",
  "colab": {
   "collapsed_sections": [],
   "machine_shape": "hm",
   "name": "LSTM_on_Donors_chooose-Model_1.ipynb",
   "provenance": []
  },
  "kernelspec": {
   "display_name": "Python 3",
   "language": "python",
   "name": "python3"
  },
  "language_info": {
   "codemirror_mode": {
    "name": "ipython",
    "version": 3
   },
   "file_extension": ".py",
   "mimetype": "text/x-python",
   "name": "python",
   "nbconvert_exporter": "python",
   "pygments_lexer": "ipython3",
   "version": "3.6.10"
  }
 },
 "nbformat": 4,
 "nbformat_minor": 1
}
