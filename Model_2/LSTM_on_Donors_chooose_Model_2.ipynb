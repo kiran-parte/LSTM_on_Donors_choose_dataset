{
 "cells": [
  {
   "cell_type": "markdown",
   "metadata": {},
   "source": [
    "# LSTM on Donors Choose dataset -  Model-2"
   ]
  },
  {
   "cell_type": "code",
   "execution_count": 1,
   "metadata": {
    "colab": {},
    "colab_type": "code",
    "id": "5ZA-qj655PaL"
   },
   "outputs": [],
   "source": [
    "from google.colab import drive\n",
    "drive.flush_and_unmount()"
   ]
  },
  {
   "cell_type": "code",
   "execution_count": 2,
   "metadata": {
    "colab": {},
    "colab_type": "code",
    "id": "wS_RKBI54v-q"
   },
   "outputs": [],
   "source": [
    "from google.colab import drive\n",
    "drive.mount('/content/drive', force_remount=True)"
   ]
  },
  {
   "cell_type": "code",
   "execution_count": 1,
   "metadata": {
    "colab": {
     "base_uri": "https://localhost:8080/",
     "height": 734
    },
    "colab_type": "code",
    "id": "bQCgSdBk48rb",
    "outputId": "ef29c423-16c3-40eb-92fd-994b1a835726"
   },
   "outputs": [
    {
     "name": "stdout",
     "output_type": "stream",
     "text": [
      "TensorFlow 1.x selected.\n"
     ]
    },
    {
     "name": "stderr",
     "output_type": "stream",
     "text": [
      "/usr/local/lib/python3.6/dist-packages/statsmodels/tools/_testing.py:19: FutureWarning: pandas.util.testing is deprecated. Use the functions in the public API at pandas.testing instead.\n",
      "  import pandas.util.testing as tm\n",
      "Using TensorFlow backend.\n"
     ]
    },
    {
     "name": "stdout",
     "output_type": "stream",
     "text": [
      "Requirement already up-to-date: tensorboardcolab in /usr/local/lib/python3.6/dist-packages (0.0.22)\n",
      "Requirement already up-to-date: tensorboard in /usr/local/lib/python3.6/dist-packages (2.3.0)\n",
      "Requirement already satisfied, skipping upgrade: wheel>=0.26; python_version >= \"3\" in /usr/local/lib/python3.6/dist-packages (from tensorboard) (0.34.2)\n",
      "Requirement already satisfied, skipping upgrade: grpcio>=1.24.3 in /usr/local/lib/python3.6/dist-packages (from tensorboard) (1.30.0)\n",
      "Requirement already satisfied, skipping upgrade: numpy>=1.12.0 in /usr/local/lib/python3.6/dist-packages (from tensorboard) (1.18.5)\n",
      "Requirement already satisfied, skipping upgrade: tensorboard-plugin-wit>=1.6.0 in /usr/local/lib/python3.6/dist-packages (from tensorboard) (1.7.0)\n",
      "Requirement already satisfied, skipping upgrade: absl-py>=0.4 in /usr/local/lib/python3.6/dist-packages (from tensorboard) (0.9.0)\n",
      "Requirement already satisfied, skipping upgrade: google-auth<2,>=1.6.3 in /usr/local/lib/python3.6/dist-packages (from tensorboard) (1.17.2)\n",
      "Requirement already satisfied, skipping upgrade: google-auth-oauthlib<0.5,>=0.4.1 in /usr/local/lib/python3.6/dist-packages (from tensorboard) (0.4.1)\n",
      "Requirement already satisfied, skipping upgrade: requests<3,>=2.21.0 in /usr/local/lib/python3.6/dist-packages (from tensorboard) (2.23.0)\n",
      "Requirement already satisfied, skipping upgrade: werkzeug>=0.11.15 in /usr/local/lib/python3.6/dist-packages (from tensorboard) (1.0.1)\n",
      "Requirement already satisfied, skipping upgrade: protobuf>=3.6.0 in /usr/local/lib/python3.6/dist-packages (from tensorboard) (3.12.2)\n",
      "Requirement already satisfied, skipping upgrade: six>=1.10.0 in /usr/local/lib/python3.6/dist-packages (from tensorboard) (1.12.0)\n",
      "Requirement already satisfied, skipping upgrade: markdown>=2.6.8 in /usr/local/lib/python3.6/dist-packages (from tensorboard) (3.2.2)\n",
      "Requirement already satisfied, skipping upgrade: setuptools>=41.0.0 in /usr/local/lib/python3.6/dist-packages (from tensorboard) (49.1.0)\n",
      "Requirement already satisfied, skipping upgrade: rsa<5,>=3.1.4; python_version >= \"3\" in /usr/local/lib/python3.6/dist-packages (from google-auth<2,>=1.6.3->tensorboard) (4.6)\n",
      "Requirement already satisfied, skipping upgrade: cachetools<5.0,>=2.0.0 in /usr/local/lib/python3.6/dist-packages (from google-auth<2,>=1.6.3->tensorboard) (4.1.1)\n",
      "Requirement already satisfied, skipping upgrade: pyasn1-modules>=0.2.1 in /usr/local/lib/python3.6/dist-packages (from google-auth<2,>=1.6.3->tensorboard) (0.2.8)\n",
      "Requirement already satisfied, skipping upgrade: requests-oauthlib>=0.7.0 in /usr/local/lib/python3.6/dist-packages (from google-auth-oauthlib<0.5,>=0.4.1->tensorboard) (1.3.0)\n",
      "Requirement already satisfied, skipping upgrade: urllib3!=1.25.0,!=1.25.1,<1.26,>=1.21.1 in /usr/local/lib/python3.6/dist-packages (from requests<3,>=2.21.0->tensorboard) (1.24.3)\n",
      "Requirement already satisfied, skipping upgrade: certifi>=2017.4.17 in /usr/local/lib/python3.6/dist-packages (from requests<3,>=2.21.0->tensorboard) (2020.6.20)\n",
      "Requirement already satisfied, skipping upgrade: chardet<4,>=3.0.2 in /usr/local/lib/python3.6/dist-packages (from requests<3,>=2.21.0->tensorboard) (3.0.4)\n",
      "Requirement already satisfied, skipping upgrade: idna<3,>=2.5 in /usr/local/lib/python3.6/dist-packages (from requests<3,>=2.21.0->tensorboard) (2.10)\n",
      "Requirement already satisfied, skipping upgrade: importlib-metadata; python_version < \"3.8\" in /usr/local/lib/python3.6/dist-packages (from markdown>=2.6.8->tensorboard) (1.7.0)\n",
      "Requirement already satisfied, skipping upgrade: pyasn1>=0.1.3 in /usr/local/lib/python3.6/dist-packages (from rsa<5,>=3.1.4; python_version >= \"3\"->google-auth<2,>=1.6.3->tensorboard) (0.4.8)\n",
      "Requirement already satisfied, skipping upgrade: oauthlib>=3.0.0 in /usr/local/lib/python3.6/dist-packages (from requests-oauthlib>=0.7.0->google-auth-oauthlib<0.5,>=0.4.1->tensorboard) (3.1.0)\n",
      "Requirement already satisfied, skipping upgrade: zipp>=0.5 in /usr/local/lib/python3.6/dist-packages (from importlib-metadata; python_version < \"3.8\"->markdown>=2.6.8->tensorboard) (3.1.0)\n",
      "Requirement already satisfied: keras-tqdm in /usr/local/lib/python3.6/dist-packages (2.0.1)\n",
      "Requirement already satisfied: Keras in /usr/local/lib/python3.6/dist-packages (from keras-tqdm) (2.3.1)\n",
      "Requirement already satisfied: tqdm in /usr/local/lib/python3.6/dist-packages (from keras-tqdm) (4.41.1)\n",
      "Requirement already satisfied: scipy>=0.14 in /usr/local/lib/python3.6/dist-packages (from Keras->keras-tqdm) (1.4.1)\n",
      "Requirement already satisfied: numpy>=1.9.1 in /usr/local/lib/python3.6/dist-packages (from Keras->keras-tqdm) (1.18.5)\n",
      "Requirement already satisfied: pyyaml in /usr/local/lib/python3.6/dist-packages (from Keras->keras-tqdm) (3.13)\n",
      "Requirement already satisfied: keras-applications>=1.0.6 in /usr/local/lib/python3.6/dist-packages (from Keras->keras-tqdm) (1.0.8)\n",
      "Requirement already satisfied: six>=1.9.0 in /usr/local/lib/python3.6/dist-packages (from Keras->keras-tqdm) (1.12.0)\n",
      "Requirement already satisfied: keras-preprocessing>=1.0.5 in /usr/local/lib/python3.6/dist-packages (from Keras->keras-tqdm) (1.1.2)\n",
      "Requirement already satisfied: h5py in /usr/local/lib/python3.6/dist-packages (from Keras->keras-tqdm) (2.10.0)\n"
     ]
    }
   ],
   "source": [
    "%tensorflow_version 1.x\n",
    "import numpy as np\n",
    "import pandas as pd\n",
    "import matplotlib.pyplot as plt\n",
    "import seaborn as sns\n",
    "import keras\n",
    "import tensorflow as tf\n",
    "!pip install -U tensorboardcolab\n",
    "!pip install -U tensorboard\n",
    "!pip install keras-tqdm\n",
    "import datetime\n",
    "from tensorboardcolab import *\n",
    "from scipy.sparse import hstack\n",
    "from sklearn.utils import compute_class_weight\n",
    "from tensorflow.keras.layers import Input, Embedding, LSTM, Dropout, BatchNormalization\n",
    "from tensorflow.keras.layers import Dense, concatenate, Flatten, Conv1D\n",
    "from tensorflow.keras.callbacks import ModelCheckpoint, EarlyStopping, TensorBoard, ReduceLROnPlateau\n",
    "from tensorflow.keras.preprocessing.text import Tokenizer\n",
    "from tensorflow.keras.preprocessing.sequence import pad_sequences\n",
    "from tensorflow.keras.models import Model, load_model\n",
    "from tensorflow.keras.optimizers import Adam, SGD\n",
    "from tensorflow.keras import regularizers\n",
    "from tensorflow.keras.utils import to_categorical, plot_model\n",
    "from sklearn.feature_extraction.text import TfidfVectorizer, CountVectorizer\n",
    "from sklearn.model_selection import train_test_split\n",
    "from sklearn.preprocessing import StandardScaler\n",
    "from sklearn.metrics import roc_auc_score\n",
    "from keras_tqdm import TQDMCallback\n",
    "from tensorboardcolab import *\n",
    "from tqdm import tqdm\n",
    "import pickle\n",
    "import warnings\n",
    "warnings.filterwarnings(\"ignore\")\n",
    "%matplotlib inline"
   ]
  },
  {
   "cell_type": "markdown",
   "metadata": {},
   "source": [
    "## Reading Data"
   ]
  },
  {
   "cell_type": "code",
   "execution_count": 2,
   "metadata": {
    "colab": {
     "base_uri": "https://localhost:8080/",
     "height": 264
    },
    "colab_type": "code",
    "id": "QqJLsYFG48oe",
    "outputId": "7b0de9e9-74ef-468a-af38-968cdff9234f"
   },
   "outputs": [
    {
     "data": {
      "text/html": [
       "<div>\n",
       "<style scoped>\n",
       "    .dataframe tbody tr th:only-of-type {\n",
       "        vertical-align: middle;\n",
       "    }\n",
       "\n",
       "    .dataframe tbody tr th {\n",
       "        vertical-align: top;\n",
       "    }\n",
       "\n",
       "    .dataframe thead th {\n",
       "        text-align: right;\n",
       "    }\n",
       "</style>\n",
       "<table border=\"1\" class=\"dataframe\">\n",
       "  <thead>\n",
       "    <tr style=\"text-align: right;\">\n",
       "      <th></th>\n",
       "      <th>teacher_prefix</th>\n",
       "      <th>school_state</th>\n",
       "      <th>project_grade_category</th>\n",
       "      <th>project_subject_categories</th>\n",
       "      <th>project_subject_subcategories</th>\n",
       "      <th>teacher_number_of_previously_posted_projects</th>\n",
       "      <th>project_is_approved</th>\n",
       "      <th>price</th>\n",
       "      <th>quantity</th>\n",
       "      <th>digits_in_project_summary</th>\n",
       "      <th>processed_titles</th>\n",
       "      <th>processed_essays</th>\n",
       "      <th>processed_summary</th>\n",
       "    </tr>\n",
       "  </thead>\n",
       "  <tbody>\n",
       "    <tr>\n",
       "      <th>0</th>\n",
       "      <td>mrs</td>\n",
       "      <td>in</td>\n",
       "      <td>grades_prek_2</td>\n",
       "      <td>literacy_language</td>\n",
       "      <td>esl_literacy</td>\n",
       "      <td>0</td>\n",
       "      <td>0</td>\n",
       "      <td>154.60</td>\n",
       "      <td>23</td>\n",
       "      <td>0</td>\n",
       "      <td>educational support english learners home</td>\n",
       "      <td>students english learners working english seco...</td>\n",
       "      <td>students need opportunities practice beginning...</td>\n",
       "    </tr>\n",
       "    <tr>\n",
       "      <th>1</th>\n",
       "      <td>mr</td>\n",
       "      <td>fl</td>\n",
       "      <td>grades_6_8</td>\n",
       "      <td>history_civics_health_sports</td>\n",
       "      <td>civics_government_teamsports</td>\n",
       "      <td>7</td>\n",
       "      <td>1</td>\n",
       "      <td>299.00</td>\n",
       "      <td>1</td>\n",
       "      <td>0</td>\n",
       "      <td>wanted projector hungry learners</td>\n",
       "      <td>students arrive school eager learn polite gene...</td>\n",
       "      <td>students need projector help viewing education...</td>\n",
       "    </tr>\n",
       "    <tr>\n",
       "      <th>2</th>\n",
       "      <td>ms</td>\n",
       "      <td>az</td>\n",
       "      <td>grades_6_8</td>\n",
       "      <td>health_sports</td>\n",
       "      <td>health_wellness_teamsports</td>\n",
       "      <td>1</td>\n",
       "      <td>0</td>\n",
       "      <td>516.85</td>\n",
       "      <td>22</td>\n",
       "      <td>0</td>\n",
       "      <td>soccer equipment awesome middle school students</td>\n",
       "      <td>true champions not always ones win guts mia ha...</td>\n",
       "      <td>students need shine guards athletic socks socc...</td>\n",
       "    </tr>\n",
       "  </tbody>\n",
       "</table>\n",
       "</div>"
      ],
      "text/plain": [
       "  teacher_prefix  ...                                  processed_summary\n",
       "0            mrs  ...  students need opportunities practice beginning...\n",
       "1             mr  ...  students need projector help viewing education...\n",
       "2             ms  ...  students need shine guards athletic socks socc...\n",
       "\n",
       "[3 rows x 13 columns]"
      ]
     },
     "execution_count": 2,
     "metadata": {
      "tags": []
     },
     "output_type": "execute_result"
    }
   ],
   "source": [
    "data = pd.read_csv('/content/drive/My Drive/LSTM/processed_data.csv')\n",
    "data = data.drop(['Unnamed: 0'], axis=1)\n",
    "data.head(3)"
   ]
  },
  {
   "cell_type": "code",
   "execution_count": 3,
   "metadata": {
    "colab": {
     "base_uri": "https://localhost:8080/",
     "height": 417
    },
    "colab_type": "code",
    "id": "Leh0TQly48jf",
    "outputId": "0d8527d0-bbd2-4c40-b590-d699e91557ba"
   },
   "outputs": [
    {
     "data": {
      "text/html": [
       "<div>\n",
       "<style scoped>\n",
       "    .dataframe tbody tr th:only-of-type {\n",
       "        vertical-align: middle;\n",
       "    }\n",
       "\n",
       "    .dataframe tbody tr th {\n",
       "        vertical-align: top;\n",
       "    }\n",
       "\n",
       "    .dataframe thead th {\n",
       "        text-align: right;\n",
       "    }\n",
       "</style>\n",
       "<table border=\"1\" class=\"dataframe\">\n",
       "  <thead>\n",
       "    <tr style=\"text-align: right;\">\n",
       "      <th></th>\n",
       "      <th>teacher_prefix</th>\n",
       "      <th>school_state</th>\n",
       "      <th>project_grade_category</th>\n",
       "      <th>project_subject_categories</th>\n",
       "      <th>project_subject_subcategories</th>\n",
       "      <th>teacher_number_of_previously_posted_projects</th>\n",
       "      <th>project_is_approved</th>\n",
       "      <th>price</th>\n",
       "      <th>quantity</th>\n",
       "      <th>digits_in_project_summary</th>\n",
       "      <th>total_text</th>\n",
       "    </tr>\n",
       "  </thead>\n",
       "  <tbody>\n",
       "    <tr>\n",
       "      <th>0</th>\n",
       "      <td>mrs</td>\n",
       "      <td>in</td>\n",
       "      <td>grades_prek_2</td>\n",
       "      <td>literacy_language</td>\n",
       "      <td>esl_literacy</td>\n",
       "      <td>0</td>\n",
       "      <td>0</td>\n",
       "      <td>154.60</td>\n",
       "      <td>23</td>\n",
       "      <td>0</td>\n",
       "      <td>students english learners working english seco...</td>\n",
       "    </tr>\n",
       "    <tr>\n",
       "      <th>1</th>\n",
       "      <td>mr</td>\n",
       "      <td>fl</td>\n",
       "      <td>grades_6_8</td>\n",
       "      <td>history_civics_health_sports</td>\n",
       "      <td>civics_government_teamsports</td>\n",
       "      <td>7</td>\n",
       "      <td>1</td>\n",
       "      <td>299.00</td>\n",
       "      <td>1</td>\n",
       "      <td>0</td>\n",
       "      <td>students arrive school eager learn polite gene...</td>\n",
       "    </tr>\n",
       "    <tr>\n",
       "      <th>2</th>\n",
       "      <td>ms</td>\n",
       "      <td>az</td>\n",
       "      <td>grades_6_8</td>\n",
       "      <td>health_sports</td>\n",
       "      <td>health_wellness_teamsports</td>\n",
       "      <td>1</td>\n",
       "      <td>0</td>\n",
       "      <td>516.85</td>\n",
       "      <td>22</td>\n",
       "      <td>0</td>\n",
       "      <td>true champions not always ones win guts mia ha...</td>\n",
       "    </tr>\n",
       "  </tbody>\n",
       "</table>\n",
       "</div>"
      ],
      "text/plain": [
       "  teacher_prefix  ...                                         total_text\n",
       "0            mrs  ...  students english learners working english seco...\n",
       "1             mr  ...  students arrive school eager learn polite gene...\n",
       "2             ms  ...  true champions not always ones win guts mia ha...\n",
       "\n",
       "[3 rows x 11 columns]"
      ]
     },
     "execution_count": 3,
     "metadata": {
      "tags": []
     },
     "output_type": "execute_result"
    }
   ],
   "source": [
    "data['total_text'] = data['processed_essays'].map(str) +\\\n",
    "                    ' ' + data['processed_titles'].map(str) +\\\n",
    "                    ' ' + data['processed_summary'].map(str)\n",
    "\n",
    "data = data.drop(['processed_essays','processed_titles','processed_summary'], axis=1)\n",
    "data.head(3)"
   ]
  },
  {
   "cell_type": "code",
   "execution_count": 4,
   "metadata": {
    "colab": {},
    "colab_type": "code",
    "id": "twg7c_HP48gZ"
   },
   "outputs": [],
   "source": [
    "X = data.drop(['project_is_approved'], axis=1)\n",
    "Y = data['project_is_approved']"
   ]
  },
  {
   "cell_type": "code",
   "execution_count": 5,
   "metadata": {
    "colab": {},
    "colab_type": "code",
    "id": "DuYgKqiL48dw"
   },
   "outputs": [],
   "source": [
    "x_train, x_test, y_train, y_test = train_test_split(X, Y, stratify=Y, test_size=0.3, random_state=0)\n",
    "x_train, x_val, y_train, y_val = train_test_split(x_train, y_train, stratify=y_train, test_size=0.2, random_state=0)"
   ]
  },
  {
   "cell_type": "code",
   "execution_count": 6,
   "metadata": {
    "colab": {
     "base_uri": "https://localhost:8080/",
     "height": 68
    },
    "colab_type": "code",
    "id": "u1wJLpbW48av",
    "outputId": "d12a1d1e-9672-45f3-bb4e-4da508363586"
   },
   "outputs": [
    {
     "name": "stdout",
     "output_type": "stream",
     "text": [
      "Train Data Set (61178, 10) (61178,)\n",
      "Test Data Set (32775, 10) (32775,)\n",
      "Validation Data Set (15295, 10) (15295,)\n"
     ]
    }
   ],
   "source": [
    "print('Train Data Set', x_train.shape, y_train.shape)\n",
    "print('Test Data Set', x_test.shape, y_test.shape)\n",
    "print('Validation Data Set', x_val.shape, y_val.shape)"
   ]
  },
  {
   "cell_type": "code",
   "execution_count": 7,
   "metadata": {
    "colab": {},
    "colab_type": "code",
    "id": "mg6t4IMw48Xs"
   },
   "outputs": [],
   "source": [
    "y_train = to_categorical(y_train)\n",
    "y_test = to_categorical(y_test)\n",
    "y_val = to_categorical(y_val)\n",
    "\n",
    "# computing class weights\n",
    "class_weights = compute_class_weight(\"balanced\", classes= np.unique(Y),y=Y)"
   ]
  },
  {
   "cell_type": "markdown",
   "metadata": {
    "colab": {},
    "colab_type": "code",
    "id": "JmPlAgP2fNgA"
   },
   "source": [
    "## TFIDF vectorizer on text data"
   ]
  },
  {
   "cell_type": "code",
   "execution_count": 9,
   "metadata": {
    "colab": {
     "base_uri": "https://localhost:8080/",
     "height": 34
    },
    "colab_type": "code",
    "id": "QVORHbFkfNPK",
    "outputId": "51d5ce33-3313-42e5-c354-c782e1e13d54"
   },
   "outputs": [
    {
     "data": {
      "text/plain": [
       "(29028, 2)"
      ]
     },
     "execution_count": 9,
     "metadata": {
      "tags": []
     },
     "output_type": "execute_result"
    }
   ],
   "source": [
    "vectorizer = TfidfVectorizer(min_df=2)\n",
    "\n",
    "train_tfidf_text = vectorizer.fit_transform(x_train['total_text'])\n",
    "                                            \n",
    "tfidf_dict = dict(zip(vectorizer.get_feature_names(),list(vectorizer.idf_)))\n",
    "tfidf_df = pd.DataFrame(tfidf_dict.items(), columns=['words','idf_values'])\n",
    "tfidf_df.shape"
   ]
  },
  {
   "cell_type": "code",
   "execution_count": 10,
   "metadata": {
    "colab": {
     "base_uri": "https://localhost:8080/",
     "height": 51
    },
    "colab_type": "code",
    "id": "ZRM5C3PbfV4C",
    "outputId": "e1e14e16-411b-42ec-90d0-c034b1b23f1b"
   },
   "outputs": [
    {
     "name": "stdout",
     "output_type": "stream",
     "text": [
      "10.922946983692347\n",
      "1.0\n"
     ]
    }
   ],
   "source": [
    "# getting the min and max values\n",
    "print(tfidf_df.idf_values.max())\n",
    "print(tfidf_df.idf_values.min())"
   ]
  },
  {
   "cell_type": "code",
   "execution_count": 11,
   "metadata": {
    "colab": {
     "base_uri": "https://localhost:8080/",
     "height": 303
    },
    "colab_type": "code",
    "id": "jYRe_VYjfVYx",
    "outputId": "84a99213-a71d-4aa6-b95a-2fcafc0115fa"
   },
   "outputs": [
    {
     "data": {
      "text/plain": [
       "Text(0.5, 1.0, 'BOX plot of idf_values')"
      ]
     },
     "execution_count": 11,
     "metadata": {
      "tags": []
     },
     "output_type": "execute_result"
    },
    {
     "data": {
      "image/png": "[encoded data removed]",
      "text/plain": [
       "<Figure size 432x288 with 1 Axes>"
      ]
     },
     "metadata": {
      "needs_background": "light",
      "tags": []
     },
     "output_type": "display_data"
    }
   ],
   "source": [
    "sns.boxplot(y = \"idf_values\", data = tfidf_df)\n",
    "plt.xlabel(\"idf_values\")\n",
    "plt.title(\"BOX plot of idf_values\")"
   ]
  },
  {
   "cell_type": "code",
   "execution_count": 12,
   "metadata": {
    "colab": {
     "base_uri": "https://localhost:8080/",
     "height": 119
    },
    "colab_type": "code",
    "id": "b14fRpo-fZh4",
    "outputId": "7d6610f8-c3ec-4f7a-b683-f38c30da4a43"
   },
   "outputs": [
    {
     "name": "stdout",
     "output_type": "stream",
     "text": [
      "1st percentile:  3.6065782681311322\n",
      "10th percentile:  6.496106333228673\n",
      "25th percentile:  8.214896782590138\n",
      "50th percentile:  9.824334695024238\n",
      "75th percentile:  10.635264911240567\n",
      "90th percentile:  10.922946983692347\n"
     ]
    }
   ],
   "source": [
    "print(\"1st percentile: \", np.percentile(tfidf_df['idf_values'],1))\n",
    "print(\"10th percentile: \", np.percentile(tfidf_df['idf_values'],10))\n",
    "print(\"25th percentile: \", np.percentile(tfidf_df['idf_values'],25))\n",
    "print(\"50th percentile: \", np.percentile(tfidf_df['idf_values'],50))\n",
    "print(\"75th percentile: \", np.percentile(tfidf_df['idf_values'],75))\n",
    "print(\"90th percentile: \", np.percentile(tfidf_df['idf_values'],90))"
   ]
  },
  {
   "cell_type": "markdown",
   "metadata": {},
   "source": [
    "__The 75th and 90th percentile values are almost equal and the 90th percentile is the max value__"
   ]
  },
  {
   "cell_type": "markdown",
   "metadata": {},
   "source": [
    "__we will select tfidf values from 1st percentile till 75th percentile i.e we will remove lower and higher tfidf values__"
   ]
  },
  {
   "cell_type": "code",
   "execution_count": 13,
   "metadata": {
    "colab": {},
    "colab_type": "code",
    "id": "cRCtRz1kfZeC"
   },
   "outputs": [],
   "source": [
    "tfidf_qdf = tfidf_df[(tfidf_df[\"idf_values\"] >=  np.percentile(tfidf_df['idf_values'],1)) & (tfidf_df[\"idf_values\"] <=  np.percentile(tfidf_df['idf_values'],75))]"
   ]
  },
  {
   "cell_type": "code",
   "execution_count": 14,
   "metadata": {
    "colab": {
     "base_uri": "https://localhost:8080/",
     "height": 34
    },
    "colab_type": "code",
    "id": "JM5CLePKfZY6",
    "outputId": "b818af5b-2635-4ede-9ff0-817c120f9fe8"
   },
   "outputs": [
    {
     "data": {
      "text/plain": [
       "(23303, 2)"
      ]
     },
     "execution_count": 14,
     "metadata": {
      "tags": []
     },
     "output_type": "execute_result"
    }
   ],
   "source": [
    "tfidf_qdf.shape"
   ]
  },
  {
   "cell_type": "code",
   "execution_count": 15,
   "metadata": {
    "colab": {
     "base_uri": "https://localhost:8080/",
     "height": 303
    },
    "colab_type": "code",
    "id": "pvIi49FUfZUq",
    "outputId": "c9c87d06-b0da-40a4-8605-77fc7a26a95b"
   },
   "outputs": [
    {
     "data": {
      "text/plain": [
       "Text(0.5, 1.0, 'BOX plot of idf_values')"
      ]
     },
     "execution_count": 15,
     "metadata": {
      "tags": []
     },
     "output_type": "execute_result"
    },
    {
     "data": {
      "image/png": "[encoded data removed]",
      "text/plain": [
       "<Figure size 432x288 with 1 Axes>"
      ]
     },
     "metadata": {
      "needs_background": "light",
      "tags": []
     },
     "output_type": "display_data"
    }
   ],
   "source": [
    "sns.boxplot(y = \"idf_values\", data = tfidf_qdf)\n",
    "plt.xlabel(\"idf_values\")\n",
    "plt.title(\"BOX plot of idf_values\")"
   ]
  },
  {
   "cell_type": "markdown",
   "metadata": {
    "colab": {},
    "colab_type": "code",
    "id": "N3KUOPslfms3"
   },
   "source": [
    "## Encoding Text Data"
   ]
  },
  {
   "cell_type": "code",
   "execution_count": 16,
   "metadata": {
    "colab": {},
    "colab_type": "code",
    "id": "kLwbPuOt48SH"
   },
   "outputs": [],
   "source": [
    "def encoding_padding(input_text, max_length):\n",
    "    encoded_data = tokenizer.texts_to_sequences(input_text)\n",
    "    padded_data = pad_sequences(encoded_data, maxlen=max_length, padding='post')\n",
    "    return padded_data"
   ]
  },
  {
   "cell_type": "code",
   "execution_count": 17,
   "metadata": {
    "colab": {
     "base_uri": "https://localhost:8080/",
     "height": 68
    },
    "colab_type": "code",
    "id": "lO8VIRay48J4",
    "outputId": "7b277b87-7239-413f-975d-7e7f82c79b68"
   },
   "outputs": [
    {
     "name": "stdout",
     "output_type": "stream",
     "text": [
      "(61178, 334)\n",
      "(32775, 334)\n",
      "(15295, 334)\n"
     ]
    }
   ],
   "source": [
    "train_text = x_train[\"total_text\"].values.tolist()\n",
    "test_text = x_test['total_text'].values.tolist()\n",
    "val_text = x_val['total_text'].values.tolist()\n",
    "\n",
    "tokenizer = Tokenizer()\n",
    "tokenizer.fit_on_texts(tfidf_qdf['words'].values.tolist())\n",
    "vocab_size = len(tokenizer.word_index) + 1\n",
    "\n",
    "max_length = len(max(data[\"total_text\"], key=len).split(' '))\n",
    "train_text_encode = encoding_padding(train_text,  max_length=max_length)\n",
    "test_text_encode = encoding_padding(test_text, max_length=max_length)\n",
    "val_text_encode = encoding_padding(val_text, max_length=max_length)\n",
    "\n",
    "print(train_text_encode.shape)\n",
    "print(test_text_encode.shape)\n",
    "print(val_text_encode.shape)"
   ]
  },
  {
   "cell_type": "code",
   "execution_count": 18,
   "metadata": {
    "colab": {},
    "colab_type": "code",
    "id": "gYT2jvXU48Hu"
   },
   "outputs": [],
   "source": [
    "glove_vector = open(\"/content/drive/My Drive/LSTM/glove_vectors\",\"rb\")\n",
    "glove_words = pickle.load(glove_vector)"
   ]
  },
  {
   "cell_type": "code",
   "execution_count": 19,
   "metadata": {
    "colab": {},
    "colab_type": "code",
    "id": "WpWcNySG48Fc"
   },
   "outputs": [],
   "source": [
    "embedding_matrix = np.zeros((vocab_size, 300))\n",
    "for word, i in tokenizer.word_index.items():\n",
    "    embedding_vector = glove_words.get(word)\n",
    "    if embedding_vector is not None:\n",
    "        embedding_matrix[i] = embedding_vector"
   ]
  },
  {
   "cell_type": "code",
   "execution_count": 20,
   "metadata": {
    "colab": {
     "base_uri": "https://localhost:8080/",
     "height": 1000
    },
    "colab_type": "code",
    "id": "l8xMjRPx48C2",
    "outputId": "ef5662ff-64ad-4520-ec7c-bec41e1c7947"
   },
   "outputs": [
    {
     "name": "stdout",
     "output_type": "stream",
     "text": [
      "(23304, 300)\n"
     ]
    },
    {
     "data": {
      "text/plain": [
       "array([-5.2563e-01, -8.1471e-02, -8.7679e-02,  3.6250e-01,  2.5145e-01,\n",
       "        2.5332e-01, -7.2741e-01, -1.2895e-01, -2.2463e-01,  4.1395e-01,\n",
       "       -1.8628e-01,  7.5147e-01, -5.1474e-02, -2.0533e-01,  2.0896e-01,\n",
       "        2.1953e-01,  7.1992e-02, -7.2084e-02,  1.2473e-01,  1.0072e-01,\n",
       "        4.3089e-01, -2.2556e-01,  4.0336e-01,  1.0675e-01, -1.5874e-01,\n",
       "        1.9817e-02, -1.1831e-01,  1.5472e-01,  1.0124e-01,  4.7343e-01,\n",
       "       -1.1340e-01,  3.9872e-02,  1.3537e-01,  3.8088e-01,  7.4135e-04,\n",
       "       -2.0583e-01, -1.4896e-01, -3.3975e-01,  1.8002e-01,  3.1978e-01,\n",
       "        4.7128e-01, -2.1962e-01,  1.7118e-02,  3.2690e-02,  3.7092e-01,\n",
       "        3.8507e-01,  2.8598e-01,  6.2181e-04, -4.7049e-01, -2.2392e-01,\n",
       "        2.4061e-01,  5.7028e-02, -4.6002e-01, -6.5060e-02, -2.8102e-01,\n",
       "       -4.8228e-01,  7.7486e-03, -2.9416e-01,  5.1761e-01, -1.0215e-01,\n",
       "        2.3103e-01,  2.9073e-02,  1.2966e-01,  5.5421e-01,  4.3397e-01,\n",
       "        1.1786e-01,  1.4393e-01,  3.7729e-01,  9.6626e-02,  2.0373e-01,\n",
       "       -2.3457e-01,  3.8782e-01,  9.1653e-02, -5.8660e-01, -7.7595e-01,\n",
       "        6.8974e-04, -1.3607e-02,  4.9919e-01, -2.4008e-01, -3.2476e-01,\n",
       "       -2.5788e-01, -5.6748e-01,  2.3314e-01, -4.6738e-01, -2.0889e-01,\n",
       "        2.0456e-01, -3.1489e-01,  1.0829e-01,  3.5744e-01, -6.0858e-02,\n",
       "       -4.3538e-01, -3.8218e-01, -1.0240e-01,  5.6267e-02,  8.5168e-03,\n",
       "        1.0355e+00, -8.1028e-01,  5.5475e-01,  2.6529e-01,  1.2358e-02,\n",
       "        8.0220e-02, -4.1465e-01, -5.2203e-01, -6.5867e-02,  1.0762e-01,\n",
       "       -9.5476e-02,  3.7325e-01,  5.8341e-01,  6.2528e-02,  1.9630e-01,\n",
       "       -2.1785e-01,  7.4350e-02, -3.2253e-01, -2.6538e-01, -8.2077e-03,\n",
       "        1.8554e-01,  5.7249e-02,  3.2964e-01,  2.6165e-01, -6.0500e-02,\n",
       "       -3.4275e-01,  1.2428e-01,  2.2092e-01,  9.9464e-01,  2.0153e-01,\n",
       "       -4.8214e-01, -2.2987e-01, -8.8571e-02,  1.7655e-01, -2.6030e-01,\n",
       "       -1.6739e-01,  9.3894e-01,  1.2797e-01, -1.3175e-01,  1.2202e-01,\n",
       "        8.8535e-02, -5.8316e-02, -7.1586e-01, -7.5829e-02,  6.8679e-01,\n",
       "       -2.4275e-01,  2.2550e-01, -4.3199e-01, -4.8296e-01, -3.8902e-01,\n",
       "       -1.7876e-01, -2.4434e-01, -1.5777e-01, -2.7652e-02,  4.4224e-01,\n",
       "       -3.3499e-02, -8.0185e-02, -3.9217e-02, -7.6928e-02, -3.5398e-01,\n",
       "        3.8062e-01,  3.3226e-01, -4.4290e-01,  4.4386e-01, -7.1925e-02,\n",
       "        3.0445e-02,  2.4335e-01,  1.3672e-01, -3.7568e-01,  3.6129e-01,\n",
       "       -3.5705e-01, -7.9444e-02, -8.1696e-02,  9.0845e-02, -3.1659e-01,\n",
       "       -5.2539e-01,  6.6387e-01,  2.1499e-02, -3.7295e-03,  3.5054e-01,\n",
       "       -2.2738e-01,  3.5325e-01, -4.6250e-02,  4.2768e-01, -1.0894e-01,\n",
       "       -2.0993e-01,  3.8991e-01,  2.8702e-01,  3.9914e-01,  3.3895e-01,\n",
       "        5.5794e-01, -1.9968e-01,  1.7569e-01, -2.9713e-01, -9.7578e-02,\n",
       "       -2.1896e-01, -3.1450e-01,  6.4471e-02, -3.4494e-01, -3.6655e-01,\n",
       "       -4.1770e-01, -1.3092e-01,  4.9540e-01, -2.1323e-01,  3.3095e-01,\n",
       "        7.7196e-03,  2.9927e-01, -5.2698e-01, -1.0404e-01,  4.7009e-01,\n",
       "       -5.8258e-01,  1.6288e-01, -7.9544e-02,  6.1939e-02,  2.8375e-01,\n",
       "       -4.4037e-01, -7.5070e-01, -1.5296e-01,  2.9760e-02,  1.2006e-01,\n",
       "       -4.6037e-01,  2.1513e-01, -1.0295e-01, -1.4258e-01,  1.1180e-01,\n",
       "        2.2674e-01, -3.7626e-02,  1.0077e-01,  4.9736e-01, -3.8819e+00,\n",
       "        1.4904e-01,  3.2302e-01,  1.2955e-01,  6.4444e-01,  4.2450e-02,\n",
       "        1.8696e-01,  7.7118e-01,  3.4262e-01, -4.5289e-01,  4.4030e-01,\n",
       "       -1.4978e-01, -6.0764e-02,  7.7281e-02, -3.3468e-01,  7.1248e-02,\n",
       "        2.2116e-01, -4.9457e-02,  1.8492e-01, -1.9650e-01,  7.8129e-02,\n",
       "       -2.1711e-02,  1.2032e-01,  3.1338e-01, -3.0113e-01, -5.3229e-01,\n",
       "        3.2588e-01,  5.0846e-01, -1.7859e-02, -1.0805e-01,  1.2627e-01,\n",
       "       -1.3633e-01, -3.3907e-02,  3.3271e-01,  1.5773e-01, -1.3863e-01,\n",
       "       -4.0004e-01,  6.3357e-02, -4.9237e-02, -2.2723e-02,  6.7328e-02,\n",
       "       -1.6148e-02,  1.7965e-01,  2.1492e-02, -8.6466e-02,  4.3398e-01,\n",
       "       -1.7513e-01, -1.8723e-01,  8.7121e-02,  3.7402e-03, -6.0361e-02,\n",
       "       -3.5685e-02, -1.5098e-01, -2.3230e-01, -2.7305e-02, -2.0543e-01,\n",
       "       -2.2470e-01,  2.2304e-01,  6.7792e-01,  1.0355e-01, -2.1062e-01,\n",
       "       -4.7903e-01, -2.3444e-01,  4.0274e-02,  3.7664e-01, -7.7392e-01,\n",
       "        6.5094e-02,  3.9508e-01,  2.1695e-01, -5.1995e-01, -1.7975e-01,\n",
       "        2.7784e-01, -1.9158e-01, -1.0007e-01,  7.5571e-02, -1.1185e-01])"
      ]
     },
     "execution_count": 20,
     "metadata": {
      "tags": []
     },
     "output_type": "execute_result"
    }
   ],
   "source": [
    "print(embedding_matrix.shape)\n",
    "embedding_matrix[10]"
   ]
  },
  {
   "cell_type": "code",
   "execution_count": 21,
   "metadata": {
    "colab": {
     "base_uri": "https://localhost:8080/",
     "height": 139
    },
    "colab_type": "code",
    "id": "ZgxSGDV647_F",
    "outputId": "30844f6a-89a6-4a2a-bcb8-9ad468067d7e"
   },
   "outputs": [
    {
     "name": "stdout",
     "output_type": "stream",
     "text": [
      "WARNING:tensorflow:From /tensorflow-1.15.2/python3.6/tensorflow_core/python/keras/initializers.py:119: calling RandomUniform.__init__ (from tensorflow.python.ops.init_ops) with dtype is deprecated and will be removed in a future version.\n",
      "Instructions for updating:\n",
      "Call initializer instance with the dtype argument instead of passing it to the constructor\n",
      "WARNING:tensorflow:From /tensorflow-1.15.2/python3.6/tensorflow_core/python/ops/resource_variable_ops.py:1630: calling BaseResourceVariable.__init__ (from tensorflow.python.ops.resource_variable_ops) with constraint is deprecated and will be removed in a future version.\n",
      "Instructions for updating:\n",
      "If using Keras pass *_constraint arguments to layers.\n"
     ]
    }
   ],
   "source": [
    "input_text = Input(shape=(train_text_encode.shape[1],), name='input_text')\n",
    "\n",
    "x1 =Embedding(input_dim=vocab_size, output_dim=embedding_matrix.shape[1], weights=[embedding_matrix], input_length=train_text_encode.shape[1], trainable=False, name='embed_text')(input_text)\n",
    "x1 = LSTM(128,kernel_regularizer=regularizers.l2(0.001),return_sequences=True)(x1)\n",
    "\n",
    "layer_1 = Flatten()(x1)"
   ]
  },
  {
   "cell_type": "markdown",
   "metadata": {
    "colab": {},
    "colab_type": "code",
    "id": "aVm4ebpQ478P"
   },
   "source": [
    "## Encoding Categorical features"
   ]
  },
  {
   "cell_type": "code",
   "execution_count": 22,
   "metadata": {
    "colab": {
     "base_uri": "https://localhost:8080/",
     "height": 102
    },
    "colab_type": "code",
    "id": "XPMzMHl4470t",
    "outputId": "be3b1293-7c1d-4892-b9c3-6fff2cc5c19b"
   },
   "outputs": [
    {
     "name": "stdout",
     "output_type": "stream",
     "text": [
      "Unique Categories: 5 Embedding Size: 4\n",
      "--------------------------------------------------\n",
      "(61178, 1)\n",
      "(32775, 1)\n",
      "(15295, 1)\n"
     ]
    }
   ],
   "source": [
    "tokenizer = Tokenizer()\n",
    "tokenizer.fit_on_texts(x_train[\"teacher_prefix\"].values.tolist())\n",
    "\n",
    "no_unique_prefix  = x_train[\"teacher_prefix\"].nunique()\n",
    "embed_prefix_size = int(min(np.ceil((no_unique_prefix)/2+1), 50 ))\n",
    "print('Unique Categories:', no_unique_prefix,'Embedding Size:', embed_prefix_size)\n",
    "\n",
    "print('-'*50)\n",
    "\n",
    "input_prefix = Input(shape=(1,),name=\"teacher_prefix\")\n",
    "x2 = Embedding(input_dim=no_unique_prefix+1, output_dim=embed_prefix_size+1, name=\"embed_prefix\", trainable=True)(input_prefix)\n",
    "layer_2 = Flatten()(x2)\n",
    "\n",
    "train_prefix_encode = encoding_padding(x_train[\"teacher_prefix\"], max_length=1)\n",
    "test_prefix_encode = encoding_padding(x_test[\"teacher_prefix\"], max_length=1)\n",
    "val_prefix_encode = encoding_padding(x_val[\"teacher_prefix\"], max_length=1)\n",
    "\n",
    "print(train_prefix_encode.shape)\n",
    "print(test_prefix_encode.shape)\n",
    "print(val_prefix_encode.shape)"
   ]
  },
  {
   "cell_type": "code",
   "execution_count": 23,
   "metadata": {
    "colab": {
     "base_uri": "https://localhost:8080/",
     "height": 102
    },
    "colab_type": "code",
    "id": "AQJuo9pC47tM",
    "outputId": "1accb3ae-2dc6-48af-cf48-a3b097863c3b"
   },
   "outputs": [
    {
     "name": "stdout",
     "output_type": "stream",
     "text": [
      "Unique Categories: 51 Embedding Size: 27\n",
      "--------------------------------------------------\n",
      "(61178, 1)\n",
      "(32775, 1)\n",
      "(15295, 1)\n"
     ]
    }
   ],
   "source": [
    "tokenizer = Tokenizer()\n",
    "tokenizer.fit_on_texts(x_train[\"school_state\"].values.tolist())\n",
    "\n",
    "no_unique_state  = x_train[\"school_state\"].nunique()\n",
    "embed_state_size = int(min(np.ceil((no_unique_state)/2+1), 50 ))\n",
    "print('Unique Categories:', no_unique_state,'Embedding Size:', embed_state_size)\n",
    "\n",
    "print('-'*50)\n",
    "\n",
    "input_state = Input(shape=(1,),name=\"school_state\")\n",
    "x3 = Embedding(input_dim=no_unique_state+1, output_dim=embed_state_size+1, name=\"embed_state\", trainable=True)(input_state)\n",
    "layer_3 = Flatten()(x3)\n",
    "\n",
    "train_state_encode = encoding_padding(x_train[\"school_state\"], max_length=1)\n",
    "test_state_encode = encoding_padding(x_test[\"school_state\"], max_length=1)\n",
    "val_state_encode = encoding_padding(x_val[\"school_state\"], max_length=1)\n",
    "\n",
    "print(train_state_encode.shape)\n",
    "print(test_state_encode.shape)\n",
    "print(val_state_encode.shape)"
   ]
  },
  {
   "cell_type": "code",
   "execution_count": 24,
   "metadata": {
    "colab": {
     "base_uri": "https://localhost:8080/",
     "height": 102
    },
    "colab_type": "code",
    "id": "iLETIgT447m5",
    "outputId": "f34fb502-2eea-4e21-bb15-86dc6d1134f0"
   },
   "outputs": [
    {
     "name": "stdout",
     "output_type": "stream",
     "text": [
      "Unique Categories: 4 Embedding Size: 3\n",
      "--------------------------------------------------\n",
      "(61178, 1)\n",
      "(32775, 1)\n",
      "(15295, 1)\n"
     ]
    }
   ],
   "source": [
    "tokenizer = Tokenizer()\n",
    "tokenizer.fit_on_texts(x_train[\"project_grade_category\"].values.tolist())\n",
    "\n",
    "no_unique_grade  = x_train[\"project_grade_category\"].nunique()\n",
    "embed_grade_size = int(min(np.ceil((no_unique_grade)/2+1), 50 ))\n",
    "print('Unique Categories:', no_unique_grade,'Embedding Size:', embed_grade_size)\n",
    "\n",
    "print('-'*50)\n",
    "\n",
    "input_grade = Input(shape=(1,),name=\"grade\")\n",
    "x4 = Embedding(input_dim=no_unique_grade+1, output_dim=embed_grade_size+1, name=\"embed_grade\", trainable=True)(input_grade)\n",
    "layer_4 = Flatten()(x4)\n",
    "\n",
    "train_grade_encode = encoding_padding(x_train[\"project_grade_category\"], max_length=1)\n",
    "test_grade_encode = encoding_padding(x_test[\"project_grade_category\"], max_length=1)\n",
    "val_grade_encode = encoding_padding(x_val[\"project_grade_category\"], max_length=1)\n",
    "\n",
    "print(train_grade_encode.shape)\n",
    "print(test_grade_encode.shape)\n",
    "print(val_grade_encode.shape)"
   ]
  },
  {
   "cell_type": "code",
   "execution_count": 25,
   "metadata": {
    "colab": {
     "base_uri": "https://localhost:8080/",
     "height": 102
    },
    "colab_type": "code",
    "id": "m5GWdIwI47bn",
    "outputId": "315c05b1-1f3a-4a49-9ac3-1e0c6dd4e45a"
   },
   "outputs": [
    {
     "name": "stdout",
     "output_type": "stream",
     "text": [
      "Unique Categories: 51 Embedding Size: 27\n",
      "--------------------------------------------------\n",
      "(61178, 1)\n",
      "(32775, 1)\n",
      "(15295, 1)\n"
     ]
    }
   ],
   "source": [
    "tokenizer = Tokenizer()\n",
    "tokenizer.fit_on_texts(x_train[\"project_subject_categories\"].values.tolist())\n",
    "\n",
    "no_unique_cat  = x_train[\"project_subject_categories\"].nunique()\n",
    "embed_cat_size = int(min(np.ceil((no_unique_cat)/2+1), 50 ))\n",
    "print('Unique Categories:', no_unique_cat ,'Embedding Size:', embed_cat_size)\n",
    "\n",
    "print('-'*50)\n",
    "\n",
    "input_cat= Input(shape=(1,),name=\"subject_categories\")\n",
    "x5 = Embedding(input_dim=no_unique_cat+1, output_dim=embed_cat_size+1, name=\"embed_cat\", trainable=True)(input_cat)\n",
    "layer_5 = Flatten()(x5)\n",
    "\n",
    "train_cat_encode = encoding_padding(x_train[\"project_subject_categories\"], max_length=1)\n",
    "test_cat_encode = encoding_padding(x_test[\"project_subject_categories\"], max_length=1)\n",
    "val_cat_encode = encoding_padding(x_val[\"project_subject_categories\"], max_length=1)\n",
    "\n",
    "print(train_cat_encode.shape)\n",
    "print(test_cat_encode.shape)\n",
    "print(val_cat_encode.shape)"
   ]
  },
  {
   "cell_type": "code",
   "execution_count": 26,
   "metadata": {
    "colab": {
     "base_uri": "https://localhost:8080/",
     "height": 102
    },
    "colab_type": "code",
    "id": "6CU_6plp47R_",
    "outputId": "c4065c25-6412-4695-9e4c-c7247ab45a5a"
   },
   "outputs": [
    {
     "name": "stdout",
     "output_type": "stream",
     "text": [
      "Unique Categories: 390 Embedding Size: 50\n",
      "--------------------------------------------------\n",
      "(61178, 1)\n",
      "(32775, 1)\n",
      "(15295, 1)\n"
     ]
    }
   ],
   "source": [
    "tokenizer = Tokenizer()\n",
    "tokenizer.fit_on_texts(x_train[\"project_subject_subcategories\"].values.tolist())\n",
    "\n",
    "no_unique_subcat  = x_train[\"project_subject_subcategories\"].nunique()\n",
    "embed_subcat_size = int(min(np.ceil((no_unique_subcat)/2+1), 50 ))\n",
    "print('Unique Categories:', no_unique_subcat ,'Embedding Size:', embed_subcat_size)\n",
    "\n",
    "print('-'*50)\n",
    "\n",
    "input_subcat= Input(shape=(1,),name=\"subject_subcategories\")\n",
    "x6 = Embedding(input_dim=no_unique_subcat+1, output_dim=embed_subcat_size, name=\"embed_subcat\", trainable=True)(input_subcat)\n",
    "layer_6 = Flatten()(x6)\n",
    "\n",
    "train_subcat_encode = encoding_padding(x_train[\"project_subject_subcategories\"], max_length=1)\n",
    "test_subcat_encode = encoding_padding(x_test[\"project_subject_subcategories\"], max_length=1)\n",
    "val_subcat_encode = encoding_padding(x_val[\"project_subject_subcategories\"], max_length=1)\n",
    "\n",
    "print(train_subcat_encode.shape)\n",
    "print(test_subcat_encode.shape)\n",
    "print(val_subcat_encode.shape)"
   ]
  },
  {
   "cell_type": "markdown",
   "metadata": {},
   "source": [
    "## Scaling Numerical features"
   ]
  },
  {
   "cell_type": "code",
   "execution_count": 27,
   "metadata": {
    "colab": {
     "base_uri": "https://localhost:8080/",
     "height": 68
    },
    "colab_type": "code",
    "id": "t8CKOUbl47JV",
    "outputId": "4dbf36fa-c0dd-4a39-ca37-4e8a85ccd68c"
   },
   "outputs": [
    {
     "name": "stdout",
     "output_type": "stream",
     "text": [
      "(61178, 4)\n",
      "(32775, 4)\n",
      "(15295, 4)\n"
     ]
    }
   ],
   "source": [
    "train_remaining_input = np.concatenate((x_train['price'].values.reshape(-1,1),\n",
    "                                  x_train['quantity'].values.reshape(-1,1),\n",
    "                                  x_train['teacher_number_of_previously_posted_projects'].values.reshape(-1,1),\n",
    "                                  x_train['digits_in_project_summary'].values.reshape(-1,1)), axis=1)\n",
    "\n",
    "test_remaining_input = np.concatenate((x_test['price'].values.reshape(-1,1),\n",
    "                                  x_test['quantity'].values.reshape(-1,1),\n",
    "                                  x_test['teacher_number_of_previously_posted_projects'].values.reshape(-1,1),\n",
    "                                  x_test['digits_in_project_summary'].values.reshape(-1,1)), axis=1)\n",
    "\n",
    "val_remaining_input = np.concatenate((x_val['price'].values.reshape(-1,1),\n",
    "                                  x_val['quantity'].values.reshape(-1,1),\n",
    "                                  x_val['teacher_number_of_previously_posted_projects'].values.reshape(-1,1),\n",
    "                                  x_val['digits_in_project_summary'].values.reshape(-1,1)), axis=1)\n",
    "\n",
    "print(train_remaining_input.shape)\n",
    "print(test_remaining_input.shape)\n",
    "print(val_remaining_input.shape)"
   ]
  },
  {
   "cell_type": "code",
   "execution_count": 28,
   "metadata": {
    "colab": {
     "base_uri": "https://localhost:8080/",
     "height": 68
    },
    "colab_type": "code",
    "id": "_DPACTpl47Ab",
    "outputId": "2eda073c-7a5c-4280-c06d-08888657a9e7"
   },
   "outputs": [
    {
     "name": "stdout",
     "output_type": "stream",
     "text": [
      "(61178, 4)\n",
      "(32775, 4)\n",
      "(15295, 4)\n"
     ]
    }
   ],
   "source": [
    "scaler = StandardScaler()\n",
    "\n",
    "train_rem_input = scaler.fit_transform(train_remaining_input)\n",
    "test_rem_input = scaler.transform(test_remaining_input)\n",
    "val_rem_input = scaler.transform(val_remaining_input)\n",
    "\n",
    "num_feats = Input(shape=(4,), name=\"numerical_features\")\n",
    "layer_7 = Dense(100,activation=\"relu\",kernel_initializer=\"he_normal\",kernel_regularizer=regularizers.l2(0.001))(num_feats)\n",
    "\n",
    "print(train_rem_input.shape)\n",
    "print(test_rem_input.shape)\n",
    "print(val_rem_input.shape)"
   ]
  },
  {
   "cell_type": "markdown",
   "metadata": {
    "colab": {},
    "colab_type": "code",
    "id": "TZBnePzt463W"
   },
   "source": [
    "## LSTM Model"
   ]
  },
  {
   "cell_type": "code",
   "execution_count": 29,
   "metadata": {
    "colab": {},
    "colab_type": "code",
    "id": "Hb1BdTlb4659"
   },
   "outputs": [],
   "source": [
    "x_concat = concatenate([layer_1, layer_2, layer_3, layer_4, layer_5, layer_6, layer_7])\n",
    "\n",
    "x = Dense(128,activation=\"relu\", kernel_initializer=\"he_normal\",kernel_regularizer=regularizers.l2(0.001))(x_concat)\n",
    "x = Dropout(0.4)(x)\n",
    "x = Dense(256,activation=\"relu\",kernel_initializer=\"he_normal\",kernel_regularizer=regularizers.l2(0.001))(x)\n",
    "x = Dropout(0.4)(x)\n",
    "x = Dense(64,activation=\"relu\", kernel_initializer=\"he_normal\",kernel_regularizer=regularizers.l2(0.001))(x)\n",
    "x = BatchNormalization()(x)\n",
    "\n",
    "output = Dense(2, activation='softmax', name='Output')(x)"
   ]
  },
  {
   "cell_type": "code",
   "execution_count": 30,
   "metadata": {
    "colab": {},
    "colab_type": "code",
    "id": "NYNx-ktV4606"
   },
   "outputs": [],
   "source": [
    "train_data = [train_text_encode, train_prefix_encode, train_state_encode, train_grade_encode,\n",
    "              train_cat_encode, train_subcat_encode, train_rem_input]\n",
    "\n",
    "test_data = [test_text_encode, test_prefix_encode, test_state_encode, test_grade_encode,\n",
    "             test_cat_encode, test_subcat_encode, test_rem_input]\n",
    "\n",
    "val_data = [val_text_encode, val_prefix_encode, val_state_encode, val_grade_encode,\n",
    "            val_cat_encode, val_subcat_encode, val_rem_input]\n",
    "\n",
    "model_input = [input_text,input_prefix,input_state,input_grade,input_cat,input_subcat,num_feats]\n",
    "\n",
    "model_output = [output]"
   ]
  },
  {
   "cell_type": "code",
   "execution_count": 31,
   "metadata": {
    "colab": {},
    "colab_type": "code",
    "id": "ur4ZDMyK46r6"
   },
   "outputs": [],
   "source": [
    "from keras_tqdm import TQDMNotebookCallback\n",
    "def border_msg(msg):\n",
    "    row = len(msg)\n",
    "    h = ''.join(['+'] + ['-' *row] + ['+'])\n",
    "    result= h + '\\n'\"|\"+msg+\"|\"'\\n' + h\n",
    "    print(result)\n",
    "  \n",
    "class TqdmCallbackFix(TQDMNotebookCallback):\n",
    "    def _implements_train_batch_hooks(self): return True\n",
    "    def _implements_test_batch_hooks(self): return True\n",
    "    def _implements_predict_batch_hooks(self): return True"
   ]
  },
  {
   "cell_type": "code",
   "execution_count": 32,
   "metadata": {
    "colab": {},
    "colab_type": "code",
    "id": "8ok5tB3D46pD"
   },
   "outputs": [],
   "source": [
    "#custom metric for auc score\n",
    "def auc_score(y_true, y_pred):\n",
    "    if len(np.unique(y_true[:,1])) == 1:\n",
    "        return 0.5\n",
    "    else:\n",
    "        return roc_auc_score(y_true, y_pred)\n",
    "\n",
    "def auc(y_true, y_pred):\n",
    "    return tf.py_function(auc_score, (y_true, y_pred), tf.double)"
   ]
  },
  {
   "cell_type": "code",
   "execution_count": 33,
   "metadata": {
    "colab": {
     "base_uri": "https://localhost:8080/",
     "height": 68
    },
    "colab_type": "code",
    "id": "njy_1M3T7ItH",
    "outputId": "1d1402c4-92b7-429e-cce8-e2bdf4fbded8"
   },
   "outputs": [
    {
     "name": "stdout",
     "output_type": "stream",
     "text": [
      "Wait for 8 seconds...\n",
      "TensorBoard link:\n",
      "https://d30604dfb18c.ngrok.io\n"
     ]
    }
   ],
   "source": [
    "tbc=TensorBoardColab()"
   ]
  },
  {
   "cell_type": "code",
   "execution_count": 34,
   "metadata": {
    "colab": {},
    "colab_type": "code",
    "id": "Q_vzyIL97IjD"
   },
   "outputs": [],
   "source": [
    "def final_model(model_input, model_output, train_data, test_data, val_data, opt = 'adam', epoch=20, batch_size=128, lr=0.01):\n",
    "    \n",
    "    def select_optim():\n",
    "        if opt=='adam':\n",
    "            return Adam(learning_rate=lr)\n",
    "        elif opt=='sgd':\n",
    "            return SGD(learning_rate=lr, momentum=0.7)\n",
    "        elif opt=='rmsprop':\n",
    "            return RMSprop(lr=lr)\n",
    "\n",
    "    lr_reduce= ReduceLROnPlateau(monitor='val_auc', mode='max', patience=5, verbose=1, factor=0.1, min_lr=0.00001)\n",
    "\n",
    "    filepath=\"/content/drive/My Drive/LSTM/LSTM_output/model-epochs:{epoch:03d}-auc:{auc:03f}-val_auc:{val_auc:03f}.h5\"\n",
    "\n",
    "    checkpoint = ModelCheckpoint(filepath, monitor=\"val_auc\", mode=\"max\", save_best_only = True, verbose=1)\n",
    "\n",
    "    #earlystop = EarlyStopping(monitor = 'val_auc', mode=\"max\", patience = 5, verbose = 1, restore_best_weights = True)\n",
    "    \n",
    "    #tensorboard = TensorBoard(log_dir='model_graph_1', batch_size=256, write_graph=True, update_freq='epoch')\n",
    "\n",
    "    print(\"-\"*120)\n",
    "    border_msg('BUILDING MODEL')\n",
    "    print(\"-\"*120+'\\n')\n",
    "\n",
    "    model = Model(inputs=model_input, outputs=model_output)\n",
    "\n",
    "    model.compile(optimizer=select_optim(), loss='categorical_crossentropy', metrics=[auc])\n",
    "\n",
    "    print(model.summary())\n",
    "\n",
    "    logdir = os.path.join(\"logs\", datetime.datetime.now().strftime(\"%Y%m%d-%H%M%S\"))\n",
    "    tensorboard_callback = tf.keras.callbacks.TensorBoard(logdir, histogram_freq=1)\n",
    "\n",
    "    print(\"-\"*120)\n",
    "    border_msg('FITTING MODEL')\n",
    "    print(\"-\"*120+'\\n')\n",
    "\n",
    "    train_model = model.fit(train_data,y_train,batch_size=batch_size, epochs=epoch, \n",
    "                            validation_data = (val_data, y_val),\n",
    "                            callbacks=[checkpoint, TensorBoardColabCallback(tbc)], \n",
    "                            class_weight = class_weights)\n",
    "\n",
    "    print(\"-\"*120)\n",
    "    border_msg('EVALUATING MODEL')\n",
    "    print(\"-\"*120+'\\n')\n",
    "\n",
    "    score = model.evaluate(test_data, y_test, verbose=1)\n",
    "    print('Test loss:', score[0])\n",
    "    print('Test AUC_score:', score[1])\n",
    "    \n",
    "\n",
    "    return model, train_model"
   ]
  },
  {
   "cell_type": "code",
   "execution_count": 35,
   "metadata": {
    "colab": {
     "base_uri": "https://localhost:8080/",
     "height": 1000
    },
    "colab_type": "code",
    "id": "uW9mabIl7Icm",
    "outputId": "336675c5-9710-4483-f196-d3d7d82f0ac6"
   },
   "outputs": [
    {
     "name": "stdout",
     "output_type": "stream",
     "text": [
      "------------------------------------------------------------------------------------------------------------------------\n",
      "+--------------+\n",
      "|BUILDING MODEL|\n",
      "+--------------+\n",
      "------------------------------------------------------------------------------------------------------------------------\n",
      "\n",
      "Model: \"model\"\n",
      "__________________________________________________________________________________________________\n",
      "Layer (type)                    Output Shape         Param #     Connected to                     \n",
      "==================================================================================================\n",
      "input_text (InputLayer)         [(None, 334)]        0                                            \n",
      "__________________________________________________________________________________________________\n",
      "embed_text (Embedding)          (None, 334, 300)     6991200     input_text[0][0]                 \n",
      "__________________________________________________________________________________________________\n",
      "teacher_prefix (InputLayer)     [(None, 1)]          0                                            \n",
      "__________________________________________________________________________________________________\n",
      "school_state (InputLayer)       [(None, 1)]          0                                            \n",
      "__________________________________________________________________________________________________\n",
      "grade (InputLayer)              [(None, 1)]          0                                            \n",
      "__________________________________________________________________________________________________\n",
      "subject_categories (InputLayer) [(None, 1)]          0                                            \n",
      "__________________________________________________________________________________________________\n",
      "subject_subcategories (InputLay [(None, 1)]          0                                            \n",
      "__________________________________________________________________________________________________\n",
      "lstm (LSTM)                     (None, 334, 128)     219648      embed_text[0][0]                 \n",
      "__________________________________________________________________________________________________\n",
      "embed_prefix (Embedding)        (None, 1, 5)         30          teacher_prefix[0][0]             \n",
      "__________________________________________________________________________________________________\n",
      "embed_state (Embedding)         (None, 1, 28)        1456        school_state[0][0]               \n",
      "__________________________________________________________________________________________________\n",
      "embed_grade (Embedding)         (None, 1, 4)         20          grade[0][0]                      \n",
      "__________________________________________________________________________________________________\n",
      "embed_cat (Embedding)           (None, 1, 28)        1456        subject_categories[0][0]         \n",
      "__________________________________________________________________________________________________\n",
      "embed_subcat (Embedding)        (None, 1, 50)        19550       subject_subcategories[0][0]      \n",
      "__________________________________________________________________________________________________\n",
      "numerical_features (InputLayer) [(None, 4)]          0                                            \n",
      "__________________________________________________________________________________________________\n",
      "flatten (Flatten)               (None, 42752)        0           lstm[0][0]                       \n",
      "__________________________________________________________________________________________________\n",
      "flatten_1 (Flatten)             (None, 5)            0           embed_prefix[0][0]               \n",
      "__________________________________________________________________________________________________\n",
      "flatten_2 (Flatten)             (None, 28)           0           embed_state[0][0]                \n",
      "__________________________________________________________________________________________________\n",
      "flatten_3 (Flatten)             (None, 4)            0           embed_grade[0][0]                \n",
      "__________________________________________________________________________________________________\n",
      "flatten_4 (Flatten)             (None, 28)           0           embed_cat[0][0]                  \n",
      "__________________________________________________________________________________________________\n",
      "flatten_5 (Flatten)             (None, 50)           0           embed_subcat[0][0]               \n",
      "__________________________________________________________________________________________________\n",
      "dense (Dense)                   (None, 100)          500         numerical_features[0][0]         \n",
      "__________________________________________________________________________________________________\n",
      "concatenate (Concatenate)       (None, 42967)        0           flatten[0][0]                    \n",
      "                                                                 flatten_1[0][0]                  \n",
      "                                                                 flatten_2[0][0]                  \n",
      "                                                                 flatten_3[0][0]                  \n",
      "                                                                 flatten_4[0][0]                  \n",
      "                                                                 flatten_5[0][0]                  \n",
      "                                                                 dense[0][0]                      \n",
      "__________________________________________________________________________________________________\n",
      "dense_1 (Dense)                 (None, 128)          5499904     concatenate[0][0]                \n",
      "__________________________________________________________________________________________________\n",
      "dropout (Dropout)               (None, 128)          0           dense_1[0][0]                    \n",
      "__________________________________________________________________________________________________\n",
      "dense_2 (Dense)                 (None, 256)          33024       dropout[0][0]                    \n",
      "__________________________________________________________________________________________________\n",
      "dropout_1 (Dropout)             (None, 256)          0           dense_2[0][0]                    \n",
      "__________________________________________________________________________________________________\n",
      "dense_3 (Dense)                 (None, 64)           16448       dropout_1[0][0]                  \n",
      "__________________________________________________________________________________________________\n",
      "batch_normalization (BatchNorma (None, 64)           256         dense_3[0][0]                    \n",
      "__________________________________________________________________________________________________\n",
      "Output (Dense)                  (None, 2)            130         batch_normalization[0][0]        \n",
      "==================================================================================================\n",
      "Total params: 12,783,622\n",
      "Trainable params: 5,792,294\n",
      "Non-trainable params: 6,991,328\n",
      "__________________________________________________________________________________________________\n",
      "None\n",
      "------------------------------------------------------------------------------------------------------------------------\n",
      "+-------------+\n",
      "|FITTING MODEL|\n",
      "+-------------+\n",
      "------------------------------------------------------------------------------------------------------------------------\n",
      "\n",
      "WARNING:tensorflow:From /tensorflow-1.15.2/python3.6/tensorflow_core/python/ops/math_grad.py:1424: where (from tensorflow.python.ops.array_ops) is deprecated and will be removed in a future version.\n",
      "Instructions for updating:\n",
      "Use tf.where in 2.0, which has the same broadcast rule as np.where\n",
      "Train on 61178 samples, validate on 15295 samples\n",
      "WARNING:tensorflow:From /usr/local/lib/python3.6/dist-packages/tensorboardcolab/core.py:49: The name tf.summary.FileWriter is deprecated. Please use tf.compat.v1.summary.FileWriter instead.\n",
      "\n",
      "WARNING:tensorflow:From /usr/local/lib/python3.6/dist-packages/keras/callbacks/tensorboard_v1.py:200: The name tf.summary.merge_all is deprecated. Please use tf.compat.v1.summary.merge_all instead.\n",
      "\n",
      "Epoch 1/15\n",
      "60928/61178 [============================>.] - ETA: 0s - loss: 1.4632 - auc: 0.5894\n",
      "Epoch 00001: val_auc improved from -inf to 0.69869, saving model to /content/drive/My Drive/LSTM/LSTM_output/model-epochs:001-auc:0.590213-val_auc:0.698692.h5\n",
      "WARNING:tensorflow:From /usr/local/lib/python3.6/dist-packages/tensorboardcolab/callbacks.py:51: The name tf.Summary is deprecated. Please use tf.compat.v1.Summary instead.\n",
      "\n",
      "61178/61178 [==============================] - 134s 2ms/sample - loss: 1.4613 - auc: 0.5902 - val_loss: 0.9805 - val_auc: 0.6987\n",
      "Epoch 2/15\n",
      "60928/61178 [============================>.] - ETA: 0s - loss: 0.8361 - auc: 0.6792\n",
      "Epoch 00002: val_auc did not improve from 0.69869\n",
      "61178/61178 [==============================] - 132s 2ms/sample - loss: 0.8357 - auc: 0.6794 - val_loss: 0.7432 - val_auc: 0.6885\n",
      "Epoch 3/15\n",
      "60928/61178 [============================>.] - ETA: 0s - loss: 0.6612 - auc: 0.7074\n",
      "Epoch 00003: val_auc improved from 0.69869 to 0.72399, saving model to /content/drive/My Drive/LSTM/LSTM_output/model-epochs:003-auc:0.707659-val_auc:0.723986.h5\n",
      "61178/61178 [==============================] - 133s 2ms/sample - loss: 0.6611 - auc: 0.7077 - val_loss: 0.6225 - val_auc: 0.7240\n",
      "Epoch 4/15\n",
      "60928/61178 [============================>.] - ETA: 0s - loss: 0.5736 - auc: 0.7217\n",
      "Epoch 00004: val_auc did not improve from 0.72399\n",
      "61178/61178 [==============================] - 132s 2ms/sample - loss: 0.5736 - auc: 0.7221 - val_loss: 0.5565 - val_auc: 0.7234\n",
      "Epoch 5/15\n",
      "60928/61178 [============================>.] - ETA: 0s - loss: 0.5179 - auc: 0.7333\n",
      "Epoch 00005: val_auc did not improve from 0.72399\n",
      "61178/61178 [==============================] - 133s 2ms/sample - loss: 0.5180 - auc: 0.7329 - val_loss: 0.5124 - val_auc: 0.7031\n",
      "Epoch 6/15\n",
      "60928/61178 [============================>.] - ETA: 0s - loss: 0.4820 - auc: 0.7398\n",
      "Epoch 00006: val_auc improved from 0.72399 to 0.73101, saving model to /content/drive/My Drive/LSTM/LSTM_output/model-epochs:006-auc:0.739600-val_auc:0.731014.h5\n",
      "61178/61178 [==============================] - 133s 2ms/sample - loss: 0.4819 - auc: 0.7396 - val_loss: 0.4730 - val_auc: 0.7310\n",
      "Epoch 7/15\n",
      "60928/61178 [============================>.] - ETA: 0s - loss: 0.4568 - auc: 0.7440\n",
      "Epoch 00007: val_auc improved from 0.73101 to 0.73240, saving model to /content/drive/My Drive/LSTM/LSTM_output/model-epochs:007-auc:0.743905-val_auc:0.732403.h5\n",
      "61178/61178 [==============================] - 133s 2ms/sample - loss: 0.4568 - auc: 0.7439 - val_loss: 0.4596 - val_auc: 0.7324\n",
      "Epoch 8/15\n",
      "60928/61178 [============================>.] - ETA: 0s - loss: 0.4383 - auc: 0.7481\n",
      "Epoch 00008: val_auc improved from 0.73240 to 0.74242, saving model to /content/drive/My Drive/LSTM/LSTM_output/model-epochs:008-auc:0.748732-val_auc:0.742424.h5\n",
      "61178/61178 [==============================] - 133s 2ms/sample - loss: 0.4381 - auc: 0.7487 - val_loss: 0.4345 - val_auc: 0.7424\n",
      "Epoch 9/15\n",
      "60928/61178 [============================>.] - ETA: 0s - loss: 0.4261 - auc: 0.7528\n",
      "Epoch 00009: val_auc improved from 0.74242 to 0.74496, saving model to /content/drive/My Drive/LSTM/LSTM_output/model-epochs:009-auc:0.752628-val_auc:0.744961.h5\n",
      "61178/61178 [==============================] - 133s 2ms/sample - loss: 0.4261 - auc: 0.7526 - val_loss: 0.4276 - val_auc: 0.7450\n",
      "Epoch 10/15\n",
      "60928/61178 [============================>.] - ETA: 0s - loss: 0.4199 - auc: 0.7546\n",
      "Epoch 00010: val_auc improved from 0.74496 to 0.74540, saving model to /content/drive/My Drive/LSTM/LSTM_output/model-epochs:010-auc:0.753998-val_auc:0.745402.h5\n",
      "61178/61178 [==============================] - 134s 2ms/sample - loss: 0.4199 - auc: 0.7540 - val_loss: 0.4329 - val_auc: 0.7454\n",
      "Epoch 11/15\n",
      "60928/61178 [============================>.] - ETA: 0s - loss: 0.4141 - auc: 0.7573\n",
      "Epoch 00011: val_auc did not improve from 0.74540\n",
      "61178/61178 [==============================] - 133s 2ms/sample - loss: 0.4141 - auc: 0.7569 - val_loss: 0.4164 - val_auc: 0.7427\n",
      "Epoch 12/15\n",
      "60928/61178 [============================>.] - ETA: 0s - loss: 0.4086 - auc: 0.7597\n",
      "Epoch 00012: val_auc did not improve from 0.74540\n",
      "61178/61178 [==============================] - 133s 2ms/sample - loss: 0.4088 - auc: 0.7595 - val_loss: 0.4278 - val_auc: 0.7407\n",
      "Epoch 13/15\n",
      "60928/61178 [============================>.] - ETA: 0s - loss: 0.4042 - auc: 0.7632\n",
      "Epoch 00013: val_auc did not improve from 0.74540\n",
      "61178/61178 [==============================] - 133s 2ms/sample - loss: 0.4041 - auc: 0.7640 - val_loss: 0.4138 - val_auc: 0.7448\n",
      "Epoch 14/15\n",
      "60928/61178 [============================>.] - ETA: 0s - loss: 0.4013 - auc: 0.7671\n",
      "Epoch 00014: val_auc did not improve from 0.74540\n",
      "61178/61178 [==============================] - 132s 2ms/sample - loss: 0.4010 - auc: 0.7670 - val_loss: 0.4194 - val_auc: 0.7413\n",
      "Epoch 15/15\n",
      "60928/61178 [============================>.] - ETA: 0s - loss: 0.4009 - auc: 0.7684\n",
      "Epoch 00015: val_auc did not improve from 0.74540\n",
      "61178/61178 [==============================] - 132s 2ms/sample - loss: 0.4008 - auc: 0.7684 - val_loss: 0.4309 - val_auc: 0.7437\n",
      "------------------------------------------------------------------------------------------------------------------------\n",
      "+----------------+\n",
      "|EVALUATING MODEL|\n",
      "+----------------+\n",
      "------------------------------------------------------------------------------------------------------------------------\n",
      "\n",
      "32775/32775 [==============================] - 156s 5ms/sample - loss: 0.4303 - auc: 0.7402\n",
      "Test loss: 0.4302754739511113\n",
      "Test accuracy: 0.74018455\n"
     ]
    }
   ],
   "source": [
    "model_2, train_model_2 = final_model(model_input, model_output, train_data, test_data, val_data, opt='adam', epoch=15, batch_size=512, lr=0.001)"
   ]
  },
  {
   "cell_type": "code",
   "execution_count": 37,
   "metadata": {
    "colab": {
     "base_uri": "https://localhost:8080/",
     "height": 34
    },
    "colab_type": "code",
    "id": "A5VXEyogiIHx",
    "outputId": "eba841e2-aabd-4a35-fab3-c98c90548b1b"
   },
   "outputs": [
    {
     "name": "stdout",
     "output_type": "stream",
     "text": [
      "Saved model to disk\n"
     ]
    }
   ],
   "source": [
    "# serialize model to JSON\n",
    "model_json = model_2.to_json()\n",
    "with open(\"drive/My Drive/LSTM/model_2.json\", \"w\") as json_file:\n",
    "  json_file.write(model_json)\n",
    "    \n",
    "# serialize weights to HDF5\n",
    "model_2.save_weights(\"drive/My Drive/LSTM/model_2_weights.h5\")\n",
    "print(\"Saved model to disk\")"
   ]
  },
  {
   "cell_type": "code",
   "execution_count": 38,
   "metadata": {
    "colab": {
     "base_uri": "https://localhost:8080/",
     "height": 390
    },
    "colab_type": "code",
    "id": "gNVFZC008iuE",
    "outputId": "77b1b5b8-e955-46a7-a2e3-06daa5a4cb9c"
   },
   "outputs": [
    {
     "data": {
      "image/png": "[encoded data removed]",
      "text/plain": [
       "<Figure size 1008x432 with 2 Axes>"
      ]
     },
     "metadata": {
      "needs_background": "light",
      "tags": []
     },
     "output_type": "display_data"
    }
   ],
   "source": [
    "fig = plt.figure(figsize=(14,6))\n",
    "plt.subplot(1, 2, 1)\n",
    "plt.title('AUC plot')\n",
    "plt.plot(train_model_2.history['auc'], 'r')\n",
    "plt.plot(train_model_2.history['val_auc'], 'b')\n",
    "plt.legend({'Train AUC': 'r', 'Val AUC':'b'})\n",
    "\n",
    "plt.subplot(1, 2, 2)\n",
    "plt.title('Loss plot')\n",
    "plt.plot(train_model_2.history['loss'], 'r')\n",
    "plt.plot(train_model_2.history['val_loss'], 'b')\n",
    "plt.legend({'Train Loss': 'r', 'Val Loss':'b'})\n",
    "plt.show()"
   ]
  },
  {
   "cell_type": "markdown",
   "metadata": {
    "colab": {},
    "colab_type": "code",
    "id": "3RTXa-nt7IYv"
   },
   "source": [
    "## Visualizing Model "
   ]
  },
  {
   "cell_type": "code",
   "execution_count": 39,
   "metadata": {
    "colab": {
     "base_uri": "https://localhost:8080/",
     "height": 437
    },
    "colab_type": "code",
    "id": "K3BdhV0v8g4g",
    "outputId": "88ea33be-fad4-4ed6-c081-62173bc3bb9a"
   },
   "outputs": [
    {
     "data": {
      "image/png": "[encoded data removed]",
      "text/plain": [
       "<IPython.core.display.Image object>"
      ]
     },
     "execution_count": 39,
     "metadata": {
      "tags": []
     },
     "output_type": "execute_result"
    }
   ],
   "source": [
    "from IPython.display import Image\n",
    "import pydot_ng as pydot\n",
    "\n",
    "plot_model(model_2, show_shapes=True, show_layer_names=True, to_file='/content/drive/My Drive/LSTM/model_2.png')"
   ]
  },
  {
   "cell_type": "markdown",
   "metadata": {
    "colab": {},
    "colab_type": "code",
    "id": "mKTeHsT1Ov-R"
   },
   "source": [
    "## Tensorboard Plots"
   ]
  },
  {
   "cell_type": "markdown",
   "metadata": {},
   "source": [
    "### Tensorboard AUC PLOT\n",
    "<img src=\"auc.svg\" width=\"600\" height=\"400\">"
   ]
  },
  {
   "cell_type": "markdown",
   "metadata": {},
   "source": [
    "### Tensorboard LOSS PLOT\n",
    "<img src=\"loss.svg\" width=\"600\" height=\"400\">"
   ]
  },
  {
   "cell_type": "markdown",
   "metadata": {},
   "source": [
    "__We get an AUC score of 74.01 on this LSTM model__"
   ]
  },
  {
   "cell_type": "code",
   "execution_count": null,
   "metadata": {},
   "outputs": [],
   "source": []
  }
 ],
 "metadata": {
  "accelerator": "GPU",
  "colab": {
   "collapsed_sections": [],
   "machine_shape": "hm",
   "name": "LSTM_on_Donors_chooose-Model_2.ipynb",
   "provenance": []
  },
  "kernelspec": {
   "display_name": "Python 3",
   "language": "python",
   "name": "python3"
  },
  "language_info": {
   "codemirror_mode": {
    "name": "ipython",
    "version": 3
   },
   "file_extension": ".py",
   "mimetype": "text/x-python",
   "name": "python",
   "nbconvert_exporter": "python",
   "pygments_lexer": "ipython3",
   "version": "3.6.10"
  }
 },
 "nbformat": 4,
 "nbformat_minor": 1
}
