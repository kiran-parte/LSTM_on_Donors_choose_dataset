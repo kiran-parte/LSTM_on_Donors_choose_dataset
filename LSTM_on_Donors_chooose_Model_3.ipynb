{
 "cells": [
  {
   "cell_type": "markdown",
   "metadata": {},
   "source": [
    "# LSTM on Donors Choose dataset -  Model-3"
   ]
  },
  {
   "cell_type": "markdown",
   "metadata": {},
   "source": [
    "<img src='https://i.imgur.com/fkQ8nGo.png'>\n",
    "ref: https://i.imgur.com/fkQ8nGo.png"
   ]
  },
  {
   "cell_type": "code",
   "execution_count": null,
   "metadata": {
    "colab": {},
    "colab_type": "code",
    "id": "5ZA-qj655PaL"
   },
   "outputs": [],
   "source": [
    "from google.colab import drive\n",
    "drive.flush_and_unmount()"
   ]
  },
  {
   "cell_type": "code",
   "execution_count": 2,
   "metadata": {
    "colab": {
     "base_uri": "https://localhost:8080/",
     "height": 34
    },
    "colab_type": "code",
    "id": "wS_RKBI54v-q",
    "outputId": "f70f7f94-a8f5-4651-b575-5a7df0e602f8"
   },
   "outputs": [
    {
     "name": "stdout",
     "output_type": "stream",
     "text": [
      "Mounted at /content/drive\n"
     ]
    }
   ],
   "source": [
    "from google.colab import drive\n",
    "drive.mount('/content/drive', force_remount=True)"
   ]
  },
  {
   "cell_type": "code",
   "execution_count": 3,
   "metadata": {
    "colab": {
     "base_uri": "https://localhost:8080/",
     "height": 734
    },
    "colab_type": "code",
    "id": "bQCgSdBk48rb",
    "outputId": "c8892c77-858e-4e81-daea-cea226ff598f"
   },
   "outputs": [
    {
     "name": "stdout",
     "output_type": "stream",
     "text": [
      "TensorFlow 1.x selected.\n"
     ]
    },
    {
     "name": "stderr",
     "output_type": "stream",
     "text": [
      "/usr/local/lib/python3.6/dist-packages/statsmodels/tools/_testing.py:19: FutureWarning: pandas.util.testing is deprecated. Use the functions in the public API at pandas.testing instead.\n",
      "  import pandas.util.testing as tm\n",
      "Using TensorFlow backend.\n"
     ]
    },
    {
     "name": "stdout",
     "output_type": "stream",
     "text": [
      "Requirement already up-to-date: tensorboardcolab in /usr/local/lib/python3.6/dist-packages (0.0.22)\n",
      "Requirement already up-to-date: tensorboard in /usr/local/lib/python3.6/dist-packages (2.3.0)\n",
      "Requirement already satisfied, skipping upgrade: six>=1.10.0 in /usr/local/lib/python3.6/dist-packages (from tensorboard) (1.15.0)\n",
      "Requirement already satisfied, skipping upgrade: wheel>=0.26; python_version >= \"3\" in /usr/local/lib/python3.6/dist-packages (from tensorboard) (0.34.2)\n",
      "Requirement already satisfied, skipping upgrade: markdown>=2.6.8 in /usr/local/lib/python3.6/dist-packages (from tensorboard) (3.2.2)\n",
      "Requirement already satisfied, skipping upgrade: absl-py>=0.4 in /usr/local/lib/python3.6/dist-packages (from tensorboard) (0.9.0)\n",
      "Requirement already satisfied, skipping upgrade: tensorboard-plugin-wit>=1.6.0 in /usr/local/lib/python3.6/dist-packages (from tensorboard) (1.7.0)\n",
      "Requirement already satisfied, skipping upgrade: werkzeug>=0.11.15 in /usr/local/lib/python3.6/dist-packages (from tensorboard) (1.0.1)\n",
      "Requirement already satisfied, skipping upgrade: google-auth<2,>=1.6.3 in /usr/local/lib/python3.6/dist-packages (from tensorboard) (1.17.2)\n",
      "Requirement already satisfied, skipping upgrade: grpcio>=1.24.3 in /usr/local/lib/python3.6/dist-packages (from tensorboard) (1.30.0)\n",
      "Requirement already satisfied, skipping upgrade: protobuf>=3.6.0 in /usr/local/lib/python3.6/dist-packages (from tensorboard) (3.12.2)\n",
      "Requirement already satisfied, skipping upgrade: setuptools>=41.0.0 in /usr/local/lib/python3.6/dist-packages (from tensorboard) (49.1.0)\n",
      "Requirement already satisfied, skipping upgrade: google-auth-oauthlib<0.5,>=0.4.1 in /usr/local/lib/python3.6/dist-packages (from tensorboard) (0.4.1)\n",
      "Requirement already satisfied, skipping upgrade: numpy>=1.12.0 in /usr/local/lib/python3.6/dist-packages (from tensorboard) (1.18.5)\n",
      "Requirement already satisfied, skipping upgrade: requests<3,>=2.21.0 in /usr/local/lib/python3.6/dist-packages (from tensorboard) (2.23.0)\n",
      "Requirement already satisfied, skipping upgrade: importlib-metadata; python_version < \"3.8\" in /usr/local/lib/python3.6/dist-packages (from markdown>=2.6.8->tensorboard) (1.7.0)\n",
      "Requirement already satisfied, skipping upgrade: pyasn1-modules>=0.2.1 in /usr/local/lib/python3.6/dist-packages (from google-auth<2,>=1.6.3->tensorboard) (0.2.8)\n",
      "Requirement already satisfied, skipping upgrade: rsa<5,>=3.1.4; python_version >= \"3\" in /usr/local/lib/python3.6/dist-packages (from google-auth<2,>=1.6.3->tensorboard) (4.6)\n",
      "Requirement already satisfied, skipping upgrade: cachetools<5.0,>=2.0.0 in /usr/local/lib/python3.6/dist-packages (from google-auth<2,>=1.6.3->tensorboard) (4.1.1)\n",
      "Requirement already satisfied, skipping upgrade: requests-oauthlib>=0.7.0 in /usr/local/lib/python3.6/dist-packages (from google-auth-oauthlib<0.5,>=0.4.1->tensorboard) (1.3.0)\n",
      "Requirement already satisfied, skipping upgrade: idna<3,>=2.5 in /usr/local/lib/python3.6/dist-packages (from requests<3,>=2.21.0->tensorboard) (2.10)\n",
      "Requirement already satisfied, skipping upgrade: certifi>=2017.4.17 in /usr/local/lib/python3.6/dist-packages (from requests<3,>=2.21.0->tensorboard) (2020.6.20)\n",
      "Requirement already satisfied, skipping upgrade: urllib3!=1.25.0,!=1.25.1,<1.26,>=1.21.1 in /usr/local/lib/python3.6/dist-packages (from requests<3,>=2.21.0->tensorboard) (1.24.3)\n",
      "Requirement already satisfied, skipping upgrade: chardet<4,>=3.0.2 in /usr/local/lib/python3.6/dist-packages (from requests<3,>=2.21.0->tensorboard) (3.0.4)\n",
      "Requirement already satisfied, skipping upgrade: zipp>=0.5 in /usr/local/lib/python3.6/dist-packages (from importlib-metadata; python_version < \"3.8\"->markdown>=2.6.8->tensorboard) (3.1.0)\n",
      "Requirement already satisfied, skipping upgrade: pyasn1<0.5.0,>=0.4.6 in /usr/local/lib/python3.6/dist-packages (from pyasn1-modules>=0.2.1->google-auth<2,>=1.6.3->tensorboard) (0.4.8)\n",
      "Requirement already satisfied, skipping upgrade: oauthlib>=3.0.0 in /usr/local/lib/python3.6/dist-packages (from requests-oauthlib>=0.7.0->google-auth-oauthlib<0.5,>=0.4.1->tensorboard) (3.1.0)\n",
      "Requirement already satisfied: keras-tqdm in /usr/local/lib/python3.6/dist-packages (2.0.1)\n",
      "Requirement already satisfied: tqdm in /usr/local/lib/python3.6/dist-packages (from keras-tqdm) (4.41.1)\n",
      "Requirement already satisfied: Keras in /usr/local/lib/python3.6/dist-packages (from keras-tqdm) (2.3.1)\n",
      "Requirement already satisfied: h5py in /usr/local/lib/python3.6/dist-packages (from Keras->keras-tqdm) (2.10.0)\n",
      "Requirement already satisfied: pyyaml in /usr/local/lib/python3.6/dist-packages (from Keras->keras-tqdm) (3.13)\n",
      "Requirement already satisfied: keras-applications>=1.0.6 in /usr/local/lib/python3.6/dist-packages (from Keras->keras-tqdm) (1.0.8)\n",
      "Requirement already satisfied: numpy>=1.9.1 in /usr/local/lib/python3.6/dist-packages (from Keras->keras-tqdm) (1.18.5)\n",
      "Requirement already satisfied: six>=1.9.0 in /usr/local/lib/python3.6/dist-packages (from Keras->keras-tqdm) (1.15.0)\n",
      "Requirement already satisfied: keras-preprocessing>=1.0.5 in /usr/local/lib/python3.6/dist-packages (from Keras->keras-tqdm) (1.1.2)\n",
      "Requirement already satisfied: scipy>=0.14 in /usr/local/lib/python3.6/dist-packages (from Keras->keras-tqdm) (1.4.1)\n"
     ]
    }
   ],
   "source": [
    "%tensorflow_version 1.x\n",
    "import numpy as np\n",
    "import pandas as pd\n",
    "import matplotlib.pyplot as plt\n",
    "import seaborn as sns\n",
    "import keras\n",
    "import tensorflow as tf\n",
    "!pip install -U tensorboardcolab\n",
    "!pip install -U tensorboard\n",
    "!pip install keras-tqdm\n",
    "import datetime\n",
    "from tensorboardcolab import *\n",
    "from scipy.sparse import hstack\n",
    "from sklearn.utils import compute_class_weight\n",
    "from tensorflow.keras.layers import Input, Embedding, LSTM, Dropout, BatchNormalization\n",
    "from tensorflow.keras.layers import Dense, concatenate, Flatten, Conv1D\n",
    "from tensorflow.keras.callbacks import ModelCheckpoint, EarlyStopping, TensorBoard, ReduceLROnPlateau\n",
    "from tensorflow.keras.preprocessing.text import Tokenizer\n",
    "from tensorflow.keras.preprocessing.sequence import pad_sequences\n",
    "from tensorflow.keras.models import Model, load_model\n",
    "from tensorflow.keras.optimizers import Adam, SGD\n",
    "from tensorflow.keras import regularizers\n",
    "from tensorflow.keras.utils import to_categorical, plot_model\n",
    "from sklearn.feature_extraction.text import TfidfVectorizer, CountVectorizer\n",
    "from sklearn.model_selection import train_test_split\n",
    "from sklearn.preprocessing import StandardScaler\n",
    "from sklearn.metrics import roc_auc_score\n",
    "from keras_tqdm import TQDMCallback\n",
    "from tensorboardcolab import *\n",
    "from tqdm import tqdm\n",
    "import pickle\n",
    "import warnings\n",
    "warnings.filterwarnings(\"ignore\")\n",
    "%matplotlib inline"
   ]
  },
  {
   "cell_type": "markdown",
   "metadata": {},
   "source": [
    "## Reading Data"
   ]
  },
  {
   "cell_type": "code",
   "execution_count": 4,
   "metadata": {
    "colab": {
     "base_uri": "https://localhost:8080/",
     "height": 264
    },
    "colab_type": "code",
    "id": "QqJLsYFG48oe",
    "outputId": "ae8971ff-b0f5-48ff-bf2a-3b0c1a04d3c7"
   },
   "outputs": [
    {
     "data": {
      "text/html": [
       "<div>\n",
       "<style scoped>\n",
       "    .dataframe tbody tr th:only-of-type {\n",
       "        vertical-align: middle;\n",
       "    }\n",
       "\n",
       "    .dataframe tbody tr th {\n",
       "        vertical-align: top;\n",
       "    }\n",
       "\n",
       "    .dataframe thead th {\n",
       "        text-align: right;\n",
       "    }\n",
       "</style>\n",
       "<table border=\"1\" class=\"dataframe\">\n",
       "  <thead>\n",
       "    <tr style=\"text-align: right;\">\n",
       "      <th></th>\n",
       "      <th>teacher_prefix</th>\n",
       "      <th>school_state</th>\n",
       "      <th>project_grade_category</th>\n",
       "      <th>project_subject_categories</th>\n",
       "      <th>project_subject_subcategories</th>\n",
       "      <th>teacher_number_of_previously_posted_projects</th>\n",
       "      <th>project_is_approved</th>\n",
       "      <th>price</th>\n",
       "      <th>quantity</th>\n",
       "      <th>digits_in_project_summary</th>\n",
       "      <th>processed_titles</th>\n",
       "      <th>processed_essays</th>\n",
       "      <th>processed_summary</th>\n",
       "    </tr>\n",
       "  </thead>\n",
       "  <tbody>\n",
       "    <tr>\n",
       "      <th>0</th>\n",
       "      <td>mrs</td>\n",
       "      <td>in</td>\n",
       "      <td>grades_prek_2</td>\n",
       "      <td>literacy_language</td>\n",
       "      <td>esl_literacy</td>\n",
       "      <td>0</td>\n",
       "      <td>0</td>\n",
       "      <td>154.60</td>\n",
       "      <td>23</td>\n",
       "      <td>0</td>\n",
       "      <td>educational support english learners home</td>\n",
       "      <td>students english learners working english seco...</td>\n",
       "      <td>students need opportunities practice beginning...</td>\n",
       "    </tr>\n",
       "    <tr>\n",
       "      <th>1</th>\n",
       "      <td>mr</td>\n",
       "      <td>fl</td>\n",
       "      <td>grades_6_8</td>\n",
       "      <td>history_civics_health_sports</td>\n",
       "      <td>civics_government_teamsports</td>\n",
       "      <td>7</td>\n",
       "      <td>1</td>\n",
       "      <td>299.00</td>\n",
       "      <td>1</td>\n",
       "      <td>0</td>\n",
       "      <td>wanted projector hungry learners</td>\n",
       "      <td>students arrive school eager learn polite gene...</td>\n",
       "      <td>students need projector help viewing education...</td>\n",
       "    </tr>\n",
       "    <tr>\n",
       "      <th>2</th>\n",
       "      <td>ms</td>\n",
       "      <td>az</td>\n",
       "      <td>grades_6_8</td>\n",
       "      <td>health_sports</td>\n",
       "      <td>health_wellness_teamsports</td>\n",
       "      <td>1</td>\n",
       "      <td>0</td>\n",
       "      <td>516.85</td>\n",
       "      <td>22</td>\n",
       "      <td>0</td>\n",
       "      <td>soccer equipment awesome middle school students</td>\n",
       "      <td>true champions not always ones win guts mia ha...</td>\n",
       "      <td>students need shine guards athletic socks socc...</td>\n",
       "    </tr>\n",
       "  </tbody>\n",
       "</table>\n",
       "</div>"
      ],
      "text/plain": [
       "  teacher_prefix  ...                                  processed_summary\n",
       "0            mrs  ...  students need opportunities practice beginning...\n",
       "1             mr  ...  students need projector help viewing education...\n",
       "2             ms  ...  students need shine guards athletic socks socc...\n",
       "\n",
       "[3 rows x 13 columns]"
      ]
     },
     "execution_count": 4,
     "metadata": {
      "tags": []
     },
     "output_type": "execute_result"
    }
   ],
   "source": [
    "data = pd.read_csv('/content/drive/My Drive/LSTM/processed_data.csv')\n",
    "data = data.drop(['Unnamed: 0'], axis=1)\n",
    "data.head(3)"
   ]
  },
  {
   "cell_type": "code",
   "execution_count": 5,
   "metadata": {
    "colab": {
     "base_uri": "https://localhost:8080/",
     "height": 417
    },
    "colab_type": "code",
    "id": "Leh0TQly48jf",
    "outputId": "cd9f8c56-90c2-4a07-951b-65480c94e00f"
   },
   "outputs": [
    {
     "data": {
      "text/html": [
       "<div>\n",
       "<style scoped>\n",
       "    .dataframe tbody tr th:only-of-type {\n",
       "        vertical-align: middle;\n",
       "    }\n",
       "\n",
       "    .dataframe tbody tr th {\n",
       "        vertical-align: top;\n",
       "    }\n",
       "\n",
       "    .dataframe thead th {\n",
       "        text-align: right;\n",
       "    }\n",
       "</style>\n",
       "<table border=\"1\" class=\"dataframe\">\n",
       "  <thead>\n",
       "    <tr style=\"text-align: right;\">\n",
       "      <th></th>\n",
       "      <th>teacher_prefix</th>\n",
       "      <th>school_state</th>\n",
       "      <th>project_grade_category</th>\n",
       "      <th>project_subject_categories</th>\n",
       "      <th>project_subject_subcategories</th>\n",
       "      <th>teacher_number_of_previously_posted_projects</th>\n",
       "      <th>project_is_approved</th>\n",
       "      <th>price</th>\n",
       "      <th>quantity</th>\n",
       "      <th>digits_in_project_summary</th>\n",
       "      <th>total_text</th>\n",
       "    </tr>\n",
       "  </thead>\n",
       "  <tbody>\n",
       "    <tr>\n",
       "      <th>0</th>\n",
       "      <td>mrs</td>\n",
       "      <td>in</td>\n",
       "      <td>grades_prek_2</td>\n",
       "      <td>literacy_language</td>\n",
       "      <td>esl_literacy</td>\n",
       "      <td>0</td>\n",
       "      <td>0</td>\n",
       "      <td>154.60</td>\n",
       "      <td>23</td>\n",
       "      <td>0</td>\n",
       "      <td>students english learners working english seco...</td>\n",
       "    </tr>\n",
       "    <tr>\n",
       "      <th>1</th>\n",
       "      <td>mr</td>\n",
       "      <td>fl</td>\n",
       "      <td>grades_6_8</td>\n",
       "      <td>history_civics_health_sports</td>\n",
       "      <td>civics_government_teamsports</td>\n",
       "      <td>7</td>\n",
       "      <td>1</td>\n",
       "      <td>299.00</td>\n",
       "      <td>1</td>\n",
       "      <td>0</td>\n",
       "      <td>students arrive school eager learn polite gene...</td>\n",
       "    </tr>\n",
       "    <tr>\n",
       "      <th>2</th>\n",
       "      <td>ms</td>\n",
       "      <td>az</td>\n",
       "      <td>grades_6_8</td>\n",
       "      <td>health_sports</td>\n",
       "      <td>health_wellness_teamsports</td>\n",
       "      <td>1</td>\n",
       "      <td>0</td>\n",
       "      <td>516.85</td>\n",
       "      <td>22</td>\n",
       "      <td>0</td>\n",
       "      <td>true champions not always ones win guts mia ha...</td>\n",
       "    </tr>\n",
       "  </tbody>\n",
       "</table>\n",
       "</div>"
      ],
      "text/plain": [
       "  teacher_prefix  ...                                         total_text\n",
       "0            mrs  ...  students english learners working english seco...\n",
       "1             mr  ...  students arrive school eager learn polite gene...\n",
       "2             ms  ...  true champions not always ones win guts mia ha...\n",
       "\n",
       "[3 rows x 11 columns]"
      ]
     },
     "execution_count": 5,
     "metadata": {
      "tags": []
     },
     "output_type": "execute_result"
    }
   ],
   "source": [
    "data['total_text'] = data['processed_essays'].map(str) +\\\n",
    "                    ' ' + data['processed_titles'].map(str) +\\\n",
    "                    ' ' + data['processed_summary'].map(str)\n",
    "\n",
    "data = data.drop(['processed_essays','processed_titles','processed_summary'], axis=1)\n",
    "data.head(3)"
   ]
  },
  {
   "cell_type": "code",
   "execution_count": 6,
   "metadata": {
    "colab": {},
    "colab_type": "code",
    "id": "twg7c_HP48gZ"
   },
   "outputs": [],
   "source": [
    "X = data.drop(['project_is_approved'], axis=1)\n",
    "Y = data['project_is_approved']"
   ]
  },
  {
   "cell_type": "code",
   "execution_count": 7,
   "metadata": {
    "colab": {},
    "colab_type": "code",
    "id": "DuYgKqiL48dw"
   },
   "outputs": [],
   "source": [
    "x_train, x_test, y_train, y_test = train_test_split(X, Y, stratify=Y, test_size=0.3, random_state=0)\n",
    "x_train, x_val, y_train, y_val = train_test_split(x_train, y_train, stratify=y_train, test_size=0.2, random_state=0)"
   ]
  },
  {
   "cell_type": "code",
   "execution_count": 8,
   "metadata": {
    "colab": {
     "base_uri": "https://localhost:8080/",
     "height": 68
    },
    "colab_type": "code",
    "id": "u1wJLpbW48av",
    "outputId": "6a4f3a21-4a3b-49fb-8646-8504c0f798ea"
   },
   "outputs": [
    {
     "name": "stdout",
     "output_type": "stream",
     "text": [
      "Train Data Set (61178, 10) (61178,)\n",
      "Test Data Set (32775, 10) (32775,)\n",
      "Validation Data Set (15295, 10) (15295,)\n"
     ]
    }
   ],
   "source": [
    "print('Train Data Set', x_train.shape, y_train.shape)\n",
    "print('Test Data Set', x_test.shape, y_test.shape)\n",
    "print('Validation Data Set', x_val.shape, y_val.shape)"
   ]
  },
  {
   "cell_type": "code",
   "execution_count": 9,
   "metadata": {
    "colab": {},
    "colab_type": "code",
    "id": "mg6t4IMw48Xs"
   },
   "outputs": [],
   "source": [
    "y_train = to_categorical(y_train)\n",
    "y_test = to_categorical(y_test)\n",
    "y_val = to_categorical(y_val)\n",
    "\n",
    "# computing class weights\n",
    "class_weights = compute_class_weight(\"balanced\", classes= np.unique(Y),y=Y)"
   ]
  },
  {
   "cell_type": "markdown",
   "metadata": {
    "colab": {},
    "colab_type": "code",
    "id": "N3KUOPslfms3"
   },
   "source": [
    "## Encoding Text Data"
   ]
  },
  {
   "cell_type": "code",
   "execution_count": 11,
   "metadata": {
    "colab": {},
    "colab_type": "code",
    "id": "kLwbPuOt48SH"
   },
   "outputs": [],
   "source": [
    "def encoding_padding(input_text, max_length):\n",
    "    encoded_data = tokenizer.texts_to_sequences(input_text)\n",
    "    padded_data = pad_sequences(encoded_data, maxlen=max_length, padding='post')\n",
    "    return padded_data"
   ]
  },
  {
   "cell_type": "code",
   "execution_count": 12,
   "metadata": {
    "colab": {
     "base_uri": "https://localhost:8080/",
     "height": 68
    },
    "colab_type": "code",
    "id": "lO8VIRay48J4",
    "outputId": "e47e1c54-cf52-49e5-fb5d-d7c65cea641f"
   },
   "outputs": [
    {
     "name": "stdout",
     "output_type": "stream",
     "text": [
      "(61178, 334)\n",
      "(32775, 334)\n",
      "(15295, 334)\n"
     ]
    }
   ],
   "source": [
    "train_text = x_train[\"total_text\"].values.tolist()\n",
    "test_text = x_test['total_text'].values.tolist()\n",
    "val_text = x_val['total_text'].values.tolist()\n",
    "\n",
    "tokenizer = Tokenizer()\n",
    "tokenizer.fit_on_texts(train_text)\n",
    "vocab_size = len(tokenizer.word_index) + 1\n",
    "\n",
    "max_length = len(max(data[\"total_text\"], key=len).split(' '))\n",
    "train_text_encode = encoding_padding(train_text,  max_length=max_length)\n",
    "test_text_encode = encoding_padding(test_text, max_length=max_length)\n",
    "val_text_encode = encoding_padding(val_text, max_length=max_length)\n",
    "\n",
    "print(train_text_encode.shape)\n",
    "print(test_text_encode.shape)\n",
    "print(val_text_encode.shape)"
   ]
  },
  {
   "cell_type": "code",
   "execution_count": 13,
   "metadata": {
    "colab": {},
    "colab_type": "code",
    "id": "gYT2jvXU48Hu"
   },
   "outputs": [],
   "source": [
    "glove_vector = open(\"/content/drive/My Drive/LSTM/glove_vectors\",\"rb\")\n",
    "glove_words = pickle.load(glove_vector)"
   ]
  },
  {
   "cell_type": "code",
   "execution_count": 14,
   "metadata": {
    "colab": {},
    "colab_type": "code",
    "id": "WpWcNySG48Fc"
   },
   "outputs": [],
   "source": [
    "embedding_matrix = np.zeros((vocab_size, 300))\n",
    "for word, i in tokenizer.word_index.items():\n",
    "    embedding_vector = glove_words.get(word)\n",
    "    if embedding_vector is not None:\n",
    "        embedding_matrix[i] = embedding_vector"
   ]
  },
  {
   "cell_type": "code",
   "execution_count": 15,
   "metadata": {
    "colab": {
     "base_uri": "https://localhost:8080/",
     "height": 1000
    },
    "colab_type": "code",
    "id": "l8xMjRPx48C2",
    "outputId": "e2053f64-4d1b-4bbf-a85e-8d290abc71fd"
   },
   "outputs": [
    {
     "name": "stdout",
     "output_type": "stream",
     "text": [
      "(48594, 300)\n"
     ]
    },
    {
     "data": {
      "text/plain": [
       "array([ 1.4377e-01, -6.5133e-02, -2.1781e-01, -2.4808e-01, -1.2179e-01,\n",
       "        3.1336e-01, -4.3278e+00, -2.1137e-01, -3.0138e-01, -2.8123e-01,\n",
       "        1.5955e-01,  2.7166e-01, -6.3414e-02,  3.6912e-01, -1.8217e-01,\n",
       "        9.0182e-02, -1.6787e-01, -5.5550e-01, -1.0691e-01, -1.6809e-01,\n",
       "       -1.0562e-02,  2.5915e-01, -2.4908e-01, -1.6915e-01, -2.0709e-02,\n",
       "       -1.9387e-01,  1.5245e-01, -4.3073e-01,  8.6042e-03,  1.0608e-01,\n",
       "       -5.4051e-01, -1.2944e-01,  1.8277e-01,  2.3057e-02, -4.1211e-01,\n",
       "       -2.1498e-01, -2.1206e-01, -2.6008e-01,  7.7856e-02, -1.5617e-01,\n",
       "       -2.7840e-01,  1.7056e-01,  2.4112e-01, -9.0337e-02, -4.3709e-01,\n",
       "        3.9414e-01, -1.0985e-03, -2.0857e-01, -6.2051e-02, -8.2285e-03,\n",
       "       -1.6007e-01, -3.5323e-01,  4.5470e-01, -1.5167e-01,  1.5110e-01,\n",
       "        6.7285e-02,  2.9957e-01, -1.2820e-01, -2.0130e-01,  4.4172e-01,\n",
       "        8.4994e-02, -8.0869e-02, -1.2427e-01,  1.4703e-01, -2.4874e-01,\n",
       "       -1.6326e-01,  9.8573e-03,  2.3159e-01,  1.4156e-01, -1.2675e-01,\n",
       "       -3.7943e-01,  2.0688e-01,  3.0604e-01, -4.5368e-02,  3.1653e-02,\n",
       "       -4.0744e-01,  3.3272e-02,  4.4265e-01,  7.0223e-02,  2.2182e-01,\n",
       "        3.2650e-01, -6.9482e-01, -5.5469e-02, -1.3028e-02, -2.1524e-01,\n",
       "        4.8597e-02,  1.7750e-01, -9.3569e-02,  1.3765e-01, -4.7765e-02,\n",
       "        3.7401e-01, -1.0280e-01, -2.4399e-01,  2.7451e-02, -2.5921e-02,\n",
       "       -4.5345e-01, -2.8176e+00, -1.1153e-01,  2.1452e-01, -3.8888e-01,\n",
       "        1.7853e-01,  1.4937e-01,  1.6404e-01, -2.3368e-01, -1.1948e-01,\n",
       "        2.9130e-01, -2.4858e-01, -1.2102e+00,  3.5314e-03, -3.0826e-01,\n",
       "        9.4326e-02,  2.5245e-01,  5.7532e-02,  1.8199e-01, -1.1054e-01,\n",
       "       -3.7964e-01,  9.7270e-02,  2.5358e-02,  1.7979e-01,  2.0306e-01,\n",
       "        2.8380e-01,  3.0155e-02, -1.0352e-01, -2.2078e-01, -2.2439e-01,\n",
       "        5.7614e-02,  1.0560e-01, -8.0148e-02,  3.1641e-02, -9.6148e-02,\n",
       "       -5.2713e-01, -1.0393e-01, -9.2343e-02,  2.6845e-01, -6.0706e-03,\n",
       "       -2.3941e-02,  7.3174e-02,  1.9879e-01,  2.0878e-01,  5.1708e-01,\n",
       "        4.2686e-02,  3.1528e-01,  1.7684e-01, -3.4072e-01,  2.8634e-02,\n",
       "       -4.2919e-01,  1.6618e-01, -2.5866e-01,  2.9273e-01, -1.9169e-01,\n",
       "        1.8456e-01,  4.1324e-02, -1.1287e-01, -7.2187e-02,  2.9547e-01,\n",
       "        1.5062e-02,  3.6863e-01, -1.2324e-01, -3.7646e-01,  2.1230e-01,\n",
       "       -4.8653e-01, -1.2948e-01, -4.3044e-02, -2.6515e-01, -9.5165e-02,\n",
       "        4.0430e-01, -3.7367e-01, -3.8519e-01,  5.6704e-01, -1.6512e-01,\n",
       "       -1.3204e-01,  1.7362e-01, -3.1029e-01,  1.4470e-01, -2.4645e-01,\n",
       "        5.1336e-01,  1.9568e-01, -6.1980e-02,  6.9062e-02, -1.9490e-01,\n",
       "        1.4803e-01,  1.6505e-01,  6.9851e-02, -1.3747e-01, -2.2200e-01,\n",
       "       -2.6618e-01, -1.1149e-01, -2.5511e-02,  2.6466e-01, -1.4162e-01,\n",
       "        8.2184e-02, -8.9478e-02, -2.2855e-01, -4.3531e-01, -9.6088e-02,\n",
       "        9.2781e-02, -2.6402e-01, -3.0127e-01, -3.1069e-01, -3.8897e-01,\n",
       "        5.6159e-02,  2.7171e-01,  6.7308e-02,  1.0175e-01,  5.8810e-02,\n",
       "        1.8564e-01, -2.8909e-02, -4.8856e-01,  2.5780e-01,  3.7361e-01,\n",
       "       -1.8153e-01,  5.4865e-02,  2.2561e-01, -1.9603e-01,  1.5613e-01,\n",
       "       -1.3788e-01, -2.6072e-01,  1.2324e-01,  4.6572e-01,  4.7588e-01,\n",
       "        1.6405e-02, -3.1799e-01,  2.2269e-01,  1.1429e-01, -2.3420e+00,\n",
       "        5.8351e-03,  4.9080e-01,  2.6391e-01, -8.1884e-02, -4.6586e-01,\n",
       "       -4.4352e-02, -1.3515e-02, -3.9974e-02,  1.6290e-01, -1.4288e-01,\n",
       "       -2.1226e-01, -2.0458e-01, -3.3588e-03, -2.0735e-01, -1.4858e-03,\n",
       "        1.0026e-02,  2.4280e-01, -1.0073e-01, -2.4147e-01, -1.6470e-01,\n",
       "       -8.9780e-02, -5.1440e-01,  9.7078e-02, -3.6397e-02,  7.6082e-02,\n",
       "        2.6093e-01,  2.0119e-01,  3.3484e-02,  1.5762e-01, -8.7250e-02,\n",
       "       -7.8692e-02,  1.3709e-02, -5.8213e-01,  4.7853e-02, -6.7412e-02,\n",
       "        8.4312e-02,  2.2717e-01, -7.1591e-02,  8.6835e-02,  3.0191e-01,\n",
       "       -8.1407e-02, -8.8999e-02,  2.3282e-01,  5.5607e-02,  1.6728e-01,\n",
       "       -8.8697e-02,  2.7313e-01,  1.1961e-01, -1.1778e-01,  6.8697e-02,\n",
       "       -8.7354e-02,  2.1610e-01,  3.2793e-01,  2.5127e-03,  1.3739e-01,\n",
       "        6.0549e-01,  4.2309e-01, -1.4118e-01,  1.8824e-01,  3.2279e-02,\n",
       "        2.8487e-01, -1.5870e-01, -1.3554e-01,  2.6818e-02,  5.5734e-01,\n",
       "        3.0074e-01, -4.5404e-01, -3.5287e-02, -4.5221e-01,  1.5901e-01,\n",
       "       -3.1261e-01, -2.3326e-01,  3.9987e-02,  3.4641e-01,  1.3764e-01])"
      ]
     },
     "execution_count": 15,
     "metadata": {
      "tags": []
     },
     "output_type": "execute_result"
    }
   ],
   "source": [
    "print(embedding_matrix.shape)\n",
    "embedding_matrix[10]"
   ]
  },
  {
   "cell_type": "code",
   "execution_count": 16,
   "metadata": {
    "colab": {
     "base_uri": "https://localhost:8080/",
     "height": 139
    },
    "colab_type": "code",
    "id": "ZgxSGDV647_F",
    "outputId": "c55381d7-3c09-4aa1-e109-364f066935fb"
   },
   "outputs": [
    {
     "name": "stdout",
     "output_type": "stream",
     "text": [
      "WARNING:tensorflow:From /tensorflow-1.15.2/python3.6/tensorflow_core/python/keras/initializers.py:119: calling RandomUniform.__init__ (from tensorflow.python.ops.init_ops) with dtype is deprecated and will be removed in a future version.\n",
      "Instructions for updating:\n",
      "Call initializer instance with the dtype argument instead of passing it to the constructor\n",
      "WARNING:tensorflow:From /tensorflow-1.15.2/python3.6/tensorflow_core/python/ops/resource_variable_ops.py:1630: calling BaseResourceVariable.__init__ (from tensorflow.python.ops.resource_variable_ops) with constraint is deprecated and will be removed in a future version.\n",
      "Instructions for updating:\n",
      "If using Keras pass *_constraint arguments to layers.\n"
     ]
    }
   ],
   "source": [
    "input_text = Input(shape=(train_text_encode.shape[1],), name='input_text')\n",
    "\n",
    "x1 =Embedding(input_dim=vocab_size, output_dim=embedding_matrix.shape[1], weights=[embedding_matrix], input_length=train_text_encode.shape[1], trainable=False, name='embed_text')(input_text)\n",
    "x1 = LSTM(128,kernel_regularizer=regularizers.l2(0.001),return_sequences=True)(x1)\n",
    "\n",
    "text_layer = Flatten()(x1)"
   ]
  },
  {
   "cell_type": "markdown",
   "metadata": {
    "colab": {},
    "colab_type": "code",
    "id": "aVm4ebpQ478P"
   },
   "source": [
    "## Encoding Categorical features"
   ]
  },
  {
   "cell_type": "code",
   "execution_count": 70,
   "metadata": {
    "colab": {},
    "colab_type": "code",
    "id": "XPMzMHl4470t"
   },
   "outputs": [],
   "source": [
    "vectorizer = CountVectorizer(binary=True)\n",
    "\n",
    "train_prefix = vectorizer.fit_transform(x_train[\"teacher_prefix\"])\n",
    "test_prefix = vectorizer.transform(x_test[\"teacher_prefix\"])\n",
    "val_prefix = vectorizer.transform(x_val[\"teacher_prefix\"])\n"
   ]
  },
  {
   "cell_type": "code",
   "execution_count": 71,
   "metadata": {
    "colab": {},
    "colab_type": "code",
    "id": "AQJuo9pC47tM"
   },
   "outputs": [],
   "source": [
    "vectorizer = CountVectorizer(binary=True)\n",
    "\n",
    "train_state = vectorizer.fit_transform(x_train[\"school_state\"])\n",
    "test_state = vectorizer.transform(x_test[\"school_state\"])\n",
    "val_state = vectorizer.transform(x_val[\"school_state\"])\n"
   ]
  },
  {
   "cell_type": "code",
   "execution_count": 72,
   "metadata": {
    "colab": {},
    "colab_type": "code",
    "id": "iLETIgT447m5"
   },
   "outputs": [],
   "source": [
    "vectorizer = CountVectorizer(binary=True)\n",
    "\n",
    "train_grade = vectorizer.fit_transform(x_train[\"project_grade_category\"])\n",
    "test_grade = vectorizer.transform(x_test[\"project_grade_category\"])\n",
    "val_grade = vectorizer.transform(x_val[\"project_grade_category\"])\n"
   ]
  },
  {
   "cell_type": "code",
   "execution_count": 73,
   "metadata": {
    "colab": {},
    "colab_type": "code",
    "id": "m5GWdIwI47bn"
   },
   "outputs": [],
   "source": [
    "vectorizer = CountVectorizer(binary=True)\n",
    "\n",
    "train_cat = vectorizer.fit_transform(x_train[\"project_subject_categories\"])\n",
    "test_cat = vectorizer.transform(x_test[\"project_subject_categories\"])\n",
    "val_cat = vectorizer.transform(x_val[\"project_subject_categories\"])\n"
   ]
  },
  {
   "cell_type": "code",
   "execution_count": 74,
   "metadata": {
    "colab": {},
    "colab_type": "code",
    "id": "6CU_6plp47R_"
   },
   "outputs": [],
   "source": [
    "vectorizer = CountVectorizer(binary=True)\n",
    "\n",
    "train_subcat = vectorizer.fit_transform(x_train[\"project_subject_subcategories\"])\n",
    "test_subcat = vectorizer.transform(x_test[\"project_subject_subcategories\"])\n",
    "val_subcat = vectorizer.transform(x_val[\"project_subject_subcategories\"])\n"
   ]
  },
  {
   "cell_type": "markdown",
   "metadata": {
    "colab": {},
    "colab_type": "code",
    "id": "18UMorfm47M0"
   },
   "source": [
    "## Scaling Numerical features"
   ]
  },
  {
   "cell_type": "code",
   "execution_count": 75,
   "metadata": {
    "colab": {},
    "colab_type": "code",
    "id": "t8CKOUbl47JV"
   },
   "outputs": [],
   "source": [
    "train_numerical_input = np.concatenate((x_train['price'].values.reshape(-1,1),\n",
    "                                  x_train['quantity'].values.reshape(-1,1),\n",
    "                                  x_train['teacher_number_of_previously_posted_projects'].values.reshape(-1,1),\n",
    "                                  x_train['digits_in_project_summary'].values.reshape(-1,1)), axis=1)\n",
    "\n",
    "test_numerical_input = np.concatenate((x_test['price'].values.reshape(-1,1),\n",
    "                                  x_test['quantity'].values.reshape(-1,1),\n",
    "                                  x_test['teacher_number_of_previously_posted_projects'].values.reshape(-1,1),\n",
    "                                  x_test['digits_in_project_summary'].values.reshape(-1,1)), axis=1)\n",
    "\n",
    "val_numerical_input = np.concatenate((x_val['price'].values.reshape(-1,1),\n",
    "                                  x_val['quantity'].values.reshape(-1,1),\n",
    "                                  x_val['teacher_number_of_previously_posted_projects'].values.reshape(-1,1),\n",
    "                                  x_val['digits_in_project_summary'].values.reshape(-1,1)), axis=1)\n"
   ]
  },
  {
   "cell_type": "code",
   "execution_count": 76,
   "metadata": {
    "colab": {},
    "colab_type": "code",
    "id": "_DPACTpl47Ab"
   },
   "outputs": [],
   "source": [
    "scaler = StandardScaler()\n",
    "\n",
    "train_num_input = scaler.fit_transform(train_numerical_input)\n",
    "test_num_input = scaler.transform(test_numerical_input)\n",
    "val_num_input = scaler.transform(val_numerical_input)\n"
   ]
  },
  {
   "cell_type": "markdown",
   "metadata": {
    "colab": {},
    "colab_type": "code",
    "id": "NZEYd2mQBg3u"
   },
   "source": [
    "## Merging features"
   ]
  },
  {
   "cell_type": "code",
   "execution_count": 77,
   "metadata": {
    "colab": {},
    "colab_type": "code",
    "id": "vQSbP_xxxobF"
   },
   "outputs": [],
   "source": [
    "train_rem_input = hstack([train_prefix, train_state, train_grade, train_cat, train_subcat]).todense()\n",
    "test_rem_input = hstack([test_prefix, test_state, test_grade, test_cat, test_subcat]).todense()\n",
    "val_rem_input = hstack([val_prefix, val_state, val_grade, val_cat, val_subcat]).todense()\n",
    "\n",
    "train_remaining_input = np.hstack((train_rem_input, train_num_input))\n",
    "test_remaining_input = np.hstack((test_rem_input, test_num_input))\n",
    "val_remaining_input = np.hstack((val_rem_input, val_num_input))\n",
    "\n",
    "train_remaining_input = np.expand_dims(train_remaining_input,2)\n",
    "test_remaining_input = np.expand_dims(test_remaining_input,2)\n",
    "val_remaining_input = np.expand_dims(val_remaining_input,2)"
   ]
  },
  {
   "cell_type": "code",
   "execution_count": 78,
   "metadata": {
    "colab": {},
    "colab_type": "code",
    "id": "C4kkGUoYxz6o"
   },
   "outputs": [],
   "source": [
    "input_conv =  Input(shape=(train_remaining_input.shape[1], train_remaining_input.shape[2]), name='remaining_features')\n",
    "x = Conv1D(filters=128, kernel_size=3, activation='relu',kernel_initializer=\"he_normal\")(input_conv)\n",
    "x = Conv1D(filters=128, kernel_size=3, activation='relu',kernel_initializer=\"he_normal\")(x)\n",
    "rem_layer = Flatten()(x)"
   ]
  },
  {
   "cell_type": "code",
   "execution_count": 78,
   "metadata": {
    "colab": {},
    "colab_type": "code",
    "id": "Y1APr3YNxz16"
   },
   "outputs": [],
   "source": []
  },
  {
   "cell_type": "markdown",
   "metadata": {},
   "source": [
    "## LSTM Model"
   ]
  },
  {
   "cell_type": "code",
   "execution_count": 79,
   "metadata": {
    "colab": {},
    "colab_type": "code",
    "id": "v0KG16w3xzwm"
   },
   "outputs": [],
   "source": [
    "x_concat = concatenate([text_layer, rem_layer])\n",
    "x = Dense(128,activation=\"relu\",kernel_initializer=\"he_normal\", kernel_regularizer=regularizers.l2(0.001))(x_concat)\n",
    "x = Dropout(0.3)(x)\n",
    "x = Dense(64,activation=\"relu\",kernel_initializer=\"he_normal\",kernel_regularizer=regularizers.l2(0.001))(x)\n",
    "x = Dropout(0.3)(x)\n",
    "x = Dense(32,activation=\"relu\",kernel_initializer=\"he_normal\",kernel_regularizer=regularizers.l2(0.001))(x)\n",
    "output = Dense(2, activation='softmax', name='Output')(x)"
   ]
  },
  {
   "cell_type": "code",
   "execution_count": 80,
   "metadata": {
    "colab": {},
    "colab_type": "code",
    "id": "NYNx-ktV4606"
   },
   "outputs": [],
   "source": [
    "train_data = [train_text_encode, train_remaining_input]\n",
    "test_data = [test_text_encode, test_remaining_input]\n",
    "val_data = [val_text_encode, val_remaining_input]\n",
    "\n",
    "model_input = [input_text, input_conv]\n",
    "model_output = [output]"
   ]
  },
  {
   "cell_type": "code",
   "execution_count": 41,
   "metadata": {
    "colab": {},
    "colab_type": "code",
    "id": "ur4ZDMyK46r6"
   },
   "outputs": [],
   "source": [
    "from keras_tqdm import TQDMNotebookCallback\n",
    "def border_msg(msg):\n",
    "    row = len(msg)\n",
    "    h = ''.join(['+'] + ['-' *row] + ['+'])\n",
    "    result= h + '\\n'\"|\"+msg+\"|\"'\\n' + h\n",
    "    print(result)\n",
    "  \n",
    "class TqdmCallbackFix(TQDMNotebookCallback):\n",
    "    def _implements_train_batch_hooks(self): return True\n",
    "    def _implements_test_batch_hooks(self): return True\n",
    "    def _implements_predict_batch_hooks(self): return True"
   ]
  },
  {
   "cell_type": "code",
   "execution_count": 42,
   "metadata": {
    "colab": {},
    "colab_type": "code",
    "id": "8ok5tB3D46pD"
   },
   "outputs": [],
   "source": [
    "# custom metric to get auc score\n",
    "def auc_score(y_true, y_pred):\n",
    "    if len(np.unique(y_true[:,1])) == 1:\n",
    "        return 0.5\n",
    "    else:\n",
    "        return roc_auc_score(y_true, y_pred)\n",
    "\n",
    "def auc(y_true, y_pred):\n",
    "    return tf.py_function(auc_score, (y_true, y_pred), tf.double)"
   ]
  },
  {
   "cell_type": "code",
   "execution_count": 43,
   "metadata": {
    "colab": {
     "base_uri": "https://localhost:8080/",
     "height": 68
    },
    "colab_type": "code",
    "id": "njy_1M3T7ItH",
    "outputId": "811b4fe7-58f1-4cf0-feff-4a7d51b2e19d"
   },
   "outputs": [
    {
     "name": "stdout",
     "output_type": "stream",
     "text": [
      "Wait for 8 seconds...\n",
      "TensorBoard link:\n",
      "https://7de2b31c4f00.ngrok.io\n"
     ]
    }
   ],
   "source": [
    "tbc=TensorBoardColab()"
   ]
  },
  {
   "cell_type": "code",
   "execution_count": 44,
   "metadata": {
    "colab": {},
    "colab_type": "code",
    "id": "Q_vzyIL97IjD"
   },
   "outputs": [],
   "source": [
    "def final_model(model_input, model_output, train_data, test_data, val_data, opt = 'adam', epoch=20, batch_size=128, lr=0.01):\n",
    "    \n",
    "    def select_optim():\n",
    "        if opt=='adam':\n",
    "            return Adam(learning_rate=lr)\n",
    "        elif opt=='sgd':\n",
    "            return SGD(learning_rate=lr, momentum=0.7)\n",
    "        elif opt=='rmsprop':\n",
    "            return RMSProp(lr=lr)\n",
    "\n",
    "    lr_reduce= ReduceLROnPlateau(monitor='val_auc', mode='max', patience=5, verbose=1, factor=0.1, min_lr=0.00001)\n",
    "\n",
    "    filepath=\"/content/drive/My Drive/LSTM/LSTM_output/model-epochs:{epoch:03d}-auc:{auc:03f}-val_auc:{val_auc:03f}.h5\"\n",
    "\n",
    "    checkpoint = ModelCheckpoint(filepath, monitor=\"val_auc\", mode=\"max\", save_best_only = True, verbose=1)\n",
    "\n",
    "    #earlystop = EarlyStopping(monitor = 'val_auc', mode=\"max\", patience = 5, verbose = 1, restore_best_weights = True)\n",
    "    \n",
    "    #tensorboard = TensorBoard(log_dir='model_graph_1', batch_size=256, write_graph=True, update_freq='epoch')\n",
    "\n",
    "    print(\"-\"*120)\n",
    "    border_msg('BUILDING MODEL')\n",
    "    print(\"-\"*120+'\\n')\n",
    "\n",
    "    model = Model(inputs=model_input, outputs=model_output)\n",
    "\n",
    "    model.compile(optimizer=select_optim(), loss='categorical_crossentropy', metrics=[auc])\n",
    "\n",
    "    print(model.summary())\n",
    "\n",
    "    #logdir = os.path.join(\"logs\", datetime.datetime.now().strftime(\"%Y%m%d-%H%M%S\"))\n",
    "    #tensorboard_callback = tf.keras.callbacks.TensorBoard(logdir, histogram_freq=1)\n",
    "\n",
    "    print(\"-\"*120)\n",
    "    border_msg('FITTING MODEL')\n",
    "    print(\"-\"*120+'\\n')\n",
    "\n",
    "    train_model = model.fit(train_data,y_train,batch_size=batch_size, epochs=epoch, \n",
    "                            validation_data = (val_data, y_val),\n",
    "                            callbacks=[checkpoint, TensorBoardColabCallback(tbc)], \n",
    "                            class_weight = class_weights)\n",
    "\n",
    "    print(\"-\"*120)\n",
    "    border_msg('EVALUATING MODEL')\n",
    "    print(\"-\"*120+'\\n')\n",
    "\n",
    "    score = model.evaluate(test_data, y_test, verbose=1)\n",
    "    print('Test loss:', score[0])\n",
    "    print('Test AUC_score:', score[1])\n",
    "    \n",
    "\n",
    "    return model, train_model"
   ]
  },
  {
   "cell_type": "code",
   "execution_count": 81,
   "metadata": {
    "colab": {
     "base_uri": "https://localhost:8080/",
     "height": 1000
    },
    "colab_type": "code",
    "id": "uW9mabIl7Icm",
    "outputId": "598098a1-f040-4728-d101-085c80c4dbb1"
   },
   "outputs": [
    {
     "name": "stdout",
     "output_type": "stream",
     "text": [
      "------------------------------------------------------------------------------------------------------------------------\n",
      "+--------------+\n",
      "|BUILDING MODEL|\n",
      "+--------------+\n",
      "------------------------------------------------------------------------------------------------------------------------\n",
      "\n",
      "Model: \"model_3\"\n",
      "__________________________________________________________________________________________________\n",
      "Layer (type)                    Output Shape         Param #     Connected to                     \n",
      "==================================================================================================\n",
      "input_text (InputLayer)         [(None, 334)]        0                                            \n",
      "__________________________________________________________________________________________________\n",
      "remaining_features (InputLayer) [(None, 505, 1)]     0                                            \n",
      "__________________________________________________________________________________________________\n",
      "embed_text (Embedding)          (None, 334, 300)     14578200    input_text[0][0]                 \n",
      "__________________________________________________________________________________________________\n",
      "conv1d_8 (Conv1D)               (None, 503, 128)     512         remaining_features[0][0]         \n",
      "__________________________________________________________________________________________________\n",
      "lstm (LSTM)                     (None, 334, 128)     219648      embed_text[0][0]                 \n",
      "__________________________________________________________________________________________________\n",
      "conv1d_9 (Conv1D)               (None, 501, 128)     49280       conv1d_8[0][0]                   \n",
      "__________________________________________________________________________________________________\n",
      "flatten (Flatten)               (None, 42752)        0           lstm[0][0]                       \n",
      "__________________________________________________________________________________________________\n",
      "flatten_5 (Flatten)             (None, 64128)        0           conv1d_9[0][0]                   \n",
      "__________________________________________________________________________________________________\n",
      "concatenate_3 (Concatenate)     (None, 106880)       0           flatten[0][0]                    \n",
      "                                                                 flatten_5[0][0]                  \n",
      "__________________________________________________________________________________________________\n",
      "dense_9 (Dense)                 (None, 128)          13680768    concatenate_3[0][0]              \n",
      "__________________________________________________________________________________________________\n",
      "dropout_6 (Dropout)             (None, 128)          0           dense_9[0][0]                    \n",
      "__________________________________________________________________________________________________\n",
      "dense_10 (Dense)                (None, 64)           8256        dropout_6[0][0]                  \n",
      "__________________________________________________________________________________________________\n",
      "dropout_7 (Dropout)             (None, 64)           0           dense_10[0][0]                   \n",
      "__________________________________________________________________________________________________\n",
      "dense_11 (Dense)                (None, 32)           2080        dropout_7[0][0]                  \n",
      "__________________________________________________________________________________________________\n",
      "Output (Dense)                  (None, 2)            66          dense_11[0][0]                   \n",
      "==================================================================================================\n",
      "Total params: 28,538,810\n",
      "Trainable params: 13,960,610\n",
      "Non-trainable params: 14,578,200\n",
      "__________________________________________________________________________________________________\n",
      "None\n",
      "------------------------------------------------------------------------------------------------------------------------\n",
      "+-------------+\n",
      "|FITTING MODEL|\n",
      "+-------------+\n",
      "------------------------------------------------------------------------------------------------------------------------\n",
      "\n",
      "WARNING:tensorflow:From /tensorflow-1.15.2/python3.6/tensorflow_core/python/ops/math_grad.py:1424: where (from tensorflow.python.ops.array_ops) is deprecated and will be removed in a future version.\n",
      "Instructions for updating:\n",
      "Use tf.where in 2.0, which has the same broadcast rule as np.where\n",
      "Train on 61178 samples, validate on 15295 samples\n",
      "WARNING:tensorflow:From /usr/local/lib/python3.6/dist-packages/tensorboardcolab/core.py:49: The name tf.summary.FileWriter is deprecated. Please use tf.compat.v1.summary.FileWriter instead.\n",
      "\n",
      "WARNING:tensorflow:From /usr/local/lib/python3.6/dist-packages/keras/callbacks/tensorboard_v1.py:200: The name tf.summary.merge_all is deprecated. Please use tf.compat.v1.summary.merge_all instead.\n",
      "\n",
      "Epoch 1/15\n",
      "60928/61178 [============================>.] - ETA: 0s - loss: 0.8457 - auc: 0.6584\n",
      "Epoch 00001: val_auc improved from -inf to 0.73125, saving model to /content/drive/My Drive/LSTM/LSTM_output/model-epochs:001-auc:0.659422-val_auc:0.731254.h5\n",
      "WARNING:tensorflow:From /usr/local/lib/python3.6/dist-packages/tensorboardcolab/callbacks.py:51: The name tf.Summary is deprecated. Please use tf.compat.v1.Summary instead.\n",
      "\n",
      "61178/61178 [==============================] - 159s 3ms/sample - loss: 0.8444 - auc: 0.6594 - val_loss: 0.5855 - val_auc: 0.7313\n",
      "Epoch 2/15\n",
      "60928/61178 [============================>.] - ETA: 0s - loss: 0.5350 - auc: 0.7323\n",
      "Epoch 00002: val_auc improved from 0.73125 to 0.74745, saving model to /content/drive/My Drive/LSTM/LSTM_output/model-epochs:002-auc:0.732142-val_auc:0.747446.h5\n",
      "61178/61178 [==============================] - 148s 2ms/sample - loss: 0.5347 - auc: 0.7321 - val_loss: 0.4996 - val_auc: 0.7474\n",
      "Epoch 3/15\n",
      "60928/61178 [============================>.] - ETA: 0s - loss: 0.4740 - auc: 0.7477\n",
      "Epoch 00003: val_auc improved from 0.74745 to 0.75583, saving model to /content/drive/My Drive/LSTM/LSTM_output/model-epochs:003-auc:0.747469-val_auc:0.755827.h5\n",
      "61178/61178 [==============================] - 150s 2ms/sample - loss: 0.4740 - auc: 0.7475 - val_loss: 0.4899 - val_auc: 0.7558\n",
      "Epoch 4/15\n",
      "60928/61178 [============================>.] - ETA: 0s - loss: 0.4454 - auc: 0.7555\n",
      "Epoch 00004: val_auc improved from 0.75583 to 0.76045, saving model to /content/drive/My Drive/LSTM/LSTM_output/model-epochs:004-auc:0.755485-val_auc:0.760454.h5\n",
      "61178/61178 [==============================] - 146s 2ms/sample - loss: 0.4455 - auc: 0.7555 - val_loss: 0.4659 - val_auc: 0.7605\n",
      "Epoch 5/15\n",
      "60928/61178 [============================>.] - ETA: 0s - loss: 0.4279 - auc: 0.7594\n",
      "Epoch 00005: val_auc improved from 0.76045 to 0.76352, saving model to /content/drive/My Drive/LSTM/LSTM_output/model-epochs:005-auc:0.759946-val_auc:0.763523.h5\n",
      "61178/61178 [==============================] - 149s 2ms/sample - loss: 0.4276 - auc: 0.7599 - val_loss: 0.4265 - val_auc: 0.7635\n",
      "Epoch 6/15\n",
      "60928/61178 [============================>.] - ETA: 0s - loss: 0.4170 - auc: 0.7621\n",
      "Epoch 00006: val_auc did not improve from 0.76352\n",
      "61178/61178 [==============================] - 150s 2ms/sample - loss: 0.4169 - auc: 0.7624 - val_loss: 0.4288 - val_auc: 0.7633\n",
      "Epoch 7/15\n",
      "60928/61178 [============================>.] - ETA: 0s - loss: 0.4056 - auc: 0.7675\n",
      "Epoch 00007: val_auc improved from 0.76352 to 0.76850, saving model to /content/drive/My Drive/LSTM/LSTM_output/model-epochs:007-auc:0.767331-val_auc:0.768498.h5\n",
      "61178/61178 [==============================] - 148s 2ms/sample - loss: 0.4056 - auc: 0.7673 - val_loss: 0.4218 - val_auc: 0.7685\n",
      "Epoch 8/15\n",
      "60928/61178 [============================>.] - ETA: 0s - loss: 0.3990 - auc: 0.7696\n",
      "Epoch 00008: val_auc did not improve from 0.76850\n",
      "61178/61178 [==============================] - 149s 2ms/sample - loss: 0.3988 - auc: 0.7701 - val_loss: 0.4210 - val_auc: 0.7663\n",
      "Epoch 9/15\n",
      "60928/61178 [============================>.] - ETA: 0s - loss: 0.3933 - auc: 0.7716\n",
      "Epoch 00009: val_auc did not improve from 0.76850\n",
      "61178/61178 [==============================] - 147s 2ms/sample - loss: 0.3933 - auc: 0.7716 - val_loss: 0.4151 - val_auc: 0.7674\n",
      "Epoch 10/15\n",
      "60928/61178 [============================>.] - ETA: 0s - loss: 0.3891 - auc: 0.7724\n",
      "Epoch 00010: val_auc did not improve from 0.76850\n",
      "61178/61178 [==============================] - 147s 2ms/sample - loss: 0.3893 - auc: 0.7718 - val_loss: 0.4211 - val_auc: 0.7650\n",
      "Epoch 11/15\n",
      "60928/61178 [============================>.] - ETA: 0s - loss: 0.3855 - auc: 0.7757\n",
      "Epoch 00011: val_auc did not improve from 0.76850\n",
      "61178/61178 [==============================] - 147s 2ms/sample - loss: 0.3857 - auc: 0.7754 - val_loss: 0.4098 - val_auc: 0.7663\n",
      "Epoch 12/15\n",
      "60928/61178 [============================>.] - ETA: 0s - loss: 0.3821 - auc: 0.7771\n",
      "Epoch 00012: val_auc did not improve from 0.76850\n",
      "61178/61178 [==============================] - 148s 2ms/sample - loss: 0.3820 - auc: 0.7772 - val_loss: 0.4064 - val_auc: 0.7684\n",
      "Epoch 13/15\n",
      "60928/61178 [============================>.] - ETA: 0s - loss: 0.3804 - auc: 0.7773\n",
      "Epoch 00013: val_auc improved from 0.76850 to 0.77084, saving model to /content/drive/My Drive/LSTM/LSTM_output/model-epochs:013-auc:0.777294-val_auc:0.770837.h5\n",
      "61178/61178 [==============================] - 148s 2ms/sample - loss: 0.3804 - auc: 0.7773 - val_loss: 0.4009 - val_auc: 0.7708\n",
      "Epoch 14/15\n",
      "60928/61178 [============================>.] - ETA: 0s - loss: 0.3785 - auc: 0.7793\n",
      "Epoch 00014: val_auc did not improve from 0.77084\n",
      "61178/61178 [==============================] - 147s 2ms/sample - loss: 0.3786 - auc: 0.7793 - val_loss: 0.3976 - val_auc: 0.7645\n",
      "Epoch 15/15\n",
      "60928/61178 [============================>.] - ETA: 0s - loss: 0.3766 - auc: 0.7818\n",
      "Epoch 00015: val_auc did not improve from 0.77084\n",
      "61178/61178 [==============================] - 146s 2ms/sample - loss: 0.3766 - auc: 0.7818 - val_loss: 0.4025 - val_auc: 0.7689\n",
      "------------------------------------------------------------------------------------------------------------------------\n",
      "+----------------+\n",
      "|EVALUATING MODEL|\n",
      "+----------------+\n",
      "------------------------------------------------------------------------------------------------------------------------\n",
      "\n",
      "32775/32775 [==============================] - 114s 3ms/sample - loss: 0.4035 - auc: 0.7635\n",
      "Test loss: 0.40348086076461115\n",
      "Test accuracy: 0.7635171\n"
     ]
    }
   ],
   "source": [
    "model_3, train_model_3 = final_model(model_input, model_output, train_data, test_data, val_data, opt='adam', epoch=15, batch_size=512, lr=0.001)"
   ]
  },
  {
   "cell_type": "code",
   "execution_count": 82,
   "metadata": {
    "colab": {
     "base_uri": "https://localhost:8080/",
     "height": 34
    },
    "colab_type": "code",
    "id": "A5VXEyogiIHx",
    "outputId": "0e643700-8b62-4b5c-dff8-0f979680febe"
   },
   "outputs": [
    {
     "name": "stdout",
     "output_type": "stream",
     "text": [
      "Saved model to disk\n"
     ]
    }
   ],
   "source": [
    "# serialize model to JSON\n",
    "model_json = model_3.to_json()\n",
    "with open(\"drive/My Drive/LSTM/model_3.json\", \"w\") as json_file:\n",
    "  json_file.write(model_json)\n",
    "    \n",
    "# serialize weights to HDF5\n",
    "model_3.save_weights(\"drive/My Drive/LSTM/model_3_weights.h5\")\n",
    "print(\"Saved model to disk\")"
   ]
  },
  {
   "cell_type": "code",
   "execution_count": 83,
   "metadata": {
    "colab": {
     "base_uri": "https://localhost:8080/",
     "height": 390
    },
    "colab_type": "code",
    "id": "gNVFZC008iuE",
    "outputId": "7a09d312-9077-492b-c339-911a69dea22b"
   },
   "outputs": [
    {
     "data": {
      "image/png": "[encoded data removed]",
      "text/plain": [
       "<Figure size 1008x432 with 2 Axes>"
      ]
     },
     "metadata": {
      "needs_background": "light",
      "tags": []
     },
     "output_type": "display_data"
    }
   ],
   "source": [
    "fig = plt.figure(figsize=(14,6))\n",
    "plt.subplot(1, 2, 1)\n",
    "plt.title('AUC plot')\n",
    "plt.plot(train_model_3.history['auc'], 'r')\n",
    "plt.plot(train_model_3.history['val_auc'], 'b')\n",
    "plt.legend({'Train AUC': 'r', 'Val AUC':'b'})\n",
    "\n",
    "plt.subplot(1, 2, 2)\n",
    "plt.title('Loss plot')\n",
    "plt.plot(train_model_3.history['loss'], 'r')\n",
    "plt.plot(train_model_3.history['val_loss'], 'b')\n",
    "plt.legend({'Train Loss': 'r', 'Val Loss':'b'})\n",
    "plt.show()"
   ]
  },
  {
   "cell_type": "markdown",
   "metadata": {
    "colab": {},
    "colab_type": "code",
    "id": "3RTXa-nt7IYv"
   },
   "source": [
    "## Visualizing Model "
   ]
  },
  {
   "cell_type": "code",
   "execution_count": 84,
   "metadata": {
    "colab": {
     "base_uri": "https://localhost:8080/",
     "height": 1000
    },
    "colab_type": "code",
    "id": "K3BdhV0v8g4g",
    "outputId": "3a3742c8-2290-4ddb-a093-8df5e77684d3"
   },
   "outputs": [
    {
     "data": {
      "image/png": "[encoded data removed]",
      "text/plain": [
       "<IPython.core.display.Image object>"
      ]
     },
     "execution_count": 84,
     "metadata": {
      "tags": []
     },
     "output_type": "execute_result"
    }
   ],
   "source": [
    "from IPython.display import Image\n",
    "import pydot_ng as pydot\n",
    "\n",
    "plot_model(model_3, show_shapes=True, show_layer_names=True, to_file='/content/drive/My Drive/LSTM/model_3.png')"
   ]
  },
  {
   "cell_type": "markdown",
   "metadata": {},
   "source": [
    "## Tensorboard Plots"
   ]
  },
  {
   "cell_type": "markdown",
   "metadata": {},
   "source": [
    "### Tensorboard AUC Plot output\n",
    "![title](auc1.png)"
   ]
  },
  {
   "cell_type": "markdown",
   "metadata": {},
   "source": [
    "### Tensorboard AUC PLOT\n",
    "<img src=\"auc.svg\" width=800 height=600 />"
   ]
  },
  {
   "cell_type": "markdown",
   "metadata": {},
   "source": [
    "### Tensorboard LOSS Plot output \n",
    "![title](loss.png)"
   ]
  },
  {
   "cell_type": "markdown",
   "metadata": {},
   "source": [
    "### Tensorboard LOSS PLOT\n",
    "<img src=\"loss.svg\" width=800 height=600 />"
   ]
  },
  {
   "cell_type": "markdown",
   "metadata": {
    "colab": {},
    "colab_type": "code",
    "id": "mKTeHsT1Ov-R"
   },
   "source": [
    "__We get an AUC score of 76.35 on this LSTM model__"
   ]
  },
  {
   "cell_type": "code",
   "execution_count": null,
   "metadata": {},
   "outputs": [],
   "source": []
  }
 ],
 "metadata": {
  "accelerator": "GPU",
  "colab": {
   "collapsed_sections": [],
   "machine_shape": "hm",
   "name": "LSTM_on_Donors_chooose-Model_3.ipynb",
   "provenance": []
  },
  "kernelspec": {
   "display_name": "Python 3",
   "language": "python",
   "name": "python3"
  },
  "language_info": {
   "codemirror_mode": {
    "name": "ipython",
    "version": 3
   },
   "file_extension": ".py",
   "mimetype": "text/x-python",
   "name": "python",
   "nbconvert_exporter": "python",
   "pygments_lexer": "ipython3",
   "version": "3.6.10"
  }
 },
 "nbformat": 4,
 "nbformat_minor": 1
}
